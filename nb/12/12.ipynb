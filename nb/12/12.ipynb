{
 "cells": [
  {
   "cell_type": "markdown",
   "metadata": {},
   "source": [
    "[![Binder](https://mybinder.org/badge_logo.svg)](https://mybinder.org/v2/gh/reznikmm/ada-howto/advent-2020?filepath=%2Fhome%2Fjovyan%2Fnb%2F12%2F12.ipynb)\n",
    "\n",
    "# Day 12\n",
    "\n",
    "Firstly, we need some standard packages to read the text file."
   ]
  },
  {
   "cell_type": "code",
   "execution_count": 1,
   "metadata": {},
   "outputs": [],
   "source": [
    "with Ada.Text_IO;\n",
    "with Ada.Integer_Text_IO;"
   ]
  },
  {
   "cell_type": "markdown",
   "metadata": {},
   "source": [
    "Let's move two ships. The first one will follow rules from Part I, but the second one - rules from Part II. Both of them will have a common control interface, but different implementation. Firstly let's define the interface as an Ada `interface` type. I hope it's self-explanatory."
   ]
  },
  {
   "cell_type": "code",
   "execution_count": 2,
   "metadata": {},
   "outputs": [],
   "source": [
    "package Controls is\n",
    "   type Control_Interface is limited interface;\n",
    "   procedure Move\n",
    "     (Self  : in out Control_Interface;\n",
    "      North : Natural := 0;\n",
    "      South : Natural := 0;\n",
    "      East  : Natural := 0;\n",
    "      West  : Natural := 0) is abstract;\n",
    "\n",
    "   procedure Turn\n",
    "     (Self  : in out Control_Interface;\n",
    "      Left  : Natural := 0;\n",
    "      Right : Natural := 0) is abstract;\n",
    "\n",
    "   procedure Forward\n",
    "     (Self  : in out Control_Interface;\n",
    "      Value : Positive) is abstract;\n",
    "\n",
    "   function Manhattan_Distance (Self : Control_Interface) return Natural\n",
    "     is abstract;\n",
    "end Controls;"
   ]
  },
  {
   "cell_type": "markdown",
   "metadata": {},
   "source": [
    "Now declare Part I implementation. The ship contains a position `(East, North)` and an `Angle`. The `Move` will modifies the position, the `Turn` - the `Angle`. The `Forward` modifies the position too, taking the `Angle` into account."
   ]
  },
  {
   "cell_type": "code",
   "execution_count": 3,
   "metadata": {},
   "outputs": [],
   "source": [
    "package Part_1 is\n",
    "   type Ship is new Controls.Control_Interface with private;\n",
    "private\n",
    "   type Ship is new Controls.Control_Interface with record\n",
    "      East  : Integer := 0;\n",
    "      North : Integer := 0;\n",
    "      Angle : Integer := 0;\n",
    "   end record;\n",
    "\n",
    "   overriding procedure Move\n",
    "     (Self  : in out Ship;\n",
    "      North : Natural := 0;\n",
    "      South : Natural := 0;\n",
    "      East  : Natural := 0;\n",
    "      West  : Natural := 0);\n",
    "\n",
    "   procedure Turn\n",
    "     (Self  : in out Ship;\n",
    "      Left  : Natural := 0;\n",
    "      Right : Natural := 0);\n",
    "\n",
    "   procedure Forward\n",
    "     (Self  : in out Ship;\n",
    "      Value : Positive);\n",
    "\n",
    "   function Manhattan_Distance (Self : Ship) return Natural;\n",
    "end Part_1;\n",
    "      \n",
    "package body Part_1 is\n",
    "   overriding procedure Move\n",
    "     (Self  : in out Ship;\n",
    "      North : Natural := 0;\n",
    "      South : Natural := 0;\n",
    "      East  : Natural := 0;\n",
    "      West  : Natural := 0) is\n",
    "   begin\n",
    "      Self.North := Self.North + North - South;\n",
    "      Self.East := Self.East + East - West;\n",
    "   end Move;\n",
    "\n",
    "   procedure Turn\n",
    "     (Self  : in out Ship;\n",
    "      Left  : Natural := 0;\n",
    "      Right : Natural := 0) is\n",
    "   begin\n",
    "      Self.Angle := Self.Angle + Left - Right;\n",
    "   end Turn;\n",
    "\n",
    "   procedure Forward\n",
    "     (Self  : in out Ship;\n",
    "      Value : Positive) is\n",
    "   begin\n",
    "      case Self.Angle mod 360 is\n",
    "         when 0 =>\n",
    "            Self.East := Self.East + Value;\n",
    "         when 90 =>\n",
    "            Self.North := Self.North + Value;\n",
    "         when 180 =>\n",
    "            Self.East := Self.East - Value;\n",
    "         when 270 =>\n",
    "            Self.North := Self.North - Value;\n",
    "         when others =>\n",
    "            raise Program_Error;\n",
    "      end case;\n",
    "   end Forward;\n",
    "\n",
    "   function Manhattan_Distance (Self : Ship) return Natural is\n",
    "   begin\n",
    "      return abs Self.East + abs Self.North;\n",
    "   end Manhattan_Distance;\n",
    "end Part_1;"
   ]
  },
  {
   "cell_type": "markdown",
   "metadata": {},
   "source": [
    "The ship for Part II is a bit different. Besides the ship position, we have also the waypoint position now. Both have the same type, so let's define it as a `Position` record type. We don't need `Angle` any more in the ship state. The `Move` and the `Turn` changes waypoint position, while the `Forward` changes ship position."
   ]
  },
  {
   "cell_type": "code",
   "execution_count": 4,
   "metadata": {},
   "outputs": [],
   "source": [
    "package Part_2 is\n",
    "   type Ship is new Controls.Control_Interface with private;\n",
    "private\n",
    "   type Position is record\n",
    "      East  : Integer;\n",
    "      North : Integer;\n",
    "   end record;\n",
    "\n",
    "   type Ship is new Controls.Control_Interface with record\n",
    "      Ship     : Position := (0, 0);\n",
    "      Waypoint : Position := (East => 10, North => 1);\n",
    "   end record;\n",
    "\n",
    "   overriding procedure Move\n",
    "     (Self  : in out Ship;\n",
    "      North : Natural := 0;\n",
    "      South : Natural := 0;\n",
    "      East  : Natural := 0;\n",
    "      West  : Natural := 0);\n",
    "\n",
    "   procedure Turn\n",
    "     (Self  : in out Ship;\n",
    "      Left  : Natural := 0;\n",
    "      Right : Natural := 0);\n",
    "\n",
    "   procedure Forward\n",
    "     (Self  : in out Ship;\n",
    "      Value : Positive);\n",
    "\n",
    "   function Manhattan_Distance (Self : Ship) return Natural;\n",
    "end Part_2;\n",
    "      \n",
    "package body Part_2 is\n",
    "   overriding procedure Move\n",
    "     (Self  : in out Ship;\n",
    "      North : Natural := 0;\n",
    "      South : Natural := 0;\n",
    "      East  : Natural := 0;\n",
    "      West  : Natural := 0) is\n",
    "   begin\n",
    "      Self.Waypoint.North := Self.Waypoint.North + North - South;\n",
    "      Self.Waypoint.East := Self.Waypoint.East + East - West;\n",
    "   end Move;\n",
    "\n",
    "   procedure Turn\n",
    "     (Self  : in out Ship;\n",
    "      Left  : Natural := 0;\n",
    "      Right : Natural := 0) is\n",
    "   begin\n",
    "      case (Left - Right) mod 360 is\n",
    "         when 0 =>\n",
    "            null;\n",
    "         when 90 =>\n",
    "            Self.Waypoint :=\n",
    "              (East  => -Self.Waypoint.North,\n",
    "               North => Self.Waypoint.East);\n",
    "         when 180 =>\n",
    "            Self.Waypoint :=\n",
    "              (East  => -Self.Waypoint.East,\n",
    "               North => -Self.Waypoint.North);\n",
    "         when 270 =>\n",
    "            Self.Waypoint :=\n",
    "              (East  => Self.Waypoint.North,\n",
    "               North => -Self.Waypoint.East);\n",
    "         when others =>\n",
    "            raise Program_Error;\n",
    "      end case;\n",
    "   end Turn;\n",
    "\n",
    "   procedure Forward\n",
    "     (Self  : in out Ship;\n",
    "      Value : Positive) is\n",
    "   begin\n",
    "      Self.Ship :=\n",
    "        (East  => Self.Ship.East  + Self.Waypoint.East * Value,\n",
    "         North => Self.Ship.North + Self.Waypoint.North * Value);\n",
    "   end Forward;\n",
    "\n",
    "   function Manhattan_Distance (Self : Ship) return Natural is\n",
    "   begin\n",
    "      return abs Self.Ship.East + abs Self.Ship.North;\n",
    "   end Manhattan_Distance;\n",
    "end Part_2;"
   ]
  },
  {
   "cell_type": "markdown",
   "metadata": {},
   "source": [
    "Now we can declare two ships to drive them in parallel."
   ]
  },
  {
   "cell_type": "code",
   "execution_count": 5,
   "metadata": {},
   "outputs": [],
   "source": [
    "Ship_1 : Part_1.Ship;\n",
    "Ship_2 : Part_2.Ship;\n",
    "Input  : Ada.Text_IO.File_Type;"
   ]
  },
  {
   "cell_type": "markdown",
   "metadata": {},
   "source": [
    "The drive reads the input and call corresponding methods for both ships."
   ]
  },
  {
   "cell_type": "code",
   "execution_count": 6,
   "metadata": {},
   "outputs": [],
   "source": [
    "Ada.Text_IO.Open (Input, Ada.Text_IO.In_File, \"/home/jovyan/md/12/input\");\n",
    "\n",
    "while not Ada.Text_IO.End_Of_File (Input) loop\n",
    "   declare\n",
    "      Command : Character;\n",
    "      Argument : Positive;\n",
    "   begin\n",
    "      Ada.Text_IO.Get (Input, Command);\n",
    "      Ada.Integer_Text_IO.Get (Input, Argument);\n",
    "         \n",
    "      case Command is\n",
    "         when 'N' =>\n",
    "            Ship_1.Move (North => Argument);\n",
    "            Ship_2.Move (North => Argument);\n",
    "         when 'S' =>\n",
    "            Ship_1.Move (South => Argument);\n",
    "            Ship_2.Move (South => Argument);\n",
    "         when 'E' =>\n",
    "            Ship_1.Move (East => Argument);\n",
    "            Ship_2.Move (East => Argument);\n",
    "         when 'W' =>\n",
    "            Ship_1.Move (West => Argument);\n",
    "            Ship_2.Move (West => Argument);\n",
    "         when 'L' =>\n",
    "            Ship_1.Turn (Left => Argument);\n",
    "            Ship_2.Turn (Left => Argument);\n",
    "         when 'R' =>\n",
    "            Ship_1.Turn (Right => Argument);\n",
    "            Ship_2.Turn (Right => Argument);\n",
    "         when 'F' =>\n",
    "            Ship_1.Forward (Argument);\n",
    "            Ship_2.Forward (Argument);\n",
    "         when others =>\n",
    "            raise Program_Error;\n",
    "      end case;\n",
    "   end;\n",
    "end loop;"
   ]
  },
  {
   "cell_type": "markdown",
   "metadata": {},
   "source": [
    "Let's print results"
   ]
  },
  {
   "cell_type": "code",
   "execution_count": 7,
   "metadata": {},
   "outputs": [
    {
     "data": {
      "text/plain": [
       "        381      28591"
      ]
     },
     "execution_count": 7,
     "metadata": {},
     "output_type": "execute_result"
    }
   ],
   "source": [
    "Ada.Integer_Text_IO.Put (Ship_1.Manhattan_Distance);\n",
    "Ada.Integer_Text_IO.Put (Ship_2.Manhattan_Distance);"
   ]
  },
  {
   "cell_type": "markdown",
   "metadata": {},
   "source": [
    "----\n",
    "[Back to Table of Contents](https://github.com/reznikmm/ada-howto/tree/advent-2020)"
   ]
  }
 ],
 "metadata": {
  "kernelspec": {
   "display_name": "Ada",
   "language": "ada",
   "name": "ada"
  },
  "language_info": {
   "codemirror_mode": "ada",
   "file_extension": ".adb",
   "mimetype": "text/x-ada",
   "name": "Ada",
   "pygments_lexer": "ada",
   "version": "2012"
  }
 },
 "nbformat": 4,
 "nbformat_minor": 4
}
