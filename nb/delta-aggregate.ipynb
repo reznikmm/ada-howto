{
 "cells": [
  {
   "cell_type": "markdown",
   "metadata": {},
   "source": [
    "# Ada 2022: Delta Aggregates\n",
    " \n",
    "This post is a part of [the Ada 2022 series](https://github.com/reznikmm/ada-howto/tree/ce-2021).\n",
    " \n",
    "You can launch this notebook with Jupyter Ada Kernel by clicking this button:\n",
    " \n",
    "[![Binder](https://mybinder.org/badge_logo.svg)](https://mybinder.org/v2/gh/reznikmm/ada-howto/ce-2021?filepath=%2Fhome%2Fjovyan%2Fnb%2Fdelta-aggregate.ipynb)\n",
    "\n",
    " \n",
    " * [About Jupyter Ada Kernel](https://github.com/reznikmm/ada-howto/blob/master/md/Hello_Ada.md).\n",
    "\n",
    "### Ada 2022 activation\n",
    "Firstly, let's activate Ada 2022 support in the compiler.\n",
    "Usually we do this by `-gnat2022` option in compiler command line or in the project file\n",
    "(preferred). But in this notebook we will do this by the `pragma Ada_2022`.\n",
    "Also we will need some predefined packages.\n"
   ]
  },
  {
   "cell_type": "code",
   "execution_count": 1,
   "metadata": {},
   "outputs": [],
   "source": [
    "pragma Ada_2022;\n",
    "\n",
    "with Ada.Text_IO;"
   ]
  },
  {
   "cell_type": "markdown",
   "metadata": {},
   "source": [
    "## Delta aggregate for records\n",
    "Sometimes you need to create a copy of an object with a few modifications. Before Ada 2022 it would involve a dummy object declaration or an aggregate with associations for each property. Without \"a declaration expression\", the dummy object approach doesn't work in contract aspects. A limited component won't work with dummy object approach either. While  re-listing properties in an aggregate could be too hard. \n",
    "\n",
    "So, in Ada 2022, you can use a _delta aggregate_. For instance:"
   ]
  },
  {
   "cell_type": "code",
   "execution_count": 2,
   "metadata": {},
   "outputs": [],
   "source": [
    "type Vector is record\n",
    "   X, Y, Z : Float;\n",
    "end record;\n",
    "\n",
    "Point_1 : constant Vector := (X => 1.0, Y => 2.0, Z => 3.0);\n",
    "Projection_1 : constant Vector := (Point_1 with delta Z => 0.0);"
   ]
  },
  {
   "cell_type": "code",
   "execution_count": 3,
   "metadata": {},
   "outputs": [
    {
     "data": {
      "text/plain": [
       "\n",
       "(X =>  1.00000E+00,\n",
       " Y =>  2.00000E+00,\n",
       " Z =>  0.00000E+00)\n"
      ]
     },
     "execution_count": 3,
     "metadata": {},
     "output_type": "execute_result"
    }
   ],
   "source": [
    "Ada.Text_IO.Put_Line (Projection_1'Image);"
   ]
  },
  {
   "cell_type": "markdown",
   "metadata": {},
   "source": [
    "The more components you have, the more you will like the delta aggregate.\n",
    "\n",
    "## Delta aggregate for arrays\n",
    "\n",
    "There is also the delta aggregate for arrays. You can change array elements with it, but you can't change array bounds. Also, it works only for one-dimention arrays of non-limited component."
   ]
  },
  {
   "cell_type": "code",
   "execution_count": 5,
   "metadata": {},
   "outputs": [],
   "source": [
    "type Vector_3D is array (1 .. 3) of Float;\n",
    "\n",
    "Point_2 : constant Vector_3D := (1.0, 2.0, 3.0);\n",
    "Projection_2 : constant Vector_3D := (Point_2 with delta 3 => 0.0);"
   ]
  },
  {
   "cell_type": "code",
   "execution_count": 6,
   "metadata": {},
   "outputs": [
    {
     "data": {
      "text/plain": [
       "\n",
       "[ 1.00000E+00,  2.00000E+00,  0.00000E+00]\n"
      ]
     },
     "execution_count": 6,
     "metadata": {},
     "output_type": "execute_result"
    }
   ],
   "source": [
    "Ada.Text_IO.Put_Line (Projection_2'Image);"
   ]
  },
  {
   "cell_type": "markdown",
   "metadata": {},
   "source": [
    "You can use parentheses for array aggregates, but you can't use square brackets for record aggregates.\n",
    "\n",
    "## References:\n",
    " * [Ada Reference Manual 2022 Draft](http://www.ada-auth.org/standards/2xaarm/html/AA-4-3-4.html)\n",
    " * [AI12-0127-1](http://www.ada-auth.org/cgi-bin/cvsweb.cgi/AI12s/AI12-0127-1.TXT)\n",
    " ----\n",
    "\n",
    "Do you like this? Support us on [patreon](https://www.patreon.com/ada_ru)!\n",
    "\n",
    "Live discussions: [Telegram](https://t.me/ada_lang), [Matrix](https://matrix.to/#/#ada-lang:matrix.org).\n"
   ]
  }
 ],
 "metadata": {
  "kernelspec": {
   "display_name": "Ada",
   "language": "ada",
   "name": "ada"
  },
  "language_info": {
   "codemirror_mode": "ada",
   "file_extension": ".adb",
   "mimetype": "text/x-ada",
   "name": "Ada",
   "pygments_lexer": "ada",
   "version": "2012"
  }
 },
 "nbformat": 4,
 "nbformat_minor": 4
}
