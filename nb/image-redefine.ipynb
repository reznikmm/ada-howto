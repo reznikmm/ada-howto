{
 "cells": [
  {
   "cell_type": "markdown",
   "metadata": {},
   "source": [
    "# Ada 2020: Redefining the `'Image` attribute\n",
    " \n",
    "This post is a part of [the Ada 2020 series](https://github.com/reznikmm/ada-howto/tree/ce-2021).\n",
    " \n",
    "You can launch this notebook with Jupyter Ada Kernel by clicking this button:\n",
    " \n",
    "[![Binder](https://mybinder.org/badge_logo.svg)](https://mybinder.org/v2/gh/reznikmm/ada-howto/ce-2021?filepath=%2Fhome%2Fjovyan%2Fnb%2Fimage-redefine.ipynb)\n",
    "\n",
    " \n",
    " * [About Jupyter Ada Kernel](https://github.com/reznikmm/ada-howto/blob/master/md/Hello_Ada.md).\n",
    "\n",
    "### Ada 2020 activation\n",
    "Firstly, let's activate Ada 2020 support in the compiler.\n",
    "Usually we do this by `-gnat2022` option in compiler command line or in the project file\n",
    "(preferred). But in this notebook we will do this by the `pragma Ada_2022`.\n",
    "Also we will need the `Text_IO` package."
   ]
  },
  {
   "cell_type": "code",
   "execution_count": 1,
   "metadata": {},
   "outputs": [],
   "source": [
    "pragma Ada_2022;\n",
    "\n",
    "with Ada.Text_IO;"
   ]
  },
  {
   "cell_type": "markdown",
   "metadata": {},
   "source": [
    "In Ada 2020 you can redefine `'Image` attribute for your type. And GNAT Community Edition 2020 does it in its-own (rather ugly from my point of view) way. It differs from ARM 2020 Draft.\n",
    "\n",
    "### A bit of history\n",
    "\n",
    "[Initially](http://www.ada-auth.org/cgi-bin/cvsweb.cgi/ai12s/ai12-0020-1.txt?rev=1.20),\n",
    "ARG used `Ada.Streams.Root_Stream_Type'Class` to write a string image there. I didn't like this approach, because it's too low-level, error prone and nonportable, so I wrote [a proposal](https://github.com/AdaCore/ada-spark-rfcs/pull/17). I proposed to add a new abstraction Output_Text_Stream, where you can write Wide_Wide_String to. No encodings games, not CR/LF handling, no ridiculous UTF8_Strings. I have no explanation why the proposal isn't good enough nor argument why it should be done in a different way. Instead [the Standard](http://www.ada-auth.org/standards/2xaarm/html/AA-4-10.html) was [changed](http://www.ada-auth.org/cgi-bin/cvsweb.cgi/ai12s/ai12-0340-1.txt?rev=1.3) by adding Root_Buffer_Type, where you can `Put` a `Wide_Wide_String` and `Get` a `String` with no idea how it will be converted.\n",
    "\n",
    "### A working example\n",
    "So, how GNAT CE 2020 does this? It does in a complete different way, I would say.\n",
    "\n",
    "Firstly, you need some package:"
   ]
  },
  {
   "cell_type": "code",
   "execution_count": 2,
   "metadata": {},
   "outputs": [],
   "source": [
    "with Ada.Strings.Text_Output.Utils;"
   ]
  },
  {
   "cell_type": "markdown",
   "metadata": {},
   "source": [
    "Then, for your type you will define a new aspect `Put_Image`:"
   ]
  },
  {
   "cell_type": "code",
   "execution_count": 3,
   "metadata": {},
   "outputs": [],
   "source": [
    "package Source_Locations is\n",
    "   type Source_Location is record\n",
    "      Line   : Positive;\n",
    "      Column : Positive;\n",
    "   end record\n",
    "     with Put_Image => My_Put_Image;\n",
    "\n",
    "   procedure My_Put_Image\n",
    "     (Sink  : in out Ada.Strings.Text_Output.Sink'Class;\n",
    "      Value : Source_Location);\n",
    "end Source_Locations;\n",
    "\n",
    "package body Source_Locations is\n",
    "\n",
    "   procedure My_Put_Image\n",
    "     (Sink  : in out Ada.Strings.Text_Output.Sink'Class;\n",
    "      Value : Source_Location)\n",
    "   is\n",
    "      Line   : constant String := Value.Line'Image;\n",
    "      Column : constant String := Value.Column'Image;\n",
    "      Result : constant String :=\n",
    "        Line (2 .. Line'Last) & ':' & Column (2 .. Column'Last);\n",
    "   begin\n",
    "       Ada.Strings.Text_Output.Utils.Put_UTF_8 (Sink, Result);\n",
    "   end My_Put_Image;\n",
    "\n",
    "end Source_Locations;"
   ]
  },
  {
   "cell_type": "markdown",
   "metadata": {},
   "source": [
    "Let's define some object"
   ]
  },
  {
   "cell_type": "code",
   "execution_count": 4,
   "metadata": {},
   "outputs": [],
   "source": [
    "Line_10 : Source_Locations.Source_Location := (Line => 10, Column => 1);"
   ]
  },
  {
   "cell_type": "markdown",
   "metadata": {},
   "source": [
    "Now print its `'Image`"
   ]
  },
  {
   "cell_type": "code",
   "execution_count": 5,
   "metadata": {},
   "outputs": [
    {
     "data": {
      "text/plain": [
       "Text position: 10:1\n"
      ]
     },
     "execution_count": 5,
     "metadata": {},
     "output_type": "execute_result"
    }
   ],
   "source": [
    "Ada.Text_IO.Put_Line (\"Text position: \" & Line_10'Image);"
   ]
  },
  {
   "cell_type": "markdown",
   "metadata": {},
   "source": [
    "Looks like it works. But, will it work in non-UTF-8 environment? No body knows, because it's implementation defined, I guess.\n",
    "\n",
    "### What's the `Sink`?\n",
    "\n",
    "Let's see how `Ada.Strings.Text_Output.Sink` is defined.\n",
    "\n",
    "```Ada\n",
    "   type Sink (<>) is abstract tagged limited private;\n",
    "   type Sink_Access is access all Sink'Class with Storage_Size => 0;\n",
    "   --  Sink is a character sink; you can send characters to a Sink.\n",
    "   --  UTF-8 encoding is used.\n",
    "\n",
    "   procedure Full_Method (S : in out Sink) is abstract;\n",
    "   procedure Flush_Method (S : in out Sink) is abstract;\n",
    "\n",
    "```\n",
    "\n",
    "So,\n",
    " * How to write strings to the `Sink`?\n",
    " * Why should I use UTF-8?\n",
    " * Will it work in non-utf-8 environment?\n",
    " * How to write a muliline image in a portable way?\n",
    " * Will it do a correct Unicode handling for me?\n",
    " * Can I use my-own `Sink` to stream value image into a DB or XML, for instance?\n",
    " * Can we convince the ARG to do this better or just open the discussion to the community? \n",
    "\n",
    "I don't know. Do I like this? Not at all.\n",
    "\n",
    "Do you?\n",
    "\n",
    "## References:\n",
    " * [Ada Reference Manual 2020 Draft](http://www.ada-auth.org/standards/2xaarm/html/AA-4-10.html)\n",
    " * [AI12-0020-1](http://www.ada-auth.org/cgi-bin/cvsweb.cgi/AI12s/AI12-0020-1.TXT)\n",
    " * [AI12-0340-1](http://www.ada-auth.org/cgi-bin/cvsweb.cgi/AI12s/AI12-0340-1.TXT)\n",
    " * [RFC](https://github.com/AdaCore/ada-spark-rfcs/blob/ccde7846cfabd9c465179f80ae27ae634a3d69db/considered/rfc-string_stream_in_put_image.rst) and [comments](https://github.com/AdaCore/ada-spark-rfcs/pull/17)\n",
    " * [Unicode Strings in Ada 2012](https://two-wrongs.com/unicode-strings-in-ada-2012.html)\n",
    "----\n",
    "\n",
    "Do you like this? Support us on [patreon](https://www.patreon.com/ada_ru)!\n",
    "\n",
    "Live discussions: [Telegram](https://t.me/ada_lang), [Matrix](https://matrix.to/#/#ada-lang:matrix.org).\n"
   ]
  }
 ],
 "metadata": {
  "kernelspec": {
   "display_name": "Ada",
   "language": "ada",
   "name": "ada"
  },
  "language_info": {
   "codemirror_mode": "ada",
   "file_extension": ".adb",
   "mimetype": "text/x-ada",
   "name": "Ada",
   "pygments_lexer": "ada",
   "version": "2012"
  }
 },
 "nbformat": 4,
 "nbformat_minor": 4
}
