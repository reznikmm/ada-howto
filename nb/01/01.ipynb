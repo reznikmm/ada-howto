{
 "cells": [
  {
   "cell_type": "markdown",
   "metadata": {},
   "source": [
    "[![Binder](https://mybinder.org/badge_logo.svg)](https://mybinder.org/v2/gh/reznikmm/ada-howto/advent-2020?filepath=%2Fhome%2Fjovyan%2Fnb%2F01%2F01.ipynb)\n",
    "\n",
    "# Day 01\n",
    "\n",
    "Firstly, we need standard packages to read the text file. We also use a hashed set to store input values."
   ]
  },
  {
   "cell_type": "code",
   "execution_count": 1,
   "metadata": {},
   "outputs": [],
   "source": [
    "with Ada.Text_IO;\n",
    "with Ada.Integer_Text_IO;\n",
    "with Ada.Containers.Hashed_Sets;"
   ]
  },
  {
   "cell_type": "markdown",
   "metadata": {},
   "source": [
    "Now declare an input file object to read it latter."
   ]
  },
  {
   "cell_type": "code",
   "execution_count": 2,
   "metadata": {},
   "outputs": [],
   "source": [
    "Input : Ada.Text_IO.File_Type;"
   ]
  },
  {
   "cell_type": "markdown",
   "metadata": {},
   "source": [
    "Let's make a Positive_Sets as a hashed set instance."
   ]
  },
  {
   "cell_type": "code",
   "execution_count": 3,
   "metadata": {},
   "outputs": [],
   "source": [
    "function Hash (Value : Positive) return Ada.Containers.Hash_Type is\n",
    "  (Ada.Containers.Hash_Type'Mod (Value));\n",
    "\n",
    "package Positive_Sets is new Ada.Containers.Hashed_Sets\n",
    "  (Element_Type        => Positive,\n",
    "   Hash                => Hash,\n",
    "   Equivalent_Elements => \"=\");\n",
    "\n",
    "Values : Positive_Sets.Set;"
   ]
  },
  {
   "cell_type": "markdown",
   "metadata": {},
   "source": [
    "Now we read all input into the `Values` set."
   ]
  },
  {
   "cell_type": "code",
   "execution_count": 4,
   "metadata": {},
   "outputs": [],
   "source": [
    "Ada.Text_IO.Open (Input, Ada.Text_IO.In_File, \"/home/jovyan/md/01/input\");\n",
    "\n",
    "while not Ada.Text_IO.End_Of_File (Input) loop\n",
    "   declare\n",
    "      Value : Positive;\n",
    "   begin\n",
    "      Ada.Integer_Text_IO.Get (Input, Value);\n",
    "      Values.Insert (Value);\n",
    "   end;\n",
    "end loop;"
   ]
  },
  {
   "cell_type": "markdown",
   "metadata": {},
   "source": [
    "Now we iterates overvalues and check if we also have (2020 - X) in Values:"
   ]
  },
  {
   "cell_type": "code",
   "execution_count": 5,
   "metadata": {},
   "outputs": [
    {
     "data": {
      "text/plain": [
       "     197451"
      ]
     },
     "execution_count": 5,
     "metadata": {},
     "output_type": "execute_result"
    }
   ],
   "source": [
    "for X of Values loop\n",
    "   if Values.Contains (2020 - X) then\n",
    "      Ada.Integer_Text_IO.Put (X * (2020 - X));\n",
    "      exit;\n",
    "   end if;\n",
    "end loop;"
   ]
  },
  {
   "cell_type": "markdown",
   "metadata": {},
   "source": [
    "## Part 2\n",
    "\n",
    "Now we append one more nesting loop."
   ]
  },
  {
   "cell_type": "code",
   "execution_count": 6,
   "metadata": {},
   "outputs": [
    {
     "data": {
      "text/plain": [
       "  138233720"
      ]
     },
     "execution_count": 6,
     "metadata": {},
     "output_type": "execute_result"
    }
   ],
   "source": [
    "Loop_X:\n",
    "for X of Values loop\n",
    "   for Y of Values loop\n",
    "      declare\n",
    "         Z : constant Integer := 2020 - X - Y;\n",
    "      begin\n",
    "         if Z > 0 and then Values.Contains (Z) then\n",
    "            Ada.Integer_Text_IO.Put (X * Y * Z);\n",
    "            exit Loop_X;\n",
    "         end if;\n",
    "      end;\n",
    "   end loop;\n",
    "end loop Loop_X;"
   ]
  },
  {
   "cell_type": "markdown",
   "metadata": {},
   "source": [
    "As [John Perry](https://github.com/johnperry-math) noted, this won't work if the data appears more than once. In this case `Values.Insert (Value);` will fail."
   ]
  }
 ],
 "metadata": {
  "kernelspec": {
   "display_name": "Ada",
   "language": "ada",
   "name": "ada"
  },
  "language_info": {
   "codemirror_mode": "ada",
   "file_extension": ".adb",
   "mimetype": "text/x-ada",
   "name": "Ada",
   "pygments_lexer": "ada",
   "version": "2012"
  }
 },
 "nbformat": 4,
 "nbformat_minor": 4
}
