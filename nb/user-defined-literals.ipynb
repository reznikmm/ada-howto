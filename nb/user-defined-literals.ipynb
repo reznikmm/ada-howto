{
 "cells": [
  {
   "cell_type": "markdown",
   "metadata": {},
   "source": [
    "# Ada 2022: User-Defined Literals\n",
    " \n",
    "This post is a part of [the Ada 2022 series](https://github.com/reznikmm/ada-howto/tree/ce-2021).\n",
    " \n",
    "You can launch this notebook with Jupyter Ada Kernel by clicking this button:\n",
    " \n",
    "[![Binder](https://mybinder.org/badge_logo.svg)](https://mybinder.org/v2/gh/reznikmm/ada-howto/ce-2021?filepath=%2Fhome%2Fjovyan%2Fnb%2Fuser-defined-literals.ipynb)\n",
    "\n",
    " \n",
    " * [About Jupyter Ada Kernel](https://github.com/reznikmm/ada-howto/blob/master/md/Hello_Ada.md).\n",
    "\n",
    "### Ada 2022 activation\n",
    "Firstly, let's activate Ada 2022 support in the compiler.\n",
    "Usually we do this by `-gnat2022` option in compiler command line or in the project file\n",
    "(preferred). But in this notebook we will do this by the `pragma Ada_2022`.\n",
    "Also we will need some predefined packages."
   ]
  },
  {
   "cell_type": "code",
   "execution_count": 1,
   "metadata": {},
   "outputs": [],
   "source": [
    "pragma Ada_2022;\n",
    "\n",
    "with Ada.Wide_Wide_Text_IO;\n",
    "with Ada.Characters.Conversions;"
   ]
  },
  {
   "cell_type": "markdown",
   "metadata": {},
   "source": [
    "### New aspects\n",
    "In Ada 2022 you can use string, integer or real literals with your type. To do so just specify one or more new aspects:\n",
    " * `Integer_Literal`\n",
    " * `Real_Literal`\n",
    " * `String_Literal`\n",
    " \n",
    "For the demo let's define all three of them for some simple type and see how it works. We will use a `Wide_Wide_String` component for internal representation:"
   ]
  },
  {
   "cell_type": "code",
   "execution_count": 2,
   "metadata": {},
   "outputs": [],
   "source": [
    "type My_Type (Length : Natural) is record\n",
    "    Value : Wide_Wide_String (1 .. Length);\n",
    "end record\n",
    "  with String_Literal => From_String,\n",
    "    Real_Literal      => From_Real,\n",
    "    Integer_Literal   => From_Integer;\n",
    "\n",
    "function From_String (Value : Wide_Wide_String) return My_Type is\n",
    "  ((Length => Value'Length, Value => Value));\n",
    "\n",
    "function From_Real (Value : String) return My_Type is\n",
    "  ((Length => Value'Length,\n",
    "    Value  => Ada.Characters.Conversions.To_Wide_Wide_String (Value)));\n",
    "   \n",
    "function From_Integer (Value : String) return My_Type renames From_Real;\n"
   ]
  },
  {
   "cell_type": "markdown",
   "metadata": {},
   "source": [
    "Let's define a `Print` shortcut procedure:"
   ]
  },
  {
   "cell_type": "code",
   "execution_count": 3,
   "metadata": {},
   "outputs": [],
   "source": [
    "procedure Print (Self : My_Type) is\n",
    "begin\n",
    "   Ada.Wide_Wide_Text_IO.Put_Line (Self.Value);\n",
    "end Print;"
   ]
  },
  {
   "cell_type": "markdown",
   "metadata": {},
   "source": [
    "Let's see how the compiler converts literals for us:"
   ]
  },
  {
   "cell_type": "code",
   "execution_count": 4,
   "metadata": {},
   "outputs": [
    {
     "data": {
      "text/plain": [
       "Test \"string\"\n",
       "123\n",
       "16#DEAD_BEAF#\n",
       "2.99_792_458e+8\n"
      ]
     },
     "execution_count": 4,
     "metadata": {},
     "output_type": "execute_result"
    }
   ],
   "source": [
    "Print (\"Test \"\"string\"\"\");\n",
    "Print (123);\n",
    "Print (16#DEAD_BEAF#);\n",
    "Print (2.99_792_458e+8);"
   ]
  },
  {
   "cell_type": "markdown",
   "metadata": {},
   "source": [
    "As you see real and integer literals are presented in exact form, while for string literals compiler drops surrounding quotes and escapes. The compiler translates these literals into function calls.\n",
    "\n",
    "### Turn Ada into JavaScript\n",
    "\n",
    "Do you know that `'5'+3` in JavaScript is `53`?\n",
    "\n",
    "    > '5'+3\n",
    "    '53'\n",
    "\n",
    "\n",
    "Now we can get the same success with Ada! But before we need to define a custom `+` operator:"
   ]
  },
  {
   "cell_type": "code",
   "execution_count": 5,
   "metadata": {},
   "outputs": [],
   "source": [
    "function \"+\" (Left, Right : My_Type) return My_Type is\n",
    "  (Left.Length + Right.Length, Left.Value & Right.Value);"
   ]
  },
  {
   "cell_type": "markdown",
   "metadata": {},
   "source": [
    "See how it works:"
   ]
  },
  {
   "cell_type": "code",
   "execution_count": 6,
   "metadata": {},
   "outputs": [
    {
     "data": {
      "text/plain": [
       "53\n"
      ]
     },
     "execution_count": 6,
     "metadata": {},
     "output_type": "execute_result"
    }
   ],
   "source": [
    "Print (\"5\" + 3);"
   ]
  },
  {
   "cell_type": "markdown",
   "metadata": {},
   "source": [
    "## References:\n",
    " * [Ada Reference Manual 2022 Draft](http://www.ada-auth.org/standards/2xaarm/html/AA-4-2-1.html)\n",
    " * [AI12-0249-1](http://www.ada-auth.org/cgi-bin/cvsweb.cgi/AI12s/AI12-0249-1.TXT)\n",
    " * [AI12-0342-1](http://www.ada-auth.org/cgi-bin/cvsweb.cgi/AI12s/AI12-0342-1.TXT)\n",
    " ----\n",
    "\n",
    "Do you like this? Support us on [patreon](https://www.patreon.com/ada_ru)!\n",
    "\n",
    "Live discussions: [Telegram](https://t.me/ada_lang), [Matrix](https://matrix.to/#/#ada-lang:matrix.org).\n"
   ]
  }
 ],
 "metadata": {
  "kernelspec": {
   "display_name": "Ada",
   "language": "ada",
   "name": "ada"
  },
  "language_info": {
   "codemirror_mode": "ada",
   "file_extension": ".adb",
   "mimetype": "text/x-ada",
   "name": "Ada",
   "pygments_lexer": "ada",
   "version": "2012"
  }
 },
 "nbformat": 4,
 "nbformat_minor": 4
}
