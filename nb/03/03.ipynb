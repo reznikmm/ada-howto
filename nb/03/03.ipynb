{
 "cells": [
  {
   "cell_type": "markdown",
   "metadata": {},
   "source": [
    "[![Binder](https://mybinder.org/badge_logo.svg)](https://mybinder.org/v2/gh/reznikmm/ada-howto/advent-2020?filepath=%2Fhome%2Fjovyan%2Fnb%2F03%2F03.ipynb)\n",
    "\n",
    "# Day 3\n",
    "\n",
    "Firstly, we need standard packages to read the text file."
   ]
  },
  {
   "cell_type": "code",
   "execution_count": 1,
   "metadata": {},
   "outputs": [],
   "source": [
    "with Ada.Text_IO;"
   ]
  },
  {
   "cell_type": "markdown",
   "metadata": {},
   "source": [
    "Let's declare Toboggan as a type, because we need several of them to descent in the second part. The toboggan is configured by a slope. The slope is DX/DY rational number. Besides this the toboggan will save its current position as Offset_X, Offset_Y. While Offset_X changes from 0 till map width, the Offset_Y changes from 0 till DY - 1, because we process map in rows going in Y direction. We also keep tree count."
   ]
  },
  {
   "cell_type": "code",
   "execution_count": 2,
   "metadata": {},
   "outputs": [],
   "source": [
    "type Toboggan (DX, DY : Positive := 1) is record\n",
    "   Offset_X : Natural := 0;\n",
    "   Offset_Y : Natural := 0;\n",
    "   Trees    : Natural := 0;\n",
    "end record;"
   ]
  },
  {
   "cell_type": "markdown",
   "metadata": {},
   "source": [
    "Now lets having one row of the map we change the tobbagan state:"
   ]
  },
  {
   "cell_type": "code",
   "execution_count": 3,
   "metadata": {},
   "outputs": [],
   "source": [
    "procedure Step_Y\n",
    "  (Self : in out Toboggan;\n",
    "   Map  : String) is\n",
    "begin\n",
    "   if Self.Offset_Y = 0 and Map (Map'First + Self.Offset_X) = '#' then\n",
    "      Self.Trees := Self.Trees + 1;\n",
    "   end if;\n",
    "      \n",
    "   Self.Offset_Y := Self.Offset_Y + 1;\n",
    "     \n",
    "   if Self.Offset_Y = Self.DY then\n",
    "      Self.Offset_Y := 0;\n",
    "      Self.Offset_X := (Self.Offset_X + Self.DX) mod Map'Length;\n",
    "   end if;\n",
    "end Step_Y;"
   ]
  },
  {
   "cell_type": "markdown",
   "metadata": {},
   "source": [
    "Rest part is simple. Let's configure 5 toboggans:"
   ]
  },
  {
   "cell_type": "code",
   "execution_count": 4,
   "metadata": {},
   "outputs": [],
   "source": [
    "Toboggans : array (Positive range <>) of Toboggan :=\n",
    "  (1 => (DX => 1, DY => 1, others => <>),\n",
    "   2 => (DX => 3, DY => 1, others => <>),\n",
    "   3 => (DX => 5, DY => 1, others => <>),\n",
    "   4 => (DX => 7, DY => 1, others => <>),\n",
    "   5 => (DX => 1, DY => 2, others => <>));"
   ]
  },
  {
   "cell_type": "markdown",
   "metadata": {},
   "source": [
    "And run them all over the map as we read it:"
   ]
  },
  {
   "cell_type": "code",
   "execution_count": 5,
   "metadata": {},
   "outputs": [],
   "source": [
    "declare\n",
    "   Input : Ada.Text_IO.File_Type;\n",
    "begin\n",
    "   Ada.Text_IO.Open (Input, Ada.Text_IO.In_File, \"/home/jovyan/md/03/input\");\n",
    "\n",
    "   while not Ada.Text_IO.End_Of_File (Input) loop\n",
    "      declare\n",
    "         Line : String := Ada.Text_IO.Get_Line (Input);\n",
    "      begin\n",
    "         for T of Toboggans loop\n",
    "            Step_Y (T, Line);\n",
    "         end loop;\n",
    "      end;\n",
    "   end loop;\n",
    "end;"
   ]
  },
  {
   "cell_type": "markdown",
   "metadata": {},
   "source": [
    "Now we print tree counts of each toboggan and a final result:"
   ]
  },
  {
   "cell_type": "code",
   "execution_count": 6,
   "metadata": {},
   "outputs": [
    {
     "data": {
      "text/plain": [
       " 61\n",
       " 257\n",
       " 64\n",
       " 47\n",
       " 37\n",
       " 1744787392\n"
      ]
     },
     "execution_count": 6,
     "metadata": {},
     "output_type": "execute_result"
    }
   ],
   "source": [
    "declare\n",
    "   Result : Positive := 1;\n",
    "begin\n",
    "   for T of Toboggans loop\n",
    "      Ada.Text_IO.Put_Line (T.Trees'Image);\n",
    "      Result := Result * T.Trees;\n",
    "   end loop;\n",
    "      \n",
    "   Ada.Text_IO.Put_Line (Result'Image);\n",
    "end;"
   ]
  }
 ],
 "metadata": {
  "kernelspec": {
   "display_name": "Ada",
   "language": "ada",
   "name": "ada"
  },
  "language_info": {
   "codemirror_mode": "ada",
   "file_extension": ".adb",
   "mimetype": "text/x-ada",
   "name": "Ada",
   "pygments_lexer": "ada",
   "version": "2012"
  }
 },
 "nbformat": 4,
 "nbformat_minor": 4
}
