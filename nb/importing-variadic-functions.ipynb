{
 "cells": [
  {
   "cell_type": "markdown",
   "metadata": {},
   "source": [
    "# Ada 2020: Interfacing C variadic functions\n",
    " \n",
    "This post is a part of [the Ada 2020 series](https://github.com/reznikmm/ada-howto/tree/ce-2021).\n",
    " \n",
    "You can launch this notebook with Jupyter Ada Kernel by clicking this button:\n",
    " \n",
    "[![Binder](https://mybinder.org/badge_logo.svg)](https://mybinder.org/v2/gh/reznikmm/ada-howto/ce-2021?filepath=%2Fhome%2Fjovyan%2Fnb%2Fimporting-variadic-functions.ipynb)\n",
    "\n",
    " \n",
    " * [About Jupyter Ada Kernel](https://github.com/reznikmm/ada-howto/blob/master/md/Hello_Ada.md).\n",
    "\n",
    "### Ada 2020 activation\n",
    "Firstly, let's activate Ada 2020 support in the compiler.\n",
    "Usually we do this by `-gnat2022` option in compiler command line or in the project file\n",
    "(preferred). But in this notebook we will do this by the `pragma Ada_2022`.\n",
    "Also we will need some predefined packages."
   ]
  },
  {
   "cell_type": "code",
   "execution_count": 1,
   "metadata": {},
   "outputs": [],
   "source": [
    "pragma Ada_2022;\n",
    "\n",
    "with Ada.Numerics;\n",
    "with Ada.Text_IO;\n",
    "with Interfaces.C;\n"
   ]
  },
  {
   "cell_type": "markdown",
   "metadata": {},
   "source": [
    "# Variadic functions\n",
    "In C, [variadic functions](https://en.cppreference.com/w/c/variadic) take a variable number of arguments and have an ellipsis as the last parameter of the declaration. The typical example is\n",
    "\n",
    "```C\n",
    "int printf(const char* format, ...);\n",
    "```\n",
    "\n",
    "Usually, in Ada, we bind such a function with required parameters:"
   ]
  },
  {
   "cell_type": "code",
   "execution_count": 2,
   "metadata": {},
   "outputs": [],
   "source": [
    "procedure printf_double\n",
    "  (format : Interfaces.C.char_array;\n",
    "   value  : Interfaces.C.double)\n",
    "     with Import,\n",
    "       Convention    => C,\n",
    "       External_Name => \"printf\";"
   ]
  },
  {
   "cell_type": "markdown",
   "metadata": {},
   "source": [
    "Then we call it as usual Ada function:"
   ]
  },
  {
   "cell_type": "code",
   "execution_count": 3,
   "metadata": {},
   "outputs": [
    {
     "data": {
      "text/plain": [
       "Pi=3.141593"
      ]
     },
     "execution_count": 3,
     "metadata": {},
     "output_type": "execute_result"
    }
   ],
   "source": [
    "printf_double (Interfaces.C.To_C (\"Pi=%f\"), Ada.Numerics.π);"
   ]
  },
  {
   "cell_type": "markdown",
   "metadata": {},
   "source": [
    "Unfortunately, often it just doesn't work this way. Some [ABI](https://en.wikipedia.org/wiki/Application_binary_interface) use different calling conventions for variadic functions. For instance [the AMD64 ABI](https://software.intel.com/sites/default/files/article/402129/mpx-linux64-abi.pdf) specifies:\n",
    "\n",
    "> *  `%rax` - with variable arguments passes information about the number of vector registers used\n",
    ">\n",
    "> *  `%xmm0–%xmm1` - used to pass and return floating point arguments\n",
    "\n",
    "This means, if we write (in C):\n",
    "\n",
    "```C\n",
    "printf(\"%d\", 5);\n",
    "```\n",
    "\n",
    "Then the compiler will place 0 into `%rax`, because we don't pass any float argument (but we could). And in Ada, if we write:\n",
    "\n",
    "```ada\n",
    "procedure printf_int\n",
    "  (format : Interfaces.C.char_array;\n",
    "   value  : Interfaces.C.int)\n",
    "     with Import,\n",
    "       Convention    => C,\n",
    "       External_Name => \"printf\";\n",
    "\n",
    "printf_int (Interfaces.C.To_C (\"d=%d\"), 5);\n",
    "```\n",
    "\n",
    "The Ada compiler will not use `%rax` register at all (since you can't put any float argument, because there is no float parameter in the Ada wrapper function declaration). As result, you will get crash, stack corruption or any other undefined behavior.\n",
    "\n",
    "To fix this, Ada 2020 provides a new family of calling convention names - `C_Variadic_`_N_:\n",
    "\n",
    "> The convention\n",
    "> `C_Variadic_`*n* is the calling convention for a variadic C function\n",
    "> taking *n* fixed parameters and then a variable number of\n",
    "> additional parameters.\n",
    "\n",
    "So, the right way to bind `printf` function is:"
   ]
  },
  {
   "cell_type": "code",
   "execution_count": 4,
   "metadata": {},
   "outputs": [],
   "source": [
    "procedure printf_int\n",
    "  (format : Interfaces.C.char_array;\n",
    "   value  : Interfaces.C.int)\n",
    "     with Import,\n",
    "       Convention    => C_Variadic_1,\n",
    "       External_Name => \"printf\";"
   ]
  },
  {
   "cell_type": "markdown",
   "metadata": {},
   "source": [
    "And the next call won't crash on any supported platform:"
   ]
  },
  {
   "cell_type": "code",
   "execution_count": 5,
   "metadata": {},
   "outputs": [
    {
     "data": {
      "text/plain": [
       "d=5"
      ]
     },
     "execution_count": 5,
     "metadata": {},
     "output_type": "execute_result"
    }
   ],
   "source": [
    "printf_int (Interfaces.C.To_C (\"d=%d\"), 5);"
   ]
  },
  {
   "cell_type": "markdown",
   "metadata": {},
   "source": [
    "First time, I encountered this problem for [the Matreshka SQLite](https://forge.ada-ru.org/matreshka) binding on PowerPC, because it calls:\n",
    "\n",
    "```C\n",
    "int sqlite3_config(int, ...);\n",
    "```\n",
    "\n",
    "Then it failed to work with:\n",
    "\n",
    "```C\n",
    "void syslog(int priority, const char *format, ...);\n",
    "```\n",
    "\n",
    "in [a daemon library](https://www.ada-ru.org/ada-daemons2)(the article in Russian).\n",
    "\n",
    "So, I consider this as a very useful fix for Ada-to-C interfacing facility.\n",
    "\n",
    "\n",
    "## References:\n",
    " * [Ada Reference Manual 2020 Draft](http://www.ada-auth.org/standards/2xaarm/html/AA-B-3.html)\n",
    " * [AI12-0028-1](http://www.ada-auth.org/cgi-bin/cvsweb.cgi/AI12s/AI12-0028-1.TXT)\n",
    " * [StackOverflow question](https://stackoverflow.com/questions/35819037/variadic-function-in-ada-c-ada-binding)\n",
    " ----\n",
    "\n",
    "Do you like this? Support us on [patreon](https://www.patreon.com/ada_ru)!\n",
    "\n",
    "Live discussions: [Telegram](https://t.me/ada_lang), [Matrix](https://matrix.to/#/#ada-lang:matrix.org).\n"
   ]
  }
 ],
 "metadata": {
  "kernelspec": {
   "display_name": "Ada",
   "language": "ada",
   "name": "ada"
  },
  "language_info": {
   "codemirror_mode": "ada",
   "file_extension": ".adb",
   "mimetype": "text/x-ada",
   "name": "Ada",
   "pygments_lexer": "ada",
   "version": "2012"
  }
 },
 "nbformat": 4,
 "nbformat_minor": 4
}
