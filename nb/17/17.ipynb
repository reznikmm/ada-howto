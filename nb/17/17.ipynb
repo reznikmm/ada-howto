{
 "cells": [
  {
   "cell_type": "markdown",
   "metadata": {},
   "source": [
    "[![Binder](https://mybinder.org/badge_logo.svg)](https://mybinder.org/v2/gh/reznikmm/ada-howto/advent-2020?filepath=%2Fhome%2Fjovyan%2Fnb%2F17%2F17.ipynb)\n",
    "\n",
    "# Day 17\n",
    "We need a standard package to read the input."
   ]
  },
  {
   "cell_type": "code",
   "execution_count": 1,
   "metadata": {},
   "outputs": [],
   "source": [
    "with Ada.Text_IO;"
   ]
  },
  {
   "cell_type": "markdown",
   "metadata": {},
   "source": [
    "Define a space grid:"
   ]
  },
  {
   "cell_type": "code",
   "execution_count": 2,
   "metadata": {},
   "outputs": [],
   "source": [
    "Initial : constant := 8;\n",
    "Turns : constant := 6;\n",
    "\n",
    "Max : constant := Initial + Turns;\n",
    "Min : constant := -Turns;\n",
    "\n",
    "type Space_Grid is array\n",
    "  (Min .. Max, Min .. Max, Min .. Max, Min .. Max) of Boolean;\n",
    "\n",
    "Space : Space_Grid := (others => (others => (others => (others => False))));\n",
    "\n",
    "Input : Ada.Text_IO.File_Type;"
   ]
  },
  {
   "cell_type": "markdown",
   "metadata": {},
   "source": [
    "A one game round cycle:"
   ]
  },
  {
   "cell_type": "code",
   "execution_count": 3,
   "metadata": {},
   "outputs": [],
   "source": [
    "procedure Round (Space : in out Space_Grid) is\n",
    "   Copy : constant Space_Grid := Space;\n",
    "\n",
    "   function Neighbors (X, Y, Z, U : Integer) return Natural is\n",
    "      Result : Natural := 0;\n",
    "   begin\n",
    "      for DX in Integer'Max (Copy'First (1), X - 1) ..\n",
    "                Integer'Min (Copy'Last (1), X + 1)\n",
    "      loop\n",
    "         for DY in Integer'Max (Copy'First (2), Y - 1) ..\n",
    "                   Integer'Min (Copy'Last (2), Y + 1)\n",
    "         loop\n",
    "            for DZ in Integer'Max (Copy'First (3), Z - 1) ..\n",
    "                      Integer'Min (Copy'Last (3), Z + 1)\n",
    "            loop\n",
    "               for DU in Integer'Max (Copy'First (4), U - 1) ..\n",
    "                         Integer'Min (Copy'Last (4), U + 1)\n",
    "               loop\n",
    "                  Result := Result + Boolean'Pos (Copy (DX, DY, DZ, DU));\n",
    "               end loop;\n",
    "            end loop;\n",
    "         end loop;\n",
    "      end loop;\n",
    "\n",
    "      return Result - Boolean'Pos (Copy (X, Y, Z, U));\n",
    "   end Neighbors;\n",
    "begin\n",
    "   for X in Copy'Range (1) loop\n",
    "      for Y in Copy'Range (2) loop\n",
    "         for Z in Copy'Range (3) loop\n",
    "            for U in Copy'Range (4) loop\n",
    "               if Copy (X, Y, Z, U) and then\n",
    "                 Neighbors (X, Y, Z, U) not in 2 | 3\n",
    "               then\n",
    "                  Space (X, Y, Z, U) := False;\n",
    "               elsif not Copy (X, Y, Z, U) and then\n",
    "                 Neighbors (X, Y, Z, U) = 3\n",
    "               then\n",
    "                  Space (X, Y, Z, U) := True;\n",
    "               end if;\n",
    "            end loop;\n",
    "         end loop;\n",
    "      end loop;\n",
    "   end loop;\n",
    "end Round;"
   ]
  },
  {
   "cell_type": "markdown",
   "metadata": {},
   "source": [
    "Read the input"
   ]
  },
  {
   "cell_type": "code",
   "execution_count": 4,
   "metadata": {},
   "outputs": [],
   "source": [
    "Ada.Text_IO.Open (Input, Ada.Text_IO.In_File, \"/home/jovyan/md/17/input\");\n",
    "\n",
    "for Y in 1 .. Initial loop\n",
    "   declare\n",
    "      Line : constant String := Ada.Text_IO.Get_Line (Input);\n",
    "   begin\n",
    "      pragma Assert (Line'Length = Initial);\n",
    "      for X in 1 .. Initial loop\n",
    "         Space (X, Y, 1, 1) := Line (X) = '#';\n",
    "      end loop;\n",
    "   end;\n",
    "end loop;"
   ]
  },
  {
   "cell_type": "markdown",
   "metadata": {},
   "source": [
    "Loop over all rounds"
   ]
  },
  {
   "cell_type": "code",
   "execution_count": 5,
   "metadata": {},
   "outputs": [],
   "source": [
    "for J in 1 .. Turns loop\n",
    "   Round (Space);\n",
    "end loop;"
   ]
  },
  {
   "cell_type": "markdown",
   "metadata": {},
   "source": [
    "And print the result"
   ]
  },
  {
   "cell_type": "code",
   "execution_count": 6,
   "metadata": {},
   "outputs": [
    {
     "data": {
      "text/plain": [
       " 2572\n"
      ]
     },
     "execution_count": 6,
     "metadata": {},
     "output_type": "execute_result"
    }
   ],
   "source": [
    "declare\n",
    "   Result : Natural := 0;\n",
    "begin\n",
    "   for X of Space loop\n",
    "      Result := Result + Boolean'Pos (X);\n",
    "   end loop;\n",
    "   Ada.Text_IO.Put_Line (Result'Image);\n",
    "end;"
   ]
  },
  {
   "cell_type": "markdown",
   "metadata": {},
   "source": [
    "----\n",
    "[Back to Table of Contents](https://github.com/reznikmm/ada-howto/tree/advent-2020) "
   ]
  }
 ],
 "metadata": {
  "kernelspec": {
   "display_name": "Ada",
   "language": "ada",
   "name": "ada"
  },
  "language_info": {
   "codemirror_mode": "ada",
   "file_extension": ".adb",
   "mimetype": "text/x-ada",
   "name": "Ada",
   "pygments_lexer": "ada",
   "version": "2012"
  }
 },
 "nbformat": 4,
 "nbformat_minor": 4
}
