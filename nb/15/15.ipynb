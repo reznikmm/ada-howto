{
 "cells": [
  {
   "cell_type": "markdown",
   "metadata": {},
   "source": [
    "[![Binder](https://mybinder.org/badge_logo.svg)](https://mybinder.org/v2/gh/reznikmm/ada-howto/advent-2020?filepath=%2Fhome%2Fjovyan%2Fnb%2F15%2F15.ipynb)\n",
    "\n",
    "# Day 15\n",
    "\n",
    "We will use a lot of space in the primary stack. Let's increase default stack size with next magic by specifying a linker option:"
   ]
  },
  {
   "cell_type": "code",
   "execution_count": 1,
   "metadata": {},
   "outputs": [
    {
     "data": {
      "text/plain": [
       "Now -largs options are: -Wl,--defsym=__stack_size=130000000"
      ]
     },
     "execution_count": 1,
     "metadata": {},
     "output_type": "execute_result"
    }
   ],
   "source": [
    "%largs -Wl,--defsym=__stack_size=130000000"
   ]
  },
  {
   "cell_type": "markdown",
   "metadata": {},
   "source": [
    "Firstly, we need a standard package to write the result."
   ]
  },
  {
   "cell_type": "code",
   "execution_count": 2,
   "metadata": {},
   "outputs": [],
   "source": [
    "with Ada.Text_IO;"
   ]
  },
  {
   "cell_type": "markdown",
   "metadata": {},
   "source": [
    "Let's define a dedicated type to count turns of the game. With it compiler will have more ways to check errors in the program. A dedicated value will represents cases when a value was never seen before."
   ]
  },
  {
   "cell_type": "code",
   "execution_count": 3,
   "metadata": {},
   "outputs": [],
   "source": [
    "type Turn is new Positive;\n",
    "Never : constant Turn := Turn'Last;"
   ]
  },
  {
   "cell_type": "markdown",
   "metadata": {},
   "source": [
    "The `Last_Seen` array will keep a turn number for each seen value."
   ]
  },
  {
   "cell_type": "code",
   "execution_count": 4,
   "metadata": {},
   "outputs": [],
   "source": [
    "Target : constant := 30_000_000;\n",
    "\n",
    "Last_Seen : array (0 .. Target) of Turn :=\n",
    "  (16 => 1, 12 => 2, 1  => 3, 0  => 4, 15 => 5, 7  => 6,\n",
    "   others => Never);\n"
   ]
  },
  {
   "cell_type": "markdown",
   "metadata": {},
   "source": [
    "A dedicated `Current` variable keeps current value."
   ]
  },
  {
   "cell_type": "code",
   "execution_count": 5,
   "metadata": {},
   "outputs": [],
   "source": [
    "Current : Natural := 11;"
   ]
  },
  {
   "cell_type": "markdown",
   "metadata": {},
   "source": [
    "Now we are ready to play the game:"
   ]
  },
  {
   "cell_type": "code",
   "execution_count": 6,
   "metadata": {},
   "outputs": [
    {
     "data": {
      "text/plain": [
       " 6823\n"
      ]
     },
     "execution_count": 6,
     "metadata": {},
     "output_type": "execute_result"
    }
   ],
   "source": [
    "for J in Turn'(8) .. Target loop\n",
    "   declare\n",
    "      Prev : constant Natural := Current;\n",
    "   begin\n",
    "      if Last_Seen (Prev) = Never then\n",
    "         Current := 0;\n",
    "      else\n",
    "         Current := Positive (J - 1 - Last_Seen (Prev));\n",
    "      end if;\n",
    "      Last_Seen (Prev) := J - 1;\n",
    "   end;\n",
    "end loop;\n",
    "\n",
    "Ada.Text_IO.Put_Line (Current'Image);"
   ]
  },
  {
   "cell_type": "markdown",
   "metadata": {},
   "source": [
    "----\n",
    "[Back to Table of Contents](https://github.com/reznikmm/ada-howto/tree/advent-2020) "
   ]
  }
 ],
 "metadata": {
  "kernelspec": {
   "display_name": "Ada",
   "language": "ada",
   "name": "ada"
  },
  "language_info": {
   "codemirror_mode": "ada",
   "file_extension": ".adb",
   "mimetype": "text/x-ada",
   "name": "Ada",
   "pygments_lexer": "ada",
   "version": "2012"
  }
 },
 "nbformat": 4,
 "nbformat_minor": 4
}
