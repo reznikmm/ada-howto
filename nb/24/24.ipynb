{
 "cells": [
  {
   "cell_type": "markdown",
   "metadata": {},
   "source": [
    "[![Binder](https://mybinder.org/badge_logo.svg)](https://mybinder.org/v2/gh/reznikmm/ada-howto/advent-2020?filepath=%2Fhome%2Fjovyan%2Fnb%2F24%2F24.ipynb)\n",
    "\n",
    "# Day 24\n",
    "\n",
    "We need some standard packages to read input and keep tiles."
   ]
  },
  {
   "cell_type": "code",
   "execution_count": 1,
   "metadata": {},
   "outputs": [],
   "source": [
    "with Ada.Text_IO;\n",
    "with Ada.Containers.Hashed_Maps;"
   ]
  },
  {
   "cell_type": "markdown",
   "metadata": {},
   "source": [
    "Each tile has adjanced tiles in six directions:"
   ]
  },
  {
   "cell_type": "code",
   "execution_count": 2,
   "metadata": {},
   "outputs": [],
   "source": [
    "type Hex_Direction is (e, se, sw, w, nw, ne);"
   ]
  },
  {
   "cell_type": "markdown",
   "metadata": {},
   "source": [
    "Let's map hex grid to 2D plane using this rules:"
   ]
  },
  {
   "cell_type": "code",
   "execution_count": 3,
   "metadata": {},
   "outputs": [],
   "source": [
    "DX : constant array (Hex_Direction) of Integer :=\n",
    "  (e => +2, se => +1, sw => -1,\n",
    "   w => -2, nw => -1, ne => +1);\n",
    "\n",
    "DY : constant array (Hex_Direction) of Integer :=\n",
    "  (e => 0, se => -1, sw => -1,\n",
    "   w => 0, nw => +1, ne => +1);"
   ]
  },
  {
   "cell_type": "markdown",
   "metadata": {},
   "source": [
    "So each tile has corresponding position:"
   ]
  },
  {
   "cell_type": "code",
   "execution_count": 4,
   "metadata": {},
   "outputs": [],
   "source": [
    "type Position is record\n",
    "   X, Y : Integer;\n",
    "end record;\n",
    "\n",
    "function \"+\" (Pos : Position; Dir : Hex_Direction) return Position is\n",
    "  ((X => Pos.X + DX (Dir), Y => Pos.Y + DY (Dir)));"
   ]
  },
  {
   "cell_type": "markdown",
   "metadata": {},
   "source": [
    "Let's keep tile's color in a hash map"
   ]
  },
  {
   "cell_type": "code",
   "execution_count": 5,
   "metadata": {},
   "outputs": [],
   "source": [
    "use type Ada.Containers.Hash_Type;\n",
    "   \n",
    "function Hash (Value : Position) return Ada.Containers.Hash_Type is\n",
    "   (2021 * Ada.Containers.Hash_Type'Mod (Value.X) +\n",
    "    Ada.Containers.Hash_Type'Mod (Value.Y));\n",
    "   \n",
    "package Color_Maps is new Ada.Containers.Hashed_Maps\n",
    "  (Key_Type        => Position,\n",
    "   Element_Type    => Boolean,\n",
    "   Hash            => Hash,\n",
    "   Equivalent_Keys => \"=\");\n",
    "\n",
    "Black : Color_Maps.Map;\n",
    "   \n",
    "function Is_Black (Pos : Position) return Boolean is\n",
    "  (Black.Contains (Pos) and then Black (Pos));"
   ]
  },
  {
   "cell_type": "markdown",
   "metadata": {},
   "source": [
    "A recursive function will parse a string and find tile position:"
   ]
  },
  {
   "cell_type": "code",
   "execution_count": 6,
   "metadata": {},
   "outputs": [],
   "source": [
    "function Find (Current : Position; Line : String) return Position;\n",
    "--  Parse Line and find target position starting from Current\n",
    "\n",
    "function Find (Current : Position; Line : String) return Position is\n",
    "   Length : constant array (Hex_Direction) of Positive :=\n",
    "     (e | w => 1, others => 2);\n",
    "      \n",
    "   Dir : Hex_Direction;\n",
    "begin\n",
    "   if Line = \"\" then\n",
    "      return Current;\n",
    "   end if;\n",
    "      \n",
    "   case Line (Line'First) is\n",
    "      when 'e' =>\n",
    "         Dir := e;\n",
    "      when 'w' =>\n",
    "         Dir := w;\n",
    "      when 's' =>\n",
    "         case Line (Line'First + 1) is\n",
    "            when 'e' =>\n",
    "               Dir := se;\n",
    "            when 'w' =>\n",
    "               Dir := sw;\n",
    "            when others =>\n",
    "               raise Constraint_Error;\n",
    "         end case;\n",
    "      when 'n' =>\n",
    "         case Line (Line'First + 1) is\n",
    "            when 'e' =>\n",
    "               Dir := ne;\n",
    "            when 'w' =>\n",
    "               Dir := nw;\n",
    "            when others =>\n",
    "               raise Constraint_Error;\n",
    "         end case;\n",
    "      when others =>\n",
    "         raise Constraint_Error;\n",
    "   end case;\n",
    "      \n",
    "   return Find\n",
    "     (Current + Dir,\n",
    "      Line (Line'First + Length (Dir) .. Line'Last));\n",
    "end Find;"
   ]
  },
  {
   "cell_type": "markdown",
   "metadata": {},
   "source": [
    "Define input file and a count"
   ]
  },
  {
   "cell_type": "code",
   "execution_count": 7,
   "metadata": {},
   "outputs": [],
   "source": [
    "Input  : Ada.Text_IO.File_Type;\n",
    "Count  : Natural := 0;"
   ]
  },
  {
   "cell_type": "markdown",
   "metadata": {},
   "source": [
    "Now we can sole Part I:"
   ]
  },
  {
   "cell_type": "code",
   "execution_count": 8,
   "metadata": {},
   "outputs": [
    {
     "data": {
      "text/plain": [
       " 438\n"
      ]
     },
     "execution_count": 8,
     "metadata": {},
     "output_type": "execute_result"
    }
   ],
   "source": [
    "Ada.Text_IO.Open (Input, Ada.Text_IO.In_File, \"/home/jovyan/md/24/input\");\n",
    "  \n",
    "while not Ada.Text_IO.End_Of_File (Input) loop\n",
    "   declare\n",
    "      Line   : constant String := Ada.Text_IO.Get_Line (Input);\n",
    "      Target : constant Position := Find ((0, 0), Line);\n",
    "   begin\n",
    "      if Is_Black (Target) then\n",
    "         Black (Target) := False;\n",
    "         Count := Count - 1;\n",
    "      else\n",
    "         Black.Include (Target, True);\n",
    "         Count := Count + 1;\n",
    "      end if;\n",
    "   end;\n",
    "end loop;\n",
    "   \n",
    "Ada.Text_IO.Put_Line (Count'Image);"
   ]
  },
  {
   "cell_type": "markdown",
   "metadata": {},
   "source": [
    "Define a `Flip` subprogram to find next state at given position. For a black tile it will flip nearby white tiles also, but only if they are not flipped yet."
   ]
  },
  {
   "cell_type": "code",
   "execution_count": 9,
   "metadata": {},
   "outputs": [],
   "source": [
    "procedure Flip\n",
    "  (Black : Color_Maps.Map;\n",
    "   Next  : in out Color_Maps.Map;\n",
    "   Pos   : Position);\n",
    "--  Compute Next state of a tile at given position\n",
    "\n",
    "procedure Flip\n",
    "  (Black : Color_Maps.Map;\n",
    "   Next  : in out Color_Maps.Map;\n",
    "   Pos   : Position)\n",
    "is\n",
    "   Adjacent : Natural := 0;\n",
    "begin\n",
    "   for Dir in Hex_Direction loop\n",
    "      Adjacent := Adjacent + Boolean'Pos (Is_Black (Pos + Dir));\n",
    "   end loop;\n",
    "      \n",
    "   if Is_Black (Pos) then\n",
    "      Next.Insert (Pos, Adjacent in 1 .. 2);\n",
    "         \n",
    "      for Dir in Hex_Direction loop  --  Flip whites around Pos\n",
    "         declare\n",
    "            Nearby : Position := Pos + Dir;\n",
    "         begin\n",
    "            if not Is_Black (Nearby) and then not Next.Contains (Nearby) then\n",
    "               Flip (Black, Next, Nearby);\n",
    "            end if;\n",
    "         end;\n",
    "      end loop;\n",
    "   else\n",
    "      Next.Insert (Pos, Adjacent = 2);\n",
    "   end if;\n",
    "end Flip;"
   ]
  },
  {
   "cell_type": "markdown",
   "metadata": {},
   "source": [
    "Now do 100 rounds"
   ]
  },
  {
   "cell_type": "code",
   "execution_count": 10,
   "metadata": {},
   "outputs": [],
   "source": [
    "for J in 1 .. 100 loop\n",
    "   declare\n",
    "      Next : Color_Maps.Map;\n",
    "   begin\n",
    "      for Pos in Black.Iterate loop\n",
    "         if Black (Pos) then\n",
    "            Flip (Black, Next, Color_Maps.Key (Pos));\n",
    "         end if;\n",
    "      end loop;\n",
    "      Black.Assign (Source => Next);\n",
    "   end;\n",
    "end loop;"
   ]
  },
  {
   "cell_type": "markdown",
   "metadata": {},
   "source": [
    "And count black tiles:"
   ]
  },
  {
   "cell_type": "code",
   "execution_count": 11,
   "metadata": {},
   "outputs": [
    {
     "data": {
      "text/plain": [
       " 4038\n"
      ]
     },
     "execution_count": 11,
     "metadata": {},
     "output_type": "execute_result"
    }
   ],
   "source": [
    "Count := 0;\n",
    "   \n",
    "for J of Black loop\n",
    "   Count := Count + Boolean'Pos (J);\n",
    "end loop;\n",
    "     \n",
    "Ada.Text_IO.Put_Line (Count'Image);"
   ]
  },
  {
   "cell_type": "markdown",
   "metadata": {},
   "source": [
    "----\n",
    "[Back to Table of Contents](https://github.com/reznikmm/ada-howto/tree/advent-2020) "
   ]
  }
 ],
 "metadata": {
  "kernelspec": {
   "display_name": "Ada",
   "language": "ada",
   "name": "ada"
  },
  "language_info": {
   "codemirror_mode": "ada",
   "file_extension": ".adb",
   "mimetype": "text/x-ada",
   "name": "Ada",
   "pygments_lexer": "ada",
   "version": "2012"
  }
 },
 "nbformat": 4,
 "nbformat_minor": 4
}
