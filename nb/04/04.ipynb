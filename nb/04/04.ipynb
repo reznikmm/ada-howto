{
 "cells": [
  {
   "cell_type": "markdown",
   "metadata": {},
   "source": [
    "[![Binder](https://mybinder.org/badge_logo.svg)](https://mybinder.org/v2/gh/reznikmm/ada-howto/advent-2020?filepath=%2Fhome%2Fjovyan%2Fnb%2F04%2F04.ipynb)\n",
    "\n",
    "# Day 4\n",
    "\n",
    "Firstly, we need some standard packages to read the text file and process strings."
   ]
  },
  {
   "cell_type": "code",
   "execution_count": 1,
   "metadata": {},
   "outputs": [],
   "source": [
    "with Ada.Text_IO;\n",
    "with Ada.Strings.Fixed;\n",
    "with Ada.Strings.Maps;"
   ]
  },
  {
   "cell_type": "markdown",
   "metadata": {},
   "source": [
    "Let's define an enumeration type for pasport fields. We keep validation flag for each field."
   ]
  },
  {
   "cell_type": "code",
   "execution_count": 2,
   "metadata": {},
   "outputs": [],
   "source": [
    "type Field_Kind is\n",
    "  (byr,  --  (Birth Year)\n",
    "   iyr,  --  (Issue Year)\n",
    "   eyr,  --  (Expiration Year)\n",
    "   hgt,  --  (Height)\n",
    "   hcl,  --  (Hair Color)\n",
    "   ecl,  --  (Eye Color)\n",
    "   pid,  --  (Passport ID)\n",
    "   cid);   --  (Country ID)\n",
    "\n",
    "type Field_Set is array (Field_Kind) of Boolean;"
   ]
  },
  {
   "cell_type": "markdown",
   "metadata": {},
   "source": [
    "A pasport is valid if required fields are present and valid:"
   ]
  },
  {
   "cell_type": "code",
   "execution_count": 3,
   "metadata": {},
   "outputs": [],
   "source": [
    "function Is_Valid (Pasport : Field_Set) return Boolean is\n",
    "begin\n",
    "   return Pasport (byr .. pid) = (byr .. pid => True);\n",
    "end Is_Valid;"
   ]
  },
  {
   "cell_type": "markdown",
   "metadata": {},
   "source": [
    "To validate fields we use some character sets:"
   ]
  },
  {
   "cell_type": "code",
   "execution_count": 4,
   "metadata": {},
   "outputs": [],
   "source": [
    "Digit  : Ada.Strings.Maps.Character_Set :=\n",
    "   Ada.Strings.Maps.To_Set (\"0123456789\");\n",
    "Hex    : Ada.Strings.Maps.Character_Set :=\n",
    "  Ada.Strings.Maps.To_Set (\"0123456789abcdef\");\n",
    "Space  : constant Ada.Strings.Maps.Character_Set :=\n",
    "     Ada.Strings.Maps.To_Set (\" \");"
   ]
  },
  {
   "cell_type": "markdown",
   "metadata": {},
   "source": [
    "Now we can define rather long, but straightforward function"
   ]
  },
  {
   "cell_type": "code",
   "execution_count": 5,
   "metadata": {},
   "outputs": [],
   "source": [
    "function Is_Valid_Field (Text : String; Kind : Field_Kind) return Boolean is\n",
    "      \n",
    "   function Is_Number (Text : String) return Boolean is\n",
    "   begin\n",
    "      return Ada.Strings.Fixed.Count (Text, Digit) = Text'Length;\n",
    "   end Is_Number;\n",
    "      \n",
    "begin\n",
    "   case Kind is\n",
    "      when byr =>\n",
    "         return Is_Number (Text)\n",
    "           and then Text'Length = 4\n",
    "           and then Integer'Value (Text) in 1920 .. 2002;\n",
    "      when iyr =>\n",
    "         return Is_Number (Text)\n",
    "           and then Text'Length = 4\n",
    "           and then Integer'Value (Text) in 2010 .. 2020;\n",
    "      when eyr =>\n",
    "         return Is_Number (Text)\n",
    "           and then Text'Length = 4\n",
    "           and then Integer'Value (Text) in 2020 .. 2030;\n",
    "      when hgt =>\n",
    "         if Text'Length > 3\n",
    "           and then Is_Number (Text (Text'First .. Text'Last - 2))\n",
    "           and then Text (Text'Last - 1 .. Text'Last) in \"cm\" | \"in\"\n",
    "         then\n",
    "            declare\n",
    "               Value : Natural :=\n",
    "                 Integer'Value (Text (Text'First .. Text'Last - 2));\n",
    "            begin\n",
    "               if Text (Text'Last) = 'm' then\n",
    "                  return Value in 150 .. 193;\n",
    "               else\n",
    "                  return Value in 59 .. 76;\n",
    "               end if;\n",
    "            end;\n",
    "         end if;\n",
    "      when hcl =>\n",
    "         return Text'Length = 7\n",
    "           and then Text (Text'First) = '#'\n",
    "           and then Ada.Strings.Fixed.Count (Text, Hex) = 6;\n",
    "      when ecl =>\n",
    "         return Ada.Strings.Fixed.Index\n",
    "           (\"amb blu brn gry grn hzl oth\", Text) > 0;\n",
    "      when pid =>\n",
    "         return Text'Length = 9 and then Is_Number (Text);\n",
    "      when cid => \n",
    "         return True;\n",
    "   end case;\n",
    "   \n",
    "   return False;\n",
    "end Is_Valid_Field;"
   ]
  },
  {
   "cell_type": "markdown",
   "metadata": {},
   "source": [
    "Now declare a file to read input:"
   ]
  },
  {
   "cell_type": "code",
   "execution_count": 6,
   "metadata": {},
   "outputs": [],
   "source": [
    "Input : Ada.Text_IO.File_Type;"
   ]
  },
  {
   "cell_type": "markdown",
   "metadata": {},
   "source": [
    "Having a field as a text we can decode it this way:"
   ]
  },
  {
   "cell_type": "code",
   "execution_count": 7,
   "metadata": {},
   "outputs": [],
   "source": [
    "procedure Read_Field (Text : String; Result : in out Field_Set) is\n",
    "   Kind : Field_Kind;\n",
    "begin\n",
    "   pragma Assert (Text (Text'First + 3) = ':');\n",
    "   Kind := Field_Kind'Value (Text (Text'First .. Text'First + 2));\n",
    "   Result (Kind) :=\n",
    "     Is_Valid_Field (Text (Text'First + 4 .. Text'Last), Kind);\n",
    "end Read_Field;"
   ]
  },
  {
   "cell_type": "markdown",
   "metadata": {},
   "source": [
    "Now we can read pasport data as sequence of non-empty lines. To split fields we can use `Find_Token` procedure providing `Space` as separator character set."
   ]
  },
  {
   "cell_type": "code",
   "execution_count": 8,
   "metadata": {},
   "outputs": [],
   "source": [
    "procedure Read_Pasport (Result : out Field_Set) is\n",
    "begin\n",
    "   Result := (others => False);\n",
    "\n",
    "   while not Ada.Text_IO.End_Of_File (Input) loop\n",
    "      declare\n",
    "         Line : String := Ada.Text_IO.Get_Line (Input);\n",
    "         First : Positive;\n",
    "         Last  : Natural := 0;\n",
    "      begin\n",
    "         exit when Line = \"\";\n",
    "\n",
    "         while Last < Line'Last loop\n",
    "            Ada.Strings.Fixed.Find_Token\n",
    "              (Source => Line,\n",
    "               Set    => Space,\n",
    "               From   => Last + 1,\n",
    "               Test   => Ada.Strings.Outside,\n",
    "               First  => First,\n",
    "               Last   => Last);\n",
    "\n",
    "            exit when Last < First;\n",
    "\n",
    "            Read_Field (Line (First .. Last), Result);\n",
    "         end loop;\n",
    "      end;\n",
    "   end loop;\n",
    "end Read_Pasport;"
   ]
  },
  {
   "cell_type": "markdown",
   "metadata": {},
   "source": [
    "Declare `Result` to keep valid pasport count."
   ]
  },
  {
   "cell_type": "code",
   "execution_count": 9,
   "metadata": {},
   "outputs": [],
   "source": [
    "Result : Natural := 0;"
   ]
  },
  {
   "cell_type": "markdown",
   "metadata": {},
   "source": [
    "Now we just loop over input lines reading pasports and validating them"
   ]
  },
  {
   "cell_type": "code",
   "execution_count": 10,
   "metadata": {},
   "outputs": [
    {
     "data": {
      "text/plain": [
       " 172\n"
      ]
     },
     "execution_count": 10,
     "metadata": {},
     "output_type": "execute_result"
    }
   ],
   "source": [
    "Ada.Text_IO.Open (Input, Ada.Text_IO.In_File, \"/home/jovyan/md/04/input\");\n",
    "\n",
    "while not Ada.Text_IO.End_Of_File (Input) loop\n",
    "   declare\n",
    "      Pasport : Field_Set;\n",
    "   begin\n",
    "      Read_Pasport (Pasport);\n",
    "\n",
    "      if Is_Valid (Pasport) then\n",
    "         Result := Result + 1;\n",
    "      end if;\n",
    "   end;\n",
    "end loop;\n",
    "   \n",
    "Ada.Text_IO.Put_Line (Result'Image);"
   ]
  },
  {
   "cell_type": "markdown",
   "metadata": {},
   "source": [
    "----\n",
    "[Back to Table of Contents](https://github.com/reznikmm/ada-howto/tree/advent-2020)"
   ]
  }
 ],
 "metadata": {
  "kernelspec": {
   "display_name": "Ada",
   "language": "ada",
   "name": "ada"
  },
  "language_info": {
   "codemirror_mode": "ada",
   "file_extension": ".adb",
   "mimetype": "text/x-ada",
   "name": "Ada",
   "pygments_lexer": "ada",
   "version": "2012"
  }
 },
 "nbformat": 4,
 "nbformat_minor": 4
}
