{
 "cells": [
  {
   "cell_type": "markdown",
   "metadata": {},
   "source": [
    "# Ada 2022: Advanced Array Aggregates\n",
    " \n",
    "This post is a part of [the Ada 2022 series](https://github.com/reznikmm/ada-howto/tree/ce-2021).\n",
    " \n",
    "You can launch this notebook with Jupyter Ada Kernel by clicking this button:\n",
    " \n",
    "[![Binder](https://mybinder.org/badge_logo.svg)](https://mybinder.org/v2/gh/reznikmm/ada-howto/ce-2021?filepath=%2Fhome%2Fjovyan%2Fnb%2Farray-aggregates.ipynb)\n",
    "\n",
    " \n",
    " * [About Jupyter Ada Kernel](https://github.com/reznikmm/ada-howto/blob/master/md/Hello_Ada.md).\n",
    "\n",
    "### Ada 2022 activation\n",
    "Firstly, let's activate Ada 2022 support in the compiler.\n",
    "Usually we do this by `-gnat2022` option in compiler command line or in the project file\n",
    "(preferred). But in this notebook we will do this by the `pragma Ada_2022`.\n",
    "Also we will need some predefined packages."
   ]
  },
  {
   "cell_type": "code",
   "execution_count": 1,
   "metadata": {},
   "outputs": [],
   "source": [
    "pragma Ada_2022;\n",
    "\n",
    "with Ada.Text_IO;"
   ]
  },
  {
   "cell_type": "markdown",
   "metadata": {},
   "source": [
    "## Square brackets\n",
    "    \n",
    "In Ada 2022 you can use square brackets in array aggregates. Square brackets usage simplifies writing of an empty aggregate and a single element aggregate. Consider this:"
   ]
  },
  {
   "cell_type": "code",
   "execution_count": 2,
   "metadata": {},
   "outputs": [],
   "source": [
    "type Integer_Array is array (Positive range <>) of Integer;\n",
    "                             \n",
    "Old_Style_Empty : Integer_Array := (1 .. 0 => <>);\n",
    "New_Style_Empty : Integer_Array := [];\n",
    "\n",
    "Old_Style_One_Item : Integer_Array := (1 => 5);\n",
    "New_Style_One_Item : Integer_Array := [5];"
   ]
  },
  {
   "cell_type": "markdown",
   "metadata": {},
   "source": [
    "Apart from zero and one element aggregates, there is no other difference between brackets and parentheses in array aggregates.\n",
    "\n",
    "##  Iterated Component Association\n",
    "\n",
    "There is new kind of component association:"
   ]
  },
  {
   "cell_type": "code",
   "execution_count": 3,
   "metadata": {},
   "outputs": [],
   "source": [
    "Vector : Integer_Array := [for J in 1 .. 5 => J * 2];"
   ]
  },
  {
   "cell_type": "markdown",
   "metadata": {},
   "source": [
    "The association starts with **for** keyword, just like a quantified expression. It declares an index parameter that can be used in a component computation."
   ]
  },
  {
   "cell_type": "code",
   "execution_count": 4,
   "metadata": {},
   "outputs": [
    {
     "data": {
      "text/plain": [
       "\n",
       "[ 2,  4,  6,  8,  10]\n"
      ]
     },
     "execution_count": 4,
     "metadata": {},
     "output_type": "execute_result"
    }
   ],
   "source": [
    "Ada.Text_IO.Put_Line (Integer_Array'Image(Vector));"
   ]
  },
  {
   "cell_type": "markdown",
   "metadata": {},
   "source": [
    "Of cource, iterated component association could nest and be nested in another associtation (iterated or not). But you can't mix iterated and not iterated association in one list. Here is a square matrix definition:"
   ]
  },
  {
   "cell_type": "code",
   "execution_count": 5,
   "metadata": {},
   "outputs": [
    {
     "data": {
      "text/plain": [
       "\n",
       "[\n",
       " [ 11,  12,  13],\n",
       "\n",
       " [ 21,  22,  23],\n",
       "\n",
       " [ 31,  32,  33]]\n"
      ]
     },
     "execution_count": 5,
     "metadata": {},
     "output_type": "execute_result"
    }
   ],
   "source": [
    "declare\n",
    "   Matrix : array (1 .. 3, 1 .. 3) of Positive :=\n",
    "    (for J in 1 .. 3 =>\n",
    "      (for K in 1 .. 3 => J * 10 + K));\n",
    "begin\n",
    "   Ada.Text_IO.Put_Line (Matrix'Image);\n",
    "end;"
   ]
  },
  {
   "cell_type": "markdown",
   "metadata": {},
   "source": [
    "Intresting that such aggregates were originally proposed more than 25 years ago!\n",
    "\n",
    "The same syntax is defined for container aggregates, but they are not implemented in GNAT Community Edition 2020 yet.\n",
    "\n",
    "## References:\n",
    " * [Ada Reference Manual 2020 Draft](http://www.ada-auth.org/standards/2xaarm/html/AA-4-3-3.html)\n",
    " * [AI12-0212-1](http://www.ada-auth.org/cgi-bin/cvsweb.cgi/AI12s/AI12-0212-1.TXT)\n",
    " * [AI12-0306-1](http://www.ada-auth.org/cgi-bin/cvsweb.cgi/AI12s/AI12-0306-1.TXT)\n",
    " ----\n",
    "\n",
    "Do you like this? Support us on [patreon](https://www.patreon.com/ada_ru)!\n",
    "\n",
    "Live discussions: [Telegram](https://t.me/ada_lang), [Matrix](https://matrix.to/#/#ada-lang:matrix.org).\n"
   ]
  }
 ],
 "metadata": {
  "kernelspec": {
   "display_name": "Ada",
   "language": "ada",
   "name": "ada"
  },
  "language_info": {
   "codemirror_mode": "ada",
   "file_extension": ".adb",
   "mimetype": "text/x-ada",
   "name": "Ada",
   "pygments_lexer": "ada",
   "version": "2012"
  }
 },
 "nbformat": 4,
 "nbformat_minor": 4
}
