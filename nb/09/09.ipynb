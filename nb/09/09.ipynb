{
 "cells": [
  {
   "cell_type": "markdown",
   "metadata": {},
   "source": [
    "[![Binder](https://mybinder.org/badge_logo.svg)](https://mybinder.org/v2/gh/reznikmm/ada-howto/advent-2020?filepath=%2Fhome%2Fjovyan%2Fnb%2F09%2F09.ipynb)\n",
    "\n",
    "# Day 9\n",
    "\n",
    "Firstly, we need some standard packages to read the text file and a vector to keep state of calculation."
   ]
  },
  {
   "cell_type": "code",
   "execution_count": 1,
   "metadata": {},
   "outputs": [],
   "source": [
    "with Ada.Text_IO;\n",
    "with Ada.Long_Integer_Text_IO;\n",
    "with Ada.Containers.Vectors;"
   ]
  },
  {
   "cell_type": "markdown",
   "metadata": {},
   "source": [
    "Let's solve Part II. Here is result of Part I:"
   ]
  },
  {
   "cell_type": "code",
   "execution_count": 2,
   "metadata": {},
   "outputs": [],
   "source": [
    "Part_I_Result : constant Long_Integer := 552655238;"
   ]
  },
  {
   "cell_type": "markdown",
   "metadata": {},
   "source": [
    "My idea is to keep result of partial sum calculation in a record. I keep Min, Max and rest of the sum."
   ]
  },
  {
   "cell_type": "code",
   "execution_count": 3,
   "metadata": {},
   "outputs": [],
   "source": [
    "type Partial_Sum is record\n",
    "   Min, Max : Long_Integer;\n",
    "   Left : Long_Integer;\n",
    "end record;"
   ]
  },
  {
   "cell_type": "markdown",
   "metadata": {},
   "source": [
    "On each new number I will calculate several `Partial_Sum` in parallel. Let's keep sums in a vector."
   ]
  },
  {
   "cell_type": "code",
   "execution_count": 4,
   "metadata": {},
   "outputs": [],
   "source": [
    "package Partial_Sum_Vectors is new Ada.Containers.Vectors (Positive, Partial_Sum);"
   ]
  },
  {
   "cell_type": "markdown",
   "metadata": {},
   "source": [
    "On each new number `Next`, I will call a procedure to update each parial sum in the vector. If a partial sum exceed the target, it will be removed. If the procedure found a target, then it will return Max + Min in `Found` argument."
   ]
  },
  {
   "cell_type": "code",
   "execution_count": 5,
   "metadata": {},
   "outputs": [],
   "source": [
    "procedure Update_Sums\n",
    "  (Sums  : in out Partial_Sum_Vectors.Vector;\n",
    "   Next  : Long_Integer;\n",
    "   Found : out Long_Integer);\n",
    "--  Update Sums with new value. Return Found = Min+Max or zero if not found.\n",
    "\n",
    "procedure Update_Sums\n",
    "  (Sums  : in out Partial_Sum_Vectors.Vector;\n",
    "   Next  : Long_Integer;\n",
    "   Found : out Long_Integer)\n",
    "is\n",
    "   Index : Positive := Sums.First_Index;\n",
    "begin\n",
    "   Found := 0;\n",
    "      \n",
    "   while Index <= Sums.Last_Index loop\n",
    "      if Sums (Index).Left < Next then\n",
    "         --  Move to the end of vector and shrink it.\n",
    "         Sums.Swap (Index, Sums.Last_Index);\n",
    "         Sums.Delete_Last;\n",
    "      else\n",
    "         declare\n",
    "            Item : Partial_Sum renames Sums (Index);\n",
    "         begin\n",
    "            Item.Left := Item.Left - Next;\n",
    "            Item.Min := Long_Integer'Min (Item.Min, Next);\n",
    "            Item.Max := Long_Integer'Max (Item.Max, Next);\n",
    "               \n",
    "            if Item.Left = 0 then\n",
    "               Found := Item.Min + Item.Max;\n",
    "               exit;\n",
    "            end if;\n",
    "               \n",
    "            Index := Index + 1;\n",
    "         end;\n",
    "      end if;\n",
    "   end loop;\n",
    "end Update_Sums;"
   ]
  },
  {
   "cell_type": "markdown",
   "metadata": {},
   "source": [
    "To create new item in the vector I need two numbers. That's why I keep previous value in `Prev`. The `Input` if an input file."
   ]
  },
  {
   "cell_type": "code",
   "execution_count": 6,
   "metadata": {},
   "outputs": [],
   "source": [
    "Sums  : Partial_Sum_Vectors.Vector;\n",
    "Prev  : Long_Integer;\n",
    "Input : Ada.Text_IO.File_Type;"
   ]
  },
  {
   "cell_type": "markdown",
   "metadata": {},
   "source": [
    "Let's do initialization: open the file and read the first number into `Prev`."
   ]
  },
  {
   "cell_type": "code",
   "execution_count": 7,
   "metadata": {},
   "outputs": [],
   "source": [
    "Ada.Text_IO.Open (Input, Ada.Text_IO.In_File, \"/home/jovyan/md/09/input\");\n",
    "Ada.Long_Integer_Text_IO.Get (Input, Prev);"
   ]
  },
  {
   "cell_type": "markdown",
   "metadata": {},
   "source": [
    "Now loop over the rest of numbers."
   ]
  },
  {
   "cell_type": "code",
   "execution_count": 8,
   "metadata": {},
   "outputs": [
    {
     "data": {
      "text/plain": [
       "            70672245"
      ]
     },
     "execution_count": 8,
     "metadata": {},
     "output_type": "execute_result"
    }
   ],
   "source": [
    "while not Ada.Text_IO.End_Of_File (Input) loop\n",
    "   declare\n",
    "      Next  : Long_Integer;\n",
    "      Found : Long_Integer;\n",
    "   begin\n",
    "      Ada.Long_Integer_Text_IO.Get (Input, Next);\n",
    "\n",
    "      Update_Sums (Sums, Next, Found);\n",
    "         \n",
    "      if Found > 0 then\n",
    "         Ada.Long_Integer_Text_IO.Put (Found);\n",
    "         exit;\n",
    "      elsif Prev + Next < Part_I_Result then\n",
    "         Sums.Append\n",
    "           ((Min => Long_Integer'Min (Prev, Next),\n",
    "             Max => Long_Integer'Max (Prev, Next),\n",
    "             Left => Part_I_Result - Prev - Next));\n",
    "      end if;\n",
    "         \n",
    "      Prev := Next;\n",
    "   end;\n",
    "end loop;"
   ]
  },
  {
   "cell_type": "markdown",
   "metadata": {},
   "source": [
    "Well, the maximum vector length over the run was 482 items.\n",
    "\n",
    "----\n",
    "[Back to Table of Contents](https://github.com/reznikmm/ada-howto/tree/advent-2020)"
   ]
  }
 ],
 "metadata": {
  "kernelspec": {
   "display_name": "Ada",
   "language": "ada",
   "name": "ada"
  },
  "language_info": {
   "codemirror_mode": "ada",
   "file_extension": ".adb",
   "mimetype": "text/x-ada",
   "name": "Ada",
   "pygments_lexer": "ada",
   "version": "2012"
  }
 },
 "nbformat": 4,
 "nbformat_minor": 4
}
