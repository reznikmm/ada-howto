{
 "cells": [
  {
   "cell_type": "markdown",
   "metadata": {},
   "source": [
    "[![Binder](https://mybinder.org/badge_logo.svg)](https://mybinder.org/v2/gh/reznikmm/ada-howto/advent-2020?filepath=%2Fhome%2Fjovyan%2Fnb%2F18%2F18.ipynb)\n",
    "\n",
    "# Day 18\n",
    "We need a standard package to read the input."
   ]
  },
  {
   "cell_type": "code",
   "execution_count": 1,
   "metadata": {},
   "outputs": [],
   "source": [
    "with Ada.Text_IO;"
   ]
  },
  {
   "cell_type": "markdown",
   "metadata": {},
   "source": [
    "A function to parse and evaluate one expression. It parses string according to this grammar rules:\n",
    "\n",
    "    exp ::= add { * add }\n",
    "    add ::= item { + item }\n",
    "    item := '(' exp ')' | number\n"
   ]
  },
  {
   "cell_type": "code",
   "execution_count": 2,
   "metadata": {},
   "outputs": [],
   "source": [
    "function Evaluate (Line : String) return Long_Integer;\n",
    "\n",
    "function Evaluate (Line : String) return Long_Integer is\n",
    "   --  exp ::= add { * add }\n",
    "   --  add ::= item { + item }\n",
    "   --  item := '(' exp ')' | number\n",
    "   procedure Skip_Spaces (Index : in out Positive) is\n",
    "   begin\n",
    "      while Index <= Line'Last and then Line (Index) = ' ' loop\n",
    "         Index := Index + 1;\n",
    "      end loop;\n",
    "   end Skip_Spaces;\n",
    "\n",
    "   procedure Parse_Item\n",
    "     (Index : in out Positive; Result : out Long_Integer);\n",
    "\n",
    "   procedure Parse_Add\n",
    "     (Index : in out Positive; Result : out Long_Integer)\n",
    "   is\n",
    "      Temp : Long_Integer;\n",
    "   begin\n",
    "      Parse_Item (Index, Result);\n",
    "      while Index <= Line'Last and then Line (Index) = '+' loop\n",
    "         Index := Index + 1;\n",
    "         Parse_Item (Index, Temp);\n",
    "         Result := Result + Temp;\n",
    "      end loop;\n",
    "   end Parse_Add;\n",
    "\n",
    "   procedure Parse_Exp\n",
    "     (Index : in out Positive; Result : out Long_Integer)\n",
    "   is\n",
    "      Temp : Long_Integer;\n",
    "   begin\n",
    "      Parse_Add (Index, Result);\n",
    "      while Index <= Line'Last and then Line (Index) = '*' loop\n",
    "         Index := Index + 1;\n",
    "         Parse_Add (Index, Temp);\n",
    "         Result := Result * Temp;\n",
    "      end loop;\n",
    "   end Parse_Exp;\n",
    "\n",
    "   procedure Parse_Item\n",
    "     (Index : in out Positive; Result : out Long_Integer) is\n",
    "   begin\n",
    "      Skip_Spaces (Index);\n",
    "\n",
    "      if Line (Index) = '(' then\n",
    "         Index := Index + 1;\n",
    "         Parse_Exp (Index, Result);\n",
    "         pragma Assert (Line (Index) = ')');\n",
    "      else\n",
    "         Result := Long_Integer'Value (Line (Index .. Index));\n",
    "      end if;\n",
    "\n",
    "      Index := Index + 1;\n",
    "      Skip_Spaces (Index);\n",
    "   end Parse_Item;\n",
    "\n",
    "   Index : Positive := Line'First;\n",
    "   Result : Long_Integer;\n",
    "begin\n",
    "   Parse_Exp (Index, Result);\n",
    "   pragma Assert (Index > Line'Last);\n",
    "   return Result;\n",
    "end Evaluate;"
   ]
  },
  {
   "cell_type": "markdown",
   "metadata": {},
   "source": [
    "Define input and result variables"
   ]
  },
  {
   "cell_type": "code",
   "execution_count": 3,
   "metadata": {},
   "outputs": [],
   "source": [
    "Input : Ada.Text_IO.File_Type;\n",
    "Result : Long_Integer := 0;"
   ]
  },
  {
   "cell_type": "markdown",
   "metadata": {},
   "source": [
    "Now just loop over input lines"
   ]
  },
  {
   "cell_type": "code",
   "execution_count": 4,
   "metadata": {},
   "outputs": [
    {
     "data": {
      "text/plain": [
       " 328920644404583\n"
      ]
     },
     "execution_count": 4,
     "metadata": {},
     "output_type": "execute_result"
    }
   ],
   "source": [
    "Ada.Text_IO.Open (Input, Ada.Text_IO.In_File, \"/home/jovyan/md/18/input\");\n",
    "\n",
    "while not Ada.Text_IO.End_Of_Line (Input) loop\n",
    "   declare\n",
    "      Line : constant String := Ada.Text_IO.Get_Line (Input);\n",
    "   begin\n",
    "      Result := Result + Evaluate (Line);\n",
    "   end;\n",
    "end loop;\n",
    "\n",
    "Ada.Text_IO.Put_Line (Result'Image);"
   ]
  },
  {
   "cell_type": "markdown",
   "metadata": {},
   "source": [
    "----\n",
    "[Back to Table of Contents](https://github.com/reznikmm/ada-howto/tree/advent-2020) "
   ]
  }
 ],
 "metadata": {
  "kernelspec": {
   "display_name": "Ada",
   "language": "ada",
   "name": "ada"
  },
  "language_info": {
   "codemirror_mode": "ada",
   "file_extension": ".adb",
   "mimetype": "text/x-ada",
   "name": "Ada",
   "pygments_lexer": "ada",
   "version": "2012"
  }
 },
 "nbformat": 4,
 "nbformat_minor": 4
}
