{
 "cells": [
  {
   "cell_type": "markdown",
   "metadata": {},
   "source": [
    "[![Binder](https://mybinder.org/badge_logo.svg)](https://mybinder.org/v2/gh/reznikmm/ada-howto/advent-2020?filepath=%2Fhome%2Fjovyan%2Fnb%2F16%2F16.ipynb)\n",
    "\n",
    "# Day 16\n",
    "Firstly, let's force assertion checking. We will use `pragma Assert` in the code."
   ]
  },
  {
   "cell_type": "code",
   "execution_count": 1,
   "metadata": {},
   "outputs": [],
   "source": [
    "pragma Assertion_Policy (Check);"
   ]
  },
  {
   "cell_type": "markdown",
   "metadata": {},
   "source": [
    "We need some standard packages to read inputs and keep a program state."
   ]
  },
  {
   "cell_type": "code",
   "execution_count": 2,
   "metadata": {},
   "outputs": [],
   "source": [
    "with Ada.Text_IO;\n",
    "with Ada.Integer_Text_IO;\n",
    "with Ada.Strings.Fixed;\n",
    "with Ada.Strings.Maps;\n",
    "with Ada.Strings.Maps.Constants;"
   ]
  },
  {
   "cell_type": "markdown",
   "metadata": {},
   "source": [
    "A field validation rule has two ranges."
   ]
  },
  {
   "cell_type": "code",
   "execution_count": 3,
   "metadata": {},
   "outputs": [],
   "source": [
    "type Valid_Range is record\n",
    "   From, To : Positive;\n",
    "end record;\n",
    "\n",
    "type Field_Validation is array (1 .. 2) of Valid_Range;"
   ]
  },
  {
   "cell_type": "markdown",
   "metadata": {},
   "source": [
    "A ticket validation has such field validation for eash of 20 fields. Let's define it as an array type. For index type we use a dedicated integer type. It helps us not to mix it with oher indexes and integers."
   ]
  },
  {
   "cell_type": "code",
   "execution_count": 4,
   "metadata": {},
   "outputs": [],
   "source": [
    "type Field_Index is range 1 .. 20;  --  As they go in rules\n",
    "\n",
    "type Ticket_Validation is array (Field_Index) of Field_Validation;"
   ]
  },
  {
   "cell_type": "markdown",
   "metadata": {},
   "source": [
    "Let's define a tool subprogram to find an integer in the given string."
   ]
  },
  {
   "cell_type": "code",
   "execution_count": 5,
   "metadata": {},
   "outputs": [],
   "source": [
    "procedure Find_Decimal\n",
    "  (Line : String;\n",
    "   From : out Positive;\n",
    "   To   : in out Natural) is\n",
    "begin\n",
    "   Ada.Strings.Fixed.Find_Token\n",
    "     (Source => Line,\n",
    "      Set    => Ada.Strings.Maps.Constants.Decimal_Digit_Set,\n",
    "      From   => To + 1,\n",
    "      Test   => Ada.Strings.Inside,\n",
    "      First  => From,\n",
    "      Last   => To);\n",
    "end Find_Decimal;"
   ]
  },
  {
   "cell_type": "markdown",
   "metadata": {},
   "source": [
    "The `Input` file to read the input data."
   ]
  },
  {
   "cell_type": "code",
   "execution_count": 6,
   "metadata": {},
   "outputs": [],
   "source": [
    "Input : Ada.Text_IO.File_Type;"
   ]
  },
  {
   "cell_type": "markdown",
   "metadata": {},
   "source": [
    "A procedure to read line from `Input` and decode field validation ranges."
   ]
  },
  {
   "cell_type": "code",
   "execution_count": 7,
   "metadata": {},
   "outputs": [],
   "source": [
    "procedure Read_Field_Validation (Result : out Field_Validation) is\n",
    "   Line : String := Ada.Text_IO.Get_Line (Input);\n",
    "   First, Last : Positive := 1;\n",
    "begin\n",
    "   for J of Result loop\n",
    "      Find_Decimal (Line, First, Last);\n",
    "      J.From := Positive'Value (Line (First .. Last));\n",
    "      Find_Decimal (Line, First, Last);\n",
    "      J.To := Positive'Value (Line (First .. Last));\n",
    "   end loop;\n",
    "end Read_Field_Validation;"
   ]
  },
  {
   "cell_type": "markdown",
   "metadata": {},
   "source": [
    "Another procedure to read a batch of filed validation ranges:"
   ]
  },
  {
   "cell_type": "code",
   "execution_count": 8,
   "metadata": {},
   "outputs": [],
   "source": [
    "procedure Read_Validation (Result : out Ticket_Validation) is\n",
    "begin\n",
    "   for Field of Result loop\n",
    "      Read_Field_Validation (Field);\n",
    "   end loop;\n",
    "\n",
    "   pragma Assert (Ada.Text_IO.Get_Line (Input) = \"\");\n",
    "end Read_Validation;"
   ]
  },
  {
   "cell_type": "markdown",
   "metadata": {},
   "source": [
    "Now we can read the validation rules:"
   ]
  },
  {
   "cell_type": "code",
   "execution_count": 9,
   "metadata": {},
   "outputs": [],
   "source": [
    "Rules : Ticket_Validation;"
   ]
  },
  {
   "cell_type": "markdown",
   "metadata": {},
   "source": [
    "Let's open a file and start reading:"
   ]
  },
  {
   "cell_type": "code",
   "execution_count": 10,
   "metadata": {},
   "outputs": [],
   "source": [
    "Ada.Text_IO.Open (Input, Ada.Text_IO.In_File, \"/home/jovyan/md/14/input\");\n",
    "\n",
    "Read_Validation (Rules);"
   ]
  },
  {
   "cell_type": "markdown",
   "metadata": {},
   "source": [
    "Let's define a ticket as array of integer components."
   ]
  },
  {
   "cell_type": "code",
   "execution_count": 11,
   "metadata": {},
   "outputs": [],
   "source": [
    "type Ticket is array (1 .. 20) of Positive;"
   ]
  },
  {
   "cell_type": "markdown",
   "metadata": {},
   "source": [
    "And a procedure to read a ticket data from `Input`."
   ]
  },
  {
   "cell_type": "code",
   "execution_count": 12,
   "metadata": {},
   "outputs": [],
   "source": [
    "procedure Read_Ticket (Value : out Ticket) is\n",
    "   Comma : Character;\n",
    "begin\n",
    "   for J in Value'Range loop\n",
    "      if J /= 1 then\n",
    "         Ada.Text_IO.Get (Input, Comma);\n",
    "      end if;\n",
    "\n",
    "      Ada.Integer_Text_IO.Get (Input, Value (J));\n",
    "   end loop;\n",
    "   pragma Assert (Ada.Text_IO.Get_Line (Input) = \"\");\n",
    "end Read_Ticket;"
   ]
  },
  {
   "cell_type": "markdown",
   "metadata": {},
   "source": [
    "Keep my ticket data in `My_Ticket`."
   ]
  },
  {
   "cell_type": "code",
   "execution_count": 13,
   "metadata": {},
   "outputs": [],
   "source": [
    "My_Ticket : Ticket;"
   ]
  },
  {
   "cell_type": "markdown",
   "metadata": {},
   "source": [
    "Let's read it"
   ]
  },
  {
   "cell_type": "code",
   "execution_count": 14,
   "metadata": {},
   "outputs": [],
   "source": [
    "pragma Assert (Ada.Text_IO.Get_Line (Input) = \"\");\n",
    "pragma Assert (Ada.Text_IO.Get_Line (Input) = \"your ticket:\");\n",
    "Read_Ticket (My_Ticket);\n",
    "pragma Assert (Ada.Text_IO.Get_Line (Input) = \"\");"
   ]
  },
  {
   "cell_type": "markdown",
   "metadata": {},
   "source": [
    "Another simple function will check if ticket data is corrent."
   ]
  },
  {
   "cell_type": "code",
   "execution_count": 15,
   "metadata": {},
   "outputs": [],
   "source": [
    "function Check_Ticket\n",
    "  (Value : Ticket;\n",
    "   Rules : Ticket_Validation) return Boolean;\n",
    "--  Verify if given all fields in ticket match some range in rules\n",
    "\n",
    "function Check_Ticket\n",
    "  (Value : Ticket;\n",
    "   Rules : Ticket_Validation) return Boolean\n",
    "is\n",
    "   Result : Boolean := True;\n",
    "begin\n",
    "   for Field of Value loop\n",
    "      declare\n",
    "         Found : Boolean := False;\n",
    "      begin\n",
    "         for Rule of Rules loop\n",
    "            Found := Found\n",
    "              or Field in Rule (1).From .. Rule (1).To\n",
    "              or Field in Rule (2).From .. Rule (2).To;\n",
    "         end loop;\n",
    "\n",
    "         if not Found then\n",
    "            Result := False;\n",
    "         end if;\n",
    "      end;\n",
    "   end loop;\n",
    "\n",
    "   return Result;\n",
    "end Check_Ticket;"
   ]
  },
  {
   "cell_type": "markdown",
   "metadata": {},
   "source": [
    "Let's collect for each ticket fields a set of valid rules. Set `True` if a rule suits the field and `False` otherwise."
   ]
  },
  {
   "cell_type": "code",
   "execution_count": 16,
   "metadata": {},
   "outputs": [],
   "source": [
    "type Field_Mask is array (Field_Index) of Boolean;\n",
    "\n",
    "type Field_Masks is array (1 .. 20) of Field_Mask;\n",
    "\n",
    "Masks : Field_Masks := (others => (others => True));"
   ]
  },
  {
   "cell_type": "markdown",
   "metadata": {},
   "source": [
    "Procedure `Update_Field_Masks` looks like the `Check_Field` but it modifies masks."
   ]
  },
  {
   "cell_type": "code",
   "execution_count": 17,
   "metadata": {},
   "outputs": [],
   "source": [
    "procedure Update_Field_Masks\n",
    "  (Value : Ticket;\n",
    "   Rules : Ticket_Validation;\n",
    "   Masks : in out Field_Masks);\n",
    "--  Clear flags in Masks for fields of a ticket that unmatch rules.\n",
    "\n",
    "procedure Update_Field_Masks\n",
    "  (Value : Ticket;\n",
    "   Rules : Ticket_Validation;\n",
    "   Masks : in out Field_Masks) is\n",
    "begin\n",
    "   for F in Value'Range loop\n",
    "      for R in Rules'Range loop\n",
    "         if Value (F) not in\n",
    "           Rules (R) (1).From .. Rules (R) (1).To |\n",
    "           Rules (R) (2).From .. Rules (R) (2).To\n",
    "         then\n",
    "            Masks (F) (R) := False;\n",
    "         end if;\n",
    "      end loop;\n",
    "   end loop;\n",
    "end Update_Field_Masks;"
   ]
  },
  {
   "cell_type": "markdown",
   "metadata": {},
   "source": [
    "Now read nearby tickets, check them and fix `Masks`."
   ]
  },
  {
   "cell_type": "code",
   "execution_count": 18,
   "metadata": {},
   "outputs": [],
   "source": [
    "pragma Assert (Ada.Text_IO.Get_Line (Input) = \"\");\n",
    "pragma Assert (Ada.Text_IO.Get_Line (Input) = \"nearby tickets:\");\n",
    "\n",
    "while not Ada.Text_IO.End_Of_File (Input) loop\n",
    "   declare\n",
    "      Value : Ticket;\n",
    "   begin\n",
    "      Read_Ticket (Value);\n",
    "      if Check_Ticket (Value, Rules) then\n",
    "         Update_Field_Masks (Value, Rules, Masks);\n",
    "      end if;\n",
    "   end;\n",
    "end loop;"
   ]
  },
  {
   "cell_type": "markdown",
   "metadata": {},
   "source": [
    "Now let's fime a mapping between field descriptions and actual fields."
   ]
  },
  {
   "cell_type": "code",
   "execution_count": 19,
   "metadata": {},
   "outputs": [],
   "source": [
    "type Index_Mapping is array (Field_Index) of Natural;"
   ]
  },
  {
   "cell_type": "markdown",
   "metadata": {},
   "source": [
    "Let's find a row in `Masks` where only one `True` flag. Then fill corresponding component if `Mapping` and clear this flag in all rows. Do this 20 times."
   ]
  },
  {
   "cell_type": "code",
   "execution_count": 20,
   "metadata": {},
   "outputs": [],
   "source": [
    "procedure Find_Mapping\n",
    "  (Masks   : in out Field_Masks;\n",
    "   Mapping : out Index_Mapping);\n",
    "--  Populate Mapping according to Masks\n",
    "\n",
    "procedure Find_Mapping\n",
    "  (Masks   : in out Field_Masks;\n",
    "   Mapping : out Index_Mapping)\n",
    "is\n",
    "   procedure Find_Unique (Field : out Field_Index; Index : out Positive) is\n",
    "   begin\n",
    "      for J in Masks'Range loop\n",
    "         declare\n",
    "            Found : Boolean := False;\n",
    "         begin\n",
    "            for K in Masks (J)'Range loop\n",
    "               if Masks (J) (K) then\n",
    "                  if Found then\n",
    "                     Found := False;\n",
    "                     exit;\n",
    "                  else\n",
    "                     Found := True;\n",
    "                     Field := K;\n",
    "                     Index := J;\n",
    "                  end if;\n",
    "               end if;\n",
    "            end loop;\n",
    "\n",
    "            if Found then\n",
    "               return;\n",
    "            end if;\n",
    "         end;\n",
    "      end loop;\n",
    "\n",
    "      raise Program_Error;\n",
    "   end Find_Unique;\n",
    "\n",
    "begin\n",
    "   for J in 1 .. 20 loop\n",
    "      declare\n",
    "         Field : Field_Index;\n",
    "         Index : Positive;\n",
    "      begin\n",
    "         Find_Unique (Field, Index);\n",
    "         Mapping (Field) := Index;\n",
    "\n",
    "         declare\n",
    "            Mask : Field_Mask := (others => True);\n",
    "         begin\n",
    "            Mask (Field) := False;\n",
    "            for Item of Masks loop\n",
    "               Item := Item and Mask;\n",
    "            end loop;\n",
    "         end;\n",
    "      end;\n",
    "   end loop;\n",
    "end Find_Mapping;"
   ]
  },
  {
   "cell_type": "markdown",
   "metadata": {},
   "source": [
    "Now we are ready to find result:"
   ]
  },
  {
   "cell_type": "code",
   "execution_count": 21,
   "metadata": {},
   "outputs": [
    {
     "data": {
      "text/plain": [
       " 2628667251989\n"
      ]
     },
     "execution_count": 21,
     "metadata": {},
     "output_type": "execute_result"
    }
   ],
   "source": [
    "declare\n",
    "   Mapping : Index_Mapping := (others => 0);\n",
    "   Result : Long_Integer := 1;\n",
    "begin\n",
    "   Find_Mapping (Masks, Mapping);\n",
    "   for J in Field_Index'(1) .. 6 loop\n",
    "      Result := Result * Long_Integer (My_Ticket (Mapping (J)));\n",
    "   end loop;\n",
    "   Ada.Text_IO.Put_Line (Result'Image);\n",
    "end;"
   ]
  },
  {
   "cell_type": "markdown",
   "metadata": {},
   "source": [
    "----\n",
    "[Back to Table of Contents](https://github.com/reznikmm/ada-howto/tree/advent-2020) "
   ]
  }
 ],
 "metadata": {
  "kernelspec": {
   "display_name": "Ada",
   "language": "ada",
   "name": "ada"
  },
  "language_info": {
   "codemirror_mode": "ada",
   "file_extension": ".adb",
   "mimetype": "text/x-ada",
   "name": "Ada",
   "pygments_lexer": "ada",
   "version": "2012"
  }
 },
 "nbformat": 4,
 "nbformat_minor": 4
}
