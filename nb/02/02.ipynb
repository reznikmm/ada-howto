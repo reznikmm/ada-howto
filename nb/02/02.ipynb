{
 "cells": [
  {
   "cell_type": "markdown",
   "metadata": {},
   "source": [
    "[![Binder](https://mybinder.org/badge_logo.svg)](https://mybinder.org/v2/gh/reznikmm/ada-howto/advent-2020?filepath=%2Fhome%2Fjovyan%2Fnb%2F02%2F02.ipynb)\n",
    "\n",
    "# Day 02\n",
    "\n",
    "Firstly, we need standard packages to read the text file."
   ]
  },
  {
   "cell_type": "code",
   "execution_count": 1,
   "metadata": {},
   "outputs": [],
   "source": [
    "with Ada.Text_IO;\n",
    "with Ada.Integer_Text_IO;"
   ]
  },
  {
   "cell_type": "markdown",
   "metadata": {},
   "source": [
    "Now declare an input file object to read it latter."
   ]
  },
  {
   "cell_type": "code",
   "execution_count": 2,
   "metadata": {},
   "outputs": [],
   "source": [
    "Input : Ada.Text_IO.File_Type;"
   ]
  },
  {
   "cell_type": "markdown",
   "metadata": {},
   "source": [
    "Let's define password policy as a record type."
   ]
  },
  {
   "cell_type": "code",
   "execution_count": 3,
   "metadata": {},
   "outputs": [],
   "source": [
    "type Policy is record\n",
    "   Min_Count, Max_Count : Positive;\n",
    "   Char : Character;\n",
    "end record;"
   ]
  },
  {
   "cell_type": "markdown",
   "metadata": {},
   "source": [
    "And a procedure to read the password policy from the Input. We can cheat a bit and read `x-y` as two integers (second is a negative `-y`). Then we read 4 character (` c: `)."
   ]
  },
  {
   "cell_type": "code",
   "execution_count": 8,
   "metadata": {},
   "outputs": [],
   "source": [
    "procedure Read (P : out Policy);\n",
    "--  Read a password policy.\n",
    "\n",
    "procedure Read (P : out Policy)\n",
    "is\n",
    "   Separator : String (1 .. 4);\n",
    "   Field     : Integer;\n",
    "begin\n",
    "   Ada.Integer_Text_IO.Get (Input, P.Min_Count);\n",
    "   Ada.Integer_Text_IO.Get (Input, Field);\n",
    "   pragma Assert (Field < 0);\n",
    "   P.Max_Count := -Field;\n",
    "   Ada.Text_IO.Get (Input, Separator);\n",
    "   P.Char := Separator (2);\n",
    "end Read;"
   ]
  },
  {
   "cell_type": "markdown",
   "metadata": {},
   "source": [
    "Having a password we can check if it matches the policy. Just count number of matched characters in the password and verify it."
   ]
  },
  {
   "cell_type": "code",
   "execution_count": 5,
   "metadata": {},
   "outputs": [],
   "source": [
    "function Check (P : Policy; Password : String) return Boolean;\n",
    "--  Check if the password matches given policy\n",
    "\n",
    "\n",
    "function Check (P : Policy; Password : String) return Boolean is\n",
    "   Count : Natural := 0;\n",
    "begin\n",
    "   for C of Password loop\n",
    "      if P.Char = C then\n",
    "         Count := Count + 1;\n",
    "      end if;\n",
    "   end loop;\n",
    "   \n",
    "   return Count in P.Min_Count .. P.Max_Count;\n",
    "end Check;"
   ]
  },
  {
   "cell_type": "markdown",
   "metadata": {},
   "source": [
    "Now we read file line by line and count matched passwords."
   ]
  },
  {
   "cell_type": "code",
   "execution_count": 9,
   "metadata": {},
   "outputs": [
    {
     "data": {
      "text/plain": [
       "        546"
      ]
     },
     "execution_count": 9,
     "metadata": {},
     "output_type": "execute_result"
    }
   ],
   "source": [
    "declare\n",
    "   Total : Natural := 0;\n",
    "begin\n",
    "   Ada.Text_IO.Open (Input, Ada.Text_IO.In_File, \"/home/jovyan/md/02/input\");\n",
    "   \n",
    "   while not Ada.Text_IO.End_Of_File (Input) loop\n",
    "      declare\n",
    "         P        : Policy;\n",
    "         Password : String (1 .. 40);\n",
    "         Last     : Positive;\n",
    "      begin\n",
    "         Read (P);\n",
    "         Ada.Text_IO.Get_Line (Input, Password, Last);\n",
    "         \n",
    "         if Check (P, Password (1 .. Last)) then\n",
    "            Total := Total + 1;\n",
    "         end if;\n",
    "      end;\n",
    "   end loop;\n",
    "   \n",
    "   Ada.Integer_Text_IO.Put (Total);\n",
    "   Ada.Text_IO.Close (Input);\n",
    "end;"
   ]
  },
  {
   "cell_type": "markdown",
   "metadata": {},
   "source": [
    "Second part check is even simplier"
   ]
  },
  {
   "cell_type": "code",
   "execution_count": 10,
   "metadata": {},
   "outputs": [],
   "source": [
    "function Check_2 (P : Policy; Password : String) return Boolean is\n",
    "(P.Max_Count in Password'Range\n",
    "   and then (Password (P.Min_Count) = P.Char xor Password (P.Max_Count) = P.Char));"
   ]
  },
  {
   "cell_type": "markdown",
   "metadata": {},
   "source": [
    "Counting loop is mostly the same."
   ]
  },
  {
   "cell_type": "code",
   "execution_count": 11,
   "metadata": {},
   "outputs": [
    {
     "data": {
      "text/plain": [
       "        275"
      ]
     },
     "execution_count": 11,
     "metadata": {},
     "output_type": "execute_result"
    }
   ],
   "source": [
    "declare\n",
    "   Total : Natural := 0;\n",
    "begin\n",
    "   Ada.Text_IO.Open (Input, Ada.Text_IO.In_File, \"/home/jovyan/md/02/input\");\n",
    "   \n",
    "   while not Ada.Text_IO.End_Of_File (Input) loop\n",
    "      declare\n",
    "         P        : Policy;\n",
    "         Password : String (1 .. 40);\n",
    "         Last     : Positive;\n",
    "      begin\n",
    "         Read (P);\n",
    "         Ada.Text_IO.Get_Line (Input, Password, Last);\n",
    "         \n",
    "         if Check_2 (P, Password (1 .. Last)) then\n",
    "            Total := Total + 1;\n",
    "         end if;\n",
    "      end;\n",
    "   end loop;\n",
    "   \n",
    "   Ada.Integer_Text_IO.Put (Total);\n",
    "   Ada.Text_IO.Close (Input);\n",
    "end;"
   ]
  }
 ],
 "metadata": {
  "kernelspec": {
   "display_name": "Ada",
   "language": "ada",
   "name": "ada"
  },
  "language_info": {
   "codemirror_mode": "ada",
   "file_extension": ".adb",
   "mimetype": "text/x-ada",
   "name": "Ada",
   "pygments_lexer": "ada",
   "version": "2012"
  }
 },
 "nbformat": 4,
 "nbformat_minor": 4
}
