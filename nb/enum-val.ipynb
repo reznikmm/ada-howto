{
 "cells": [
  {
   "cell_type": "markdown",
   "metadata": {},
   "source": [
    "# Ada 2020: Enumeration representation\n",
    " \n",
    "This post is a part of [the Ada 2020 series](https://github.com/reznikmm/ada-howto/tree/ce-2021).\n",
    " \n",
    "You can launch this notebook with Jupyter Ada Kernel by clicking this button:\n",
    " \n",
    "[![Binder](https://mybinder.org/badge_logo.svg)](https://mybinder.org/v2/gh/reznikmm/ada-howto/ce-2021?filepath=%2Fhome%2Fjovyan%2Fnb%2Fenum-val.ipynb)\n",
    "\n",
    " \n",
    " * [About Jupyter Ada Kernel](https://github.com/reznikmm/ada-howto/blob/master/md/Hello_Ada.md).\n",
    "\n",
    "### Ada 2020 activation\n",
    "Firstly, let's activate Ada 2020 support in the compiler.\n",
    "Usually we do this by `-gnat2022` option in compiler command line or in the project file\n",
    "(preferred). But in this notebook we will do this by the `pragma Ada_2022`.\n",
    "Also we will need some predefined packages."
   ]
  },
  {
   "cell_type": "code",
   "execution_count": 1,
   "metadata": {},
   "outputs": [],
   "source": [
    "pragma Ada_2022;\n",
    "\n",
    "with Ada.Text_IO;\n",
    "with Ada.Integer_Text_IO;\n",
    "with Ada.Unchecked_Conversion;"
   ]
  },
  {
   "cell_type": "markdown",
   "metadata": {},
   "source": [
    "## Enumeration types\n",
    "\n",
    "Enumeration types in Ada are represented as integers on the machine level. But, actually, there are two mappings from enumeration to integer: a literal position and a representation value.\n",
    "\n",
    "### Literal positions\n",
    "Each enumeration literal has corresponding position in the type declaration. We can get it easily through `Type'Pos (Enum)` attribute."
   ]
  },
  {
   "cell_type": "code",
   "execution_count": 2,
   "metadata": {},
   "outputs": [
    {
     "data": {
      "text/plain": [
       "Pos(False) =          0\n",
       "Pos(True)  =          1"
      ]
     },
     "execution_count": 2,
     "metadata": {},
     "output_type": "execute_result"
    }
   ],
   "source": [
    "Ada.Text_IO.Put (\"Pos(False) =\");\n",
    "Ada.Integer_Text_IO.Put (Boolean'Pos (False));\n",
    "Ada.Text_IO.New_Line;\n",
    "Ada.Text_IO.Put (\"Pos(True)  =\");\n",
    "Ada.Integer_Text_IO.Put (Boolean'Pos (True));"
   ]
  },
  {
   "cell_type": "markdown",
   "metadata": {},
   "source": [
    "For reverse mapping we use `Type'Val (Int)`:"
   ]
  },
  {
   "cell_type": "code",
   "execution_count": 3,
   "metadata": {},
   "outputs": [
    {
     "data": {
      "text/plain": [
       "FALSE\n",
       "TRUE\n"
      ]
     },
     "execution_count": 3,
     "metadata": {},
     "output_type": "execute_result"
    }
   ],
   "source": [
    "Ada.Text_IO.Put_Line (Boolean'Val (0)'Image);\n",
    "Ada.Text_IO.Put_Line (Boolean'Val (1)'Image);"
   ]
  },
  {
   "cell_type": "markdown",
   "metadata": {},
   "source": [
    "### Representation values\n",
    "The representation value defines _internal code_. It is used to store enumeration value in the memory or a CPU register. By default, enumeration representation values are the same as corresponding literal positions, but you can redefine them:"
   ]
  },
  {
   "cell_type": "code",
   "execution_count": 4,
   "metadata": {},
   "outputs": [],
   "source": [
    "type My_Boolean is new Boolean;\n",
    "for My_Boolean use (False => 3, True => 6);"
   ]
  },
  {
   "cell_type": "markdown",
   "metadata": {},
   "source": [
    "Here we created a copy of Boolean type and assigned it a custom representation.\n",
    "\n",
    "In Ada 2020 we can get an integer value of the representation with `Type'Enum_Rep(Enum)` attribute:"
   ]
  },
  {
   "cell_type": "code",
   "execution_count": 5,
   "metadata": {},
   "outputs": [
    {
     "data": {
      "text/plain": [
       "Enum_Rep(False) =          3\n",
       "Enum_Rep(True)  =          6"
      ]
     },
     "execution_count": 5,
     "metadata": {},
     "output_type": "execute_result"
    }
   ],
   "source": [
    "Ada.Text_IO.Put (\"Enum_Rep(False) =\");\n",
    "Ada.Integer_Text_IO.Put (My_Boolean'Enum_Rep (False));\n",
    "Ada.Text_IO.New_Line;\n",
    "Ada.Text_IO.Put (\"Enum_Rep(True)  =\");\n",
    "Ada.Integer_Text_IO.Put (My_Boolean'Enum_Rep (True));"
   ]
  },
  {
   "cell_type": "markdown",
   "metadata": {},
   "source": [
    "And for the reverse mapping we can use `Type'Enum_Val (Int)`:"
   ]
  },
  {
   "cell_type": "code",
   "execution_count": 6,
   "metadata": {},
   "outputs": [
    {
     "data": {
      "text/plain": [
       "FALSE\n",
       "TRUE\n"
      ]
     },
     "execution_count": 6,
     "metadata": {},
     "output_type": "execute_result"
    }
   ],
   "source": [
    "Ada.Text_IO.Put_Line (My_Boolean'Enum_Val (3)'Image);\n",
    "Ada.Text_IO.Put_Line (My_Boolean'Enum_Val (6)'Image);"
   ]
  },
  {
   "cell_type": "markdown",
   "metadata": {},
   "source": [
    "NOTE. The `'Val(X)/'Pos(X)` behaviour still is the same:"
   ]
  },
  {
   "cell_type": "code",
   "execution_count": 7,
   "metadata": {},
   "outputs": [
    {
     "data": {
      "text/plain": [
       "Pos(False) =          0\n",
       "Pos(True)  =          1"
      ]
     },
     "execution_count": 7,
     "metadata": {},
     "output_type": "execute_result"
    }
   ],
   "source": [
    "Ada.Text_IO.Put (\"Pos(False) =\");\n",
    "Ada.Integer_Text_IO.Put (My_Boolean'Pos (False));\n",
    "Ada.Text_IO.New_Line;\n",
    "Ada.Text_IO.Put (\"Pos(True)  =\");\n",
    "Ada.Integer_Text_IO.Put (My_Boolean'Pos (True));"
   ]
  },
  {
   "cell_type": "markdown",
   "metadata": {},
   "source": [
    "Custom representation could be useful for integration with a low level protocol or a hardware.\n",
    "\n",
    "## Before Ada 2020\n",
    "This looks like not a big deal, but let see how it works with Ada 2012 and before. Firstly we need an integer type of matching size, then we should instantiate `Ada.Unchecked_Conversion`."
   ]
  },
  {
   "cell_type": "code",
   "execution_count": 8,
   "metadata": {},
   "outputs": [],
   "source": [
    "type My_Boolean_Int is range 3 .. 6;\n",
    "for My_Boolean_Int'Size use My_Boolean'Size;\n",
    "function To_Int is new Ada.Unchecked_Conversion (My_Boolean, My_Boolean_Int);\n",
    "function From_Int is new Ada.Unchecked_Conversion (My_Boolean_Int, My_Boolean);"
   ]
  },
  {
   "cell_type": "markdown",
   "metadata": {},
   "source": [
    "Now we call `To_Int/From_Int` to work with representation values. And an extra type conversion needed:"
   ]
  },
  {
   "cell_type": "code",
   "execution_count": 9,
   "metadata": {},
   "outputs": [
    {
     "data": {
      "text/plain": [
       "To_Int(False) =          3\n",
       "To_Int(True)  =          6"
      ]
     },
     "execution_count": 9,
     "metadata": {},
     "output_type": "execute_result"
    }
   ],
   "source": [
    "Ada.Text_IO.Put (\"To_Int(False) =\");\n",
    "Ada.Integer_Text_IO.Put (Integer (To_Int (False)));\n",
    "Ada.Text_IO.New_Line;\n",
    "Ada.Text_IO.Put (\"To_Int(True)  =\");\n",
    "Ada.Integer_Text_IO.Put (Integer (To_Int (True)));"
   ]
  },
  {
   "cell_type": "markdown",
   "metadata": {},
   "source": [
    "But this solution doesn't work for generic formal type (because T'Size should be a static value)!\n",
    "\n",
    "## References:\n",
    " * [Ada Reference Manual 2020 Draft](http://www.ada-auth.org/standards/2xaarm/html/AA-13-4.html)\n",
    " * [AI12-0237-1](http://www.ada-auth.org/cgi-bin/cvsweb.cgi/AI12s/AI12-0237-1.TXT)\n",
    " ----\n",
    "\n",
    "Do you like this? Support us on [patreon](https://www.patreon.com/ada_ru)!\n",
    "\n",
    "Live discussions: [Telegram](https://t.me/ada_lang), [Matrix](https://matrix.to/#/#ada-lang:matrix.org)."
   ]
  }
 ],
 "metadata": {
  "kernelspec": {
   "display_name": "Ada",
   "language": "ada",
   "name": "ada"
  },
  "language_info": {
   "codemirror_mode": "ada",
   "file_extension": ".adb",
   "mimetype": "text/x-ada",
   "name": "Ada",
   "pygments_lexer": "ada",
   "version": "2012"
  }
 },
 "nbformat": 4,
 "nbformat_minor": 4
}
