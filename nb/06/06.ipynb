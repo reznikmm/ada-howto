{
 "cells": [
  {
   "cell_type": "markdown",
   "metadata": {},
   "source": [
    "[![Binder](https://mybinder.org/badge_logo.svg)](https://mybinder.org/v2/gh/reznikmm/ada-howto/advent-2020?filepath=%2Fhome%2Fjovyan%2Fnb%2F06%2F06.ipynb)\n",
    "\n",
    "# Day 6\n",
    "\n",
    "Firstly, we need some standard packages to read the text file."
   ]
  },
  {
   "cell_type": "code",
   "execution_count": 1,
   "metadata": {},
   "outputs": [],
   "source": [
    "with Ada.Text_IO;"
   ]
  },
  {
   "cell_type": "markdown",
   "metadata": {},
   "source": [
    "We represent an answer as array of `Boolean`."
   ]
  },
  {
   "cell_type": "code",
   "execution_count": 2,
   "metadata": {},
   "outputs": [],
   "source": [
    "type Answer_Array is array (Character range 'a' .. 'z') of Boolean;"
   ]
  },
  {
   "cell_type": "markdown",
   "metadata": {},
   "source": [
    "A helper function to count `yes` reponses in an answer:"
   ]
  },
  {
   "cell_type": "code",
   "execution_count": 3,
   "metadata": {},
   "outputs": [],
   "source": [
    "function Count (Value : Answer_Array) return Natural is\n",
    "   Result : Natural := 0;\n",
    "begin\n",
    "   for Answer of Value loop\n",
    "      if Answer then\n",
    "         Result := Result + 1;\n",
    "      end if;\n",
    "   end loop;\n",
    "      \n",
    "   return Result;\n",
    "end Count;"
   ]
  },
  {
   "cell_type": "markdown",
   "metadata": {},
   "source": [
    "As in previous solution we are calculating both part one and part two tasks. For each group we will calculate two answers - for part 1 and part 2. On each step group answer for part 1 will extend, while for part 2 it will shrink. That's why the initialization values."
   ]
  },
  {
   "cell_type": "code",
   "execution_count": 4,
   "metadata": {},
   "outputs": [],
   "source": [
    "Result_1 : Natural := 0;\n",
    "Result_2 : Natural := 0;\n",
    "\n",
    "Group_Answer_1 : Answer_Array := (others => False);\n",
    "Group_Answer_2 : Answer_Array := (others => True);"
   ]
  },
  {
   "cell_type": "markdown",
   "metadata": {},
   "source": [
    "Let's read the file using `Input`:"
   ]
  },
  {
   "cell_type": "code",
   "execution_count": 5,
   "metadata": {},
   "outputs": [],
   "source": [
    "Input : Ada.Text_IO.File_Type;"
   ]
  },
  {
   "cell_type": "markdown",
   "metadata": {},
   "source": [
    "Now let's read input:"
   ]
  },
  {
   "cell_type": "code",
   "execution_count": 6,
   "metadata": {},
   "outputs": [],
   "source": [
    "Ada.Text_IO.Open (Input, Ada.Text_IO.In_File, \"/home/jovyan/md/06/input\");\n",
    "\n",
    "while not Ada.Text_IO.End_Of_File (Input) loop\n",
    "   declare\n",
    "      Line : String := Ada.Text_IO.Get_Line (Input);\n",
    "   begin\n",
    "      if Line = \"\" then\n",
    "         Result_1 := Result_1 + Count (Group_Answer_1);\n",
    "         Result_2 := Result_2 + Count (Group_Answer_2);\n",
    "           \n",
    "         Group_Answer_1 := (others => False);\n",
    "         Group_Answer_2 := (others => True);\n",
    "      else\n",
    "         declare\n",
    "            Current_Answer : Answer_Array := (others => False);\n",
    "         begin\n",
    "            for Char of Line loop\n",
    "               Current_Answer (Char) := True;\n",
    "            end loop;\n",
    "               \n",
    "            Group_Answer_1 := Group_Answer_1 or Current_Answer;\n",
    "            Group_Answer_2 := Group_Answer_2 and Current_Answer;\n",
    "         end;\n",
    "      end if;\n",
    "   end;\n",
    "end loop;"
   ]
  },
  {
   "cell_type": "markdown",
   "metadata": {},
   "source": [
    "Take last group answers into account:"
   ]
  },
  {
   "cell_type": "code",
   "execution_count": 7,
   "metadata": {},
   "outputs": [],
   "source": [
    "Result_1 := Result_1 + Count (Group_Answer_1);\n",
    "Result_2 := Result_2 + Count (Group_Answer_2);"
   ]
  },
  {
   "cell_type": "markdown",
   "metadata": {},
   "source": [
    "Now print results for part 1 and part 2:"
   ]
  },
  {
   "cell_type": "code",
   "execution_count": 8,
   "metadata": {},
   "outputs": [
    {
     "data": {
      "text/plain": [
       " 6742\n",
       " 3447\n"
      ]
     },
     "execution_count": 8,
     "metadata": {},
     "output_type": "execute_result"
    }
   ],
   "source": [
    "Ada.Text_IO.Put_Line (Result_1'Image);\n",
    "Ada.Text_IO.Put_Line (Result_2'Image);"
   ]
  },
  {
   "cell_type": "markdown",
   "metadata": {},
   "source": [
    "----\n",
    "[Back to Table of Contents](https://github.com/reznikmm/ada-howto/tree/advent-2020)"
   ]
  }
 ],
 "metadata": {
  "kernelspec": {
   "display_name": "Ada",
   "language": "ada",
   "name": "ada"
  },
  "language_info": {
   "codemirror_mode": "ada",
   "file_extension": ".adb",
   "mimetype": "text/x-ada",
   "name": "Ada",
   "pygments_lexer": "ada",
   "version": "2012"
  }
 },
 "nbformat": 4,
 "nbformat_minor": 4
}
