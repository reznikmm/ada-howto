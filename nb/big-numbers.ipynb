{
 "cells": [
  {
   "cell_type": "markdown",
   "metadata": {},
   "source": [
    "# Ada 2022: Big Numbers\n",
    " \n",
    "This post is a part of [the Ada 2022 series](https://github.com/reznikmm/ada-howto/tree/ce-2021).\n",
    " \n",
    "You can launch this notebook with Jupyter Ada Kernel by clicking this button:\n",
    " \n",
    "[![Binder](https://mybinder.org/badge_logo.svg)](https://mybinder.org/v2/gh/reznikmm/ada-howto/ce-2021?filepath=%2Fhome%2Fjovyan%2Fnb%2Fbig-numbers.ipynb)\n",
    "\n",
    " \n",
    " * [About Jupyter Ada Kernel](https://github.com/reznikmm/ada-howto/blob/master/md/Hello_Ada.md).\n",
    "\n",
    "### Ada 2022 activation\n",
    "Firstly, let's activate Ada 2022 support in the compiler.\n",
    "Usually we do this by `-gnat2022` option in compiler command line or in the project file\n",
    "(preferred). But in this notebook we will do this by the `pragma Ada_2022`.\n",
    "Also we will need some predefined packages, especially `Ada.Numerics.Big_Numbers.Big_Integers`."
   ]
  },
  {
   "cell_type": "code",
   "execution_count": 1,
   "metadata": {},
   "outputs": [],
   "source": [
    "pragma Ada_2022;\n",
    "\n",
    "with Ada.Text_IO;\n",
    "with Ada.Numerics.Big_Numbers.Big_Integers;\n",
    "use  Ada.Numerics.Big_Numbers.Big_Integers;"
   ]
  },
  {
   "cell_type": "markdown",
   "metadata": {},
   "source": [
    "## Big_Integers\n",
    "\n",
    "The package `Ada.Numerics.Big_Numbers.Big_Integers` contains a type `Big_Integer` and corresponding operation like comparison (`=, <, >, <=, >=`), arithmetic (`+, -, *, /, rem, mod, abs, **`), `Min`, `Max` and `Greatest_Common_Divisor`. The type has `Integer_Literal` and `Put_Image` aspects redefined. So you can use it in a natural way."
   ]
  },
  {
   "cell_type": "code",
   "execution_count": 2,
   "metadata": {},
   "outputs": [
    {
     "data": {
      "text/plain": [
       " 115792089237316195423570985008687907853269984665640564039457584007913129639936\n"
      ]
     },
     "execution_count": 2,
     "metadata": {},
     "output_type": "execute_result"
    }
   ],
   "source": [
    "Ada.Text_IO.Put_Line (Big_Integer'Image(2 ** 256));"
   ]
  },
  {
   "cell_type": "markdown",
   "metadata": {},
   "source": [
    "## Tiny RSA implementation\n",
    "Now we can implement [the RSA algorithm](https://en.wikipedia.org/wiki/RSA_(cryptosystem)) in a few lines of code. The main operation of RSA is **(mᵈ) mod n**. But you can't just write `m ** d`, because these are really big numbers and the result doesn't fit the memory. However if you keep intermediate result by `mod n` during mᵈ calculation then it will work. Let's write this operation as a function:"
   ]
  },
  {
   "cell_type": "code",
   "execution_count": 3,
   "metadata": {},
   "outputs": [],
   "source": [
    "function Power_Mod (M, D, N : Big_Integer) return Big_Integer;\n",
    "--  Calculate M ** D mod N\n",
    "\n",
    "function Power_Mod (M, D, N : Big_Integer) return Big_Integer is\n",
    "\n",
    "   function Is_Odd (X : Big_Integer) return Boolean is\n",
    "     (X mod 2 /= 0);\n",
    "\n",
    "   Result : Big_Integer := 1;\n",
    "   Exp    : Big_Integer := D;\n",
    "   Mult   : Big_Integer := M mod N;\n",
    "begin\n",
    "   while Exp /= 0 loop\n",
    "      --  Loop invariant is Power_Mod'Result = Result * Mult**Exp mod N\n",
    "      if Is_Odd (Exp) then\n",
    "         Result := (Result * Mult) mod N;\n",
    "      end if;\n",
    "\n",
    "      Mult := Mult ** 2 mod N;\n",
    "      Exp := Exp / 2;\n",
    "   end loop;\n",
    "\n",
    "   return Result;\n",
    "end Power_Mod;"
   ]
  },
  {
   "cell_type": "markdown",
   "metadata": {},
   "source": [
    "Let's check this with the example from [Wikipedia](https://en.wikipedia.org/wiki/RSA_(cryptosystem)). In the example the _public key_ is (n = 3233, e = 17) and _the message_ is m = 65. The encrypted message is mᵉ mod n = 65¹⁷ mod 3233 = 2790 = c."
   ]
  },
  {
   "cell_type": "code",
   "execution_count": 4,
   "metadata": {},
   "outputs": [
    {
     "data": {
      "text/plain": [
       " 2790\n"
      ]
     },
     "execution_count": 4,
     "metadata": {},
     "output_type": "execute_result"
    }
   ],
   "source": [
    "Ada.Text_IO.Put_Line (Power_Mod (M => 65, D => 17, N => 3233)'Image);"
   ]
  },
  {
   "cell_type": "markdown",
   "metadata": {},
   "source": [
    "To decrypt it with the _public key_ (n = 3233, d = 413) we need to calculate cᵈ mod n = 2790⁴¹³ mod 3233"
   ]
  },
  {
   "cell_type": "code",
   "execution_count": 5,
   "metadata": {},
   "outputs": [
    {
     "data": {
      "text/plain": [
       " 65\n"
      ]
     },
     "execution_count": 5,
     "metadata": {},
     "output_type": "execute_result"
    }
   ],
   "source": [
    "Ada.Text_IO.Put_Line (Power_Mod (M => 2790, D => 413, N => 3233)'Image);"
   ]
  },
  {
   "cell_type": "markdown",
   "metadata": {},
   "source": [
    "So 65 is the original message m. Easy!\n",
    "\n",
    "## Example JWS Using RSASSA-PKCS1-v1_5 SHA-256\n",
    "\n",
    "Will this work with keys of a _real size_? Let check out implementation with another example.\n",
    "\n",
    "[RFC 7515](https://tools.ietf.org/html/rfc7515#page-38) has an example for JSON Web Signature (JWS). They want to sign this piece of data:"
   ]
  },
  {
   "cell_type": "code",
   "execution_count": 6,
   "metadata": {},
   "outputs": [],
   "source": [
    "Header_And_Payload : String :=\n",
    "  \"eyJhbGciOiJSUzI1NiJ9\" &\n",
    "  \".\" &\n",
    "  \"eyJpc3MiOiJqb2UiLA0KICJleHAiOjEzMDA4MTkzODAsDQogImh0dHA6Ly9leGFt\" &\n",
    "  \"cGxlLmNvbS9pc19yb290Ijp0cnVlfQ\";"
   ]
  },
  {
   "cell_type": "markdown",
   "metadata": {},
   "source": [
    "The signature calculation uses RSA, so it needs a private key. In the example, they provide us a 2048 bits private key encoded into Base64 (url):"
   ]
  },
  {
   "cell_type": "code",
   "execution_count": 7,
   "metadata": {},
   "outputs": [],
   "source": [
    "--  Modulus\n",
    "N_Image : constant String :=\n",
    " \"ofgWCuLjybRlzo0tZWJjNiuSfb4p4fAkd_wWJcyQoTbji9k0l8W26mPddx\" &\n",
    " \"HmfHQp-Vaw-4qPCJrcS2mJPMEzP1Pt0Bm4d4QlL-yRT-SFd2lZS-pCgNMs\" &\n",
    " \"D1W_YpRPEwOWvG6b32690r2jZ47soMZo9wGzjb_7OMg0LOL-bSf63kpaSH\" &\n",
    " \"SXndS5z5rexMdbBYUsLA9e-KXBdQOS-UTo7WTBEMa2R2CapHg665xsmtdV\" &\n",
    " \"MTBQY4uDZlxvb3qCo5ZwKh9kG4LT6_I5IhlJH7aGhyxXFvUK-DWNmoudF8\" &\n",
    " \"NAco9_h9iaGNj8q2ethFkMLs91kzk2PAcDTW9gb54h4FRWyuXpoQ\";\n",
    "\n",
    "--  Private exponent\n",
    "D_Image : constant String :=\n",
    " \"Eq5xpGnNCivDflJsRQBXHx1hdR1k6Ulwe2JZD50LpXyWPEAeP88vLNO97I\" &\n",
    " \"jlA7_GQ5sLKMgvfTeXZx9SE-7YwVol2NXOoAJe46sui395IW_GO-pWJ1O0\" &\n",
    " \"BkTGoVEn2bKVRUCgu-GjBVaYLU6f3l9kJfFNS3E0QbVdxzubSu3Mkqzjkn\" &\n",
    " \"439X0M_V51gfpRLI9JYanrC4D4qAdGcopV_0ZHHzQlBjudU2QvXt4ehNYT\" &\n",
    " \"CBr6XCLQUShb1juUO1ZdiYoFaFQT5Tw8bGUl_x_jTj3ccPDVZFD9pIuhLh\" &\n",
    " \"BOneufuBiB4cS98l2SR_RQyGWSeWjnczT0QU91p1DhOVRuOopznQ\";\n"
   ]
  },
  {
   "cell_type": "markdown",
   "metadata": {},
   "source": [
    "So we need a function to decode base64 into a big integer. It's rather simple. We loop over each character, convert it into base64 \"digit\" and make a result from such digits."
   ]
  },
  {
   "cell_type": "code",
   "execution_count": 8,
   "metadata": {},
   "outputs": [],
   "source": [
    "function From_Base_64 (Text : String) return Big_Integer;\n",
    "--  Cast base64 text into a big integer.\n",
    "\n",
    "function From_Base_64 (Text : String) return Big_Integer is\n",
    "   Result : Big_Integer := 0;\n",
    "   Next   : Integer;\n",
    "begin\n",
    "   for Char of Text loop\n",
    "      Next :=\n",
    "        (case Char is\n",
    "           when 'A' .. 'Z' =>\n",
    "             Character'Pos (Char) - Character'Pos ('A'),\n",
    "           when 'a' .. 'z' =>\n",
    "             Character'Pos (Char) - Character'Pos ('a') + 26,\n",
    "           when '0' .. '9' =>\n",
    "             Character'Pos (Char) - Character'Pos ('0') + 52,\n",
    "           when '-' => 62,\n",
    "           when '_' => 63,\n",
    "           when others => raise Constraint_Error);\n",
    "\n",
    "      Result := Result * 64 + To_Big_Integer (Next);\n",
    "   end loop;\n",
    "\n",
    "   --  Trim extra zeros from Result\n",
    "   return Result / 2 ** (Text'Length * 6 mod 8);\n",
    "end From_Base_64;"
   ]
  },
  {
   "cell_type": "markdown",
   "metadata": {},
   "source": [
    "(We need some result rounding, because base64 text actually represents byte array, not 6-bit integers sequence).\n",
    "\n",
    "Calculation of the signature involves SHA-256 of the payload, so let's import GNAT implementation for this:"
   ]
  },
  {
   "cell_type": "code",
   "execution_count": 9,
   "metadata": {},
   "outputs": [],
   "source": [
    "with GNAT.SHA256;\n",
    "with Ada.Streams;"
   ]
  },
  {
   "cell_type": "markdown",
   "metadata": {},
   "source": [
    "The signature is calculated for a message, that contains a fixed header appended with SHA-512 of the payload:"
   ]
  },
  {
   "cell_type": "code",
   "execution_count": 11,
   "metadata": {},
   "outputs": [],
   "source": [
    "use type Ada.Streams.Stream_Element_Array;\n",
    "\n",
    "SHA_256 : Ada.Streams.Stream_Element_Array :=\n",
    "  GNAT.SHA256.Digest (Header_And_Payload);\n",
    "\n",
    "Message : Ada.Streams.Stream_Element_Array :=\n",
    " (0, 1) & (1 .. 202 => 16#FF#) & 0 &\n",
    " (16#30#, 16#31#, 16#30#, 16#0d#, 16#06#, 16#09#, 16#60#, 16#86#,\n",
    "  16#48#, 16#01#, 16#65#, 16#03#, 16#04#, 16#02#, 16#01#, 16#05#,\n",
    "  16#00#, 16#04#, 16#20#) & \n",
    " SHA_256;"
   ]
  },
  {
   "cell_type": "markdown",
   "metadata": {},
   "source": [
    "The message here is a byte array. Let's cast it to a big number with this simple function:"
   ]
  },
  {
   "cell_type": "code",
   "execution_count": 12,
   "metadata": {},
   "outputs": [],
   "source": [
    "function From_Bytes (Data : Ada.Streams.Stream_Element_Array) return Big_Integer;\n",
    "--  Cast byte array into a big number\n",
    "\n",
    "function From_Bytes (Data : Ada.Streams.Stream_Element_Array) return Big_Integer is\n",
    "   Result : Big_Integer := 0;\n",
    "begin\n",
    "   for Byte of Data loop\n",
    "      Result := Result * 256 + To_Big_Integer (Integer (Byte));\n",
    "   end loop;\n",
    "\n",
    "   return Result;\n",
    "end From_Bytes;"
   ]
  },
  {
   "cell_type": "markdown",
   "metadata": {},
   "source": [
    "Now we are ready to calculate the signature."
   ]
  },
  {
   "cell_type": "code",
   "execution_count": 13,
   "metadata": {},
   "outputs": [],
   "source": [
    "N : constant Big_Integer := From_Base_64 (N_Image);  --  modulus\n",
    "D : constant Big_Integer := From_Base_64 (D_Image);  --  exponent\n",
    "M : constant Big_Integer := From_Bytes(Message);     --  message\n",
    "\n",
    "Signature : Big_Integer := Power_Mod(M, D, N);"
   ]
  },
  {
   "cell_type": "markdown",
   "metadata": {},
   "source": [
    "How can we check the result? The example in RFC contains an expected result. It's base64 encoded also:"
   ]
  },
  {
   "cell_type": "code",
   "execution_count": 14,
   "metadata": {},
   "outputs": [],
   "source": [
    "S_Image : constant String :=\n",
    " \"cC4hiUPoj9Eetdgtv3hF80EGrhuB__dzERat0XF9g2VtQgr9PJbu3XOiZj5RZmh7\" &\n",
    " \"AAuHIm4Bh-0Qc_lF5YKt_O8W2Fp5jujGbds9uJdbF9CUAr7t1dnZcAcQjbKBYNX4\" &\n",
    " \"BAynRFdiuB--f_nZLgrnbyTyWzO75vRK5h6xBArLIARNPvkSjtQBMHlb1L07Qe7K\" &\n",
    " \"0GarZRmB_eSN9383LcOLn6_dO--xi12jzDwusC-eOkHWEsqtFZESc6BfI7noOPqv\" &\n",
    " \"hJ1phCnvWh6IeYI2w9QOYEUipUTI8np6LbgGY9Fs98rqVt5AXLIhWkWywlVmtVrB\" &\n",
    " \"p0igcN_IoypGlUPQGe77Rw\";\n",
    "\n",
    "\n",
    "S : Big_Integer := From_Base_64 (S_Image);\n"
   ]
  },
  {
   "cell_type": "markdown",
   "metadata": {},
   "source": [
    "So we just compare decoded value with our result:"
   ]
  },
  {
   "cell_type": "code",
   "execution_count": 15,
   "metadata": {},
   "outputs": [
    {
     "data": {
      "text/plain": [
       "Match:TRUE\n"
      ]
     },
     "execution_count": 15,
     "metadata": {},
     "output_type": "execute_result"
    }
   ],
   "source": [
    "Ada.Text_IO.Put_Line(\"Match:\" & Boolean'Image(Signature = S));"
   ]
  },
  {
   "cell_type": "markdown",
   "metadata": {},
   "source": [
    "This is the end of the RSA example.\n",
    "\n",
    "Besides Big_Integer, Ada 2022 provides [Big Reals](http://www.ada-auth.org/standards/2xaarm/html/AA-A-5-7.html).\n",
    "\n",
    "## References:\n",
    " * [Ada Reference Manual 2022 Draft](http://www.ada-auth.org/standards/2xaarm/html/AA-A-5-6.html)\n",
    " * [AI12-0208-1](http://www.ada-auth.org/cgi-bin/cvsweb.cgi/AI12s/AI12-0208-1.TXT)\n",
    " ----\n",
    "\n",
    "Do you like this? Support us on [patreon](https://www.patreon.com/ada_ru)!\n",
    "\n",
    "Live discussions: [Telegram](https://t.me/ada_lang), [Matrix](https://matrix.to/#/#ada-lang:matrix.org)."
   ]
  }
 ],
 "metadata": {
  "kernelspec": {
   "display_name": "Ada",
   "language": "ada",
   "name": "ada"
  },
  "language_info": {
   "codemirror_mode": "ada",
   "file_extension": ".adb",
   "mimetype": "text/x-ada",
   "name": "Ada",
   "pygments_lexer": "ada",
   "version": "2012"
  }
 },
 "nbformat": 4,
 "nbformat_minor": 4
}
