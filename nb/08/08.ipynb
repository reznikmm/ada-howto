{
 "cells": [
  {
   "cell_type": "markdown",
   "metadata": {},
   "source": [
    "[![Binder](https://mybinder.org/badge_logo.svg)](https://mybinder.org/v2/gh/reznikmm/ada-howto/advent-2020?filepath=%2Fhome%2Fjovyan%2Fnb%2F08%2F08.ipynb)\n",
    "\n",
    "# Day 8\n",
    "\n",
    "Firstly, we need some standard packages to read the text file and a vector to keep a program."
   ]
  },
  {
   "cell_type": "code",
   "execution_count": 1,
   "metadata": {},
   "outputs": [],
   "source": [
    "with Ada.Text_IO;\n",
    "with Ada.Integer_Text_IO;\n",
    "with Ada.Containers.Vectors;"
   ]
  },
  {
   "cell_type": "markdown",
   "metadata": {},
   "source": [
    "Define instruction kind as an enumeration type and the instruction as a record type. Then we can represent a program as a vector of instructions."
   ]
  },
  {
   "cell_type": "code",
   "execution_count": 2,
   "metadata": {},
   "outputs": [],
   "source": [
    "type Instruction_Kind is (acc, jmp, nop);\n",
    "\n",
    "type Instruction is record\n",
    "   Kind     : Instruction_Kind;\n",
    "   Argument : Integer;\n",
    "end record;\n",
    "\n",
    "package Instruction_Vectors is new Ada.Containers.Vectors\n",
    "  (Positive, Instruction);\n",
    "\n",
    "Program : Instruction_Vectors.Vector;"
   ]
  },
  {
   "cell_type": "markdown",
   "metadata": {},
   "source": [
    "Instantiate an Enumeration_IO package to read instruction kinds."
   ]
  },
  {
   "cell_type": "code",
   "execution_count": 3,
   "metadata": {},
   "outputs": [],
   "source": [
    "package Kind_IO is new Ada.Text_IO.Enumeration_IO (Instruction_Kind);"
   ]
  },
  {
   "cell_type": "markdown",
   "metadata": {},
   "source": [
    "Now read the program from input file."
   ]
  },
  {
   "cell_type": "code",
   "execution_count": 4,
   "metadata": {},
   "outputs": [],
   "source": [
    "declare\n",
    "   Input  : Ada.Text_IO.File_Type;\n",
    "begin\n",
    "   Ada.Text_IO.Open (Input, Ada.Text_IO.In_File, \"/home/jovyan/md/08/input\");\n",
    "\n",
    "   while not Ada.Text_IO.End_Of_File (Input) loop\n",
    "      declare\n",
    "         Code : Instruction;\n",
    "      begin\n",
    "         Kind_IO.Get (Input, Code.Kind);\n",
    "         Ada.Integer_Text_IO.Get (Input, Code.Argument);\n",
    "         Program.Append (Code);\n",
    "      end;\n",
    "   end loop;\n",
    "end;"
   ]
  },
  {
   "cell_type": "markdown",
   "metadata": {},
   "source": [
    "Now let's write a virtual machine, a procedure to execute the program. To prevent execution from a hang, we will track execution in `Trace` array and stop execution if see already executed instruction. The `PC` is a \"program counter\", while `Accumulator` is the accumulator."
   ]
  },
  {
   "cell_type": "code",
   "execution_count": 5,
   "metadata": {},
   "outputs": [],
   "source": [
    "procedure Execute\n",
    "  (Program      : in out Instruction_Vectors.Vector;\n",
    "   Accumulator  : out Integer;\n",
    "   Hangs        : out Boolean);\n",
    "--  Execute the Program and return Accumulator if it hangs or exit.\n",
    "\n",
    "procedure Execute\n",
    "  (Program      : in out Instruction_Vectors.Vector;\n",
    "   Accumulator  : out Integer;\n",
    "   Hangs        : out Boolean)\n",
    "is\n",
    "   Trace : array (Program.First_Index .. Program.Last_Index) of Boolean :=\n",
    "     (others => False);\n",
    "   PC : Positive := Program.First_Index;\n",
    "begin\n",
    "   Accumulator := 0;\n",
    "      \n",
    "   while PC <= Program.Last_Index loop\n",
    "      declare\n",
    "         Code : Instruction renames Program (PC);\n",
    "      begin\n",
    "         exit when Trace (PC);\n",
    "            \n",
    "         Trace (PC) := True;\n",
    "\n",
    "         case Code.Kind is\n",
    "            when acc =>\n",
    "               Accumulator := Accumulator + Code.Argument;\n",
    "               PC := PC + 1;\n",
    "            when jmp =>\n",
    "               PC := PC + Code.Argument;\n",
    "            when nop =>\n",
    "               PC := PC + 1;\n",
    "         end case;\n",
    "      end;\n",
    "   end loop;\n",
    "      \n",
    "   Hangs := PC <= Program.Last_Index;\n",
    "end Execute;"
   ]
  },
  {
   "cell_type": "markdown",
   "metadata": {},
   "source": [
    "Print result of part 1:"
   ]
  },
  {
   "cell_type": "code",
   "execution_count": 6,
   "metadata": {},
   "outputs": [
    {
     "data": {
      "text/plain": [
       "       1521"
      ]
     },
     "execution_count": 6,
     "metadata": {},
     "output_type": "execute_result"
    }
   ],
   "source": [
    "declare\n",
    "   Result : Integer;\n",
    "   Hangs  : Boolean;\n",
    "begin\n",
    "   Execute (Program, Result, Hangs);\n",
    "   pragma Assert (Hangs);\n",
    "   Ada.Integer_Text_IO.Put (Result);\n",
    "end;"
   ]
  },
  {
   "cell_type": "markdown",
   "metadata": {},
   "source": [
    "To solve the second part let's try to mutate each instruction in the program and check if it hangs."
   ]
  },
  {
   "cell_type": "code",
   "execution_count": 7,
   "metadata": {},
   "outputs": [
    {
     "data": {
      "text/plain": [
       "       1016"
      ]
     },
     "execution_count": 7,
     "metadata": {},
     "output_type": "execute_result"
    }
   ],
   "source": [
    "for Code of Program loop\n",
    "   declare\n",
    "      Save   : constant Instruction := Code;\n",
    "      Result : Integer;\n",
    "      Hangs  : Boolean := True;\n",
    "   begin\n",
    "      case Code.Kind is\n",
    "         when acc =>\n",
    "            null;  --  Don't mutate acc instruction\n",
    "         when jmp =>\n",
    "            Code.Kind := nop;\n",
    "            Execute (Program, Result, Hangs);\n",
    "         when nop =>\n",
    "            Code.Kind := jmp;\n",
    "            Execute (Program, Result, Hangs);\n",
    "      end case;\n",
    "\n",
    "      if Hangs then\n",
    "         Code := Save;\n",
    "      else\n",
    "         Ada.Integer_Text_IO.Put (Result);\n",
    "         exit;\n",
    "      end if;\n",
    "   end;\n",
    "end loop;"
   ]
  },
  {
   "cell_type": "markdown",
   "metadata": {},
   "source": [
    "----\n",
    "[Back to Table of Contents](https://github.com/reznikmm/ada-howto/tree/advent-2020)"
   ]
  }
 ],
 "metadata": {
  "kernelspec": {
   "display_name": "Ada",
   "language": "ada",
   "name": "ada"
  },
  "language_info": {
   "codemirror_mode": "ada",
   "file_extension": ".adb",
   "mimetype": "text/x-ada",
   "name": "Ada",
   "pygments_lexer": "ada",
   "version": "2012"
  }
 },
 "nbformat": 4,
 "nbformat_minor": 4
}
