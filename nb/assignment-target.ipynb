{
 "cells": [
  {
   "cell_type": "markdown",
   "metadata": {},
   "source": [
    "# Ada 2022: Target Name Symbol (`@`)\n",
    " \n",
    "This post is a part of [the Ada 2022 series](https://github.com/reznikmm/ada-howto/tree/ce-2021).\n",
    " \n",
    "You can launch this notebook with Jupyter Ada Kernel by clicking this button:\n",
    " \n",
    "[![Binder](https://mybinder.org/badge_logo.svg)](https://mybinder.org/v2/gh/reznikmm/ada-howto/ce-2021?filepath=%2Fhome%2Fjovyan%2Fnb%2Fassignment-target.ipynb)\n",
    "\n",
    " \n",
    " * [About Jupyter Ada Kernel](https://github.com/reznikmm/ada-howto/blob/master/md/Hello_Ada.md).\n",
    "\n",
    "### Ada 2022 activation\n",
    "Firstly, let's activate Ada 2022 support in the compiler.\n",
    "Usually we do this by `-gnat2022` option in compiler command line or in the project file\n",
    "(preferred). But in this notebook we will do this by the `pragma Ada_2022`.\n",
    "Also we will need some predefined packages."
   ]
  },
  {
   "cell_type": "code",
   "execution_count": 1,
   "metadata": {},
   "outputs": [],
   "source": [
    "pragma Ada_2022;\n",
    "\n",
    "with Ada.Text_IO;"
   ]
  },
  {
   "cell_type": "markdown",
   "metadata": {},
   "source": [
    "Ada 2022 introduces a new symbol `@`. It could appears only at the right side of an assignment statement. This symbol works as a name of the left side of the assignment statement. It was introduced to avoid code duplication. Instead of retyping (potentially long) name you can just use `@` wherever you need it.\n",
    "\n",
    "The target name symbol denotes a constant, so you can't pass it into `[in] out` argument of a function."
   ]
  },
  {
   "cell_type": "code",
   "execution_count": 2,
   "metadata": {},
   "outputs": [],
   "source": [
    "type Statistic is record\n",
    "   Count : Natural := 0;\n",
    "   Total : Float := 0.0;\n",
    "end record;\n",
    "\n",
    "My_Data : array (1 .. 5) of Float := (for J in 1 .. 5 => Float (J));\n",
    "\n",
    "Statistic_For_My_Data : Statistic;\n"
   ]
  },
  {
   "cell_type": "markdown",
   "metadata": {},
   "source": [
    "As an example, let's calculate some statistic for `My_Data` array:"
   ]
  },
  {
   "cell_type": "code",
   "execution_count": 3,
   "metadata": {},
   "outputs": [
    {
     "data": {
      "text/plain": [
       "\n",
       "(COUNT =>  5,\n",
       " TOTAL =>  1.50000E+01)\n"
      ]
     },
     "execution_count": 3,
     "metadata": {},
     "output_type": "execute_result"
    }
   ],
   "source": [
    "for Data of My_Data loop\n",
    "   Statistic_For_My_Data.Count := @ + 1;\n",
    "   Statistic_For_My_Data.Total := @ + Data;\n",
    "end loop;\n",
    "    \n",
    "Ada.Text_IO.Put_Line (Statistic_For_My_Data'Image);"
   ]
  },
  {
   "cell_type": "markdown",
   "metadata": {},
   "source": [
    "The left hand side evaluated just once, no matter how many `@` it has. Let's check this by introducing a function call. This function prints a line each time it's called:"
   ]
  },
  {
   "cell_type": "code",
   "execution_count": 4,
   "metadata": {},
   "outputs": [],
   "source": [
    "function To_Index (Value : Positive) return Positive is\n",
    "begin\n",
    "   Ada.Text_IO.Put_Line (\"To_Index is called.\");\n",
    "   return Value;\n",
    "end To_Index;"
   ]
  },
  {
   "cell_type": "markdown",
   "metadata": {},
   "source": [
    "Now run an assignment statement:"
   ]
  },
  {
   "cell_type": "code",
   "execution_count": 5,
   "metadata": {},
   "outputs": [
    {
     "data": {
      "text/plain": [
       "To_Index is called.\n"
      ]
     },
     "execution_count": 5,
     "metadata": {},
     "output_type": "execute_result"
    }
   ],
   "source": [
    "My_Data (To_Index (1)) := @ ** 2 - 3.0 * @;"
   ]
  },
  {
   "cell_type": "markdown",
   "metadata": {},
   "source": [
    "Perhaps, it looks a bit cryptic, but no better solution was found. Comparing with other languages (like `sum += x;`) this approach let you mention `@` several times on the right side of an assigment statement, so it's more flexible.\n",
    "\n",
    "### Alternatives\n",
    "In C++, the previous statement could be written with a reference type (one line longer!):\n",
    "```C++\n",
    "auto& a = my_data[to_index(1)];\n",
    "a = a * a - 3.0 * a;\n",
    "```\n",
    "\n",
    "In Ada 2022 you can use a corresponding renaming:\n"
   ]
  },
  {
   "cell_type": "code",
   "execution_count": 6,
   "metadata": {},
   "outputs": [
    {
     "data": {
      "text/plain": [
       "To_Index is called.\n"
      ]
     },
     "execution_count": 6,
     "metadata": {},
     "output_type": "execute_result"
    }
   ],
   "source": [
    "declare\n",
    "   A renames My_Data (To_Index (1));\n",
    "begin\n",
    "   A := A ** 2 - 3.0 * A;\n",
    "end;"
   ]
  },
  {
   "cell_type": "markdown",
   "metadata": {},
   "source": [
    "Here we use a new shorten form of the rename declaration, but anyway this looks too heavy. But even worse, this can't be used for discriminant dependent-components.\n",
    "\n",
    "\n",
    "## References:\n",
    " * [Ada Reference Manual 2022 Draft](http://www.ada-auth.org/standards/2xaarm/html/AA-5-2-1.html)\n",
    " * [AI12-0125-3](http://www.ada-auth.org/cgi-bin/cvsweb.cgi/AI12s/AI12-0125-3.TXT)\n",
    " ----\n",
    "\n",
    "Do you like this? Support us on [patreon](https://www.patreon.com/ada_ru)!\n",
    "\n",
    "Live discussions: [Telegram](https://t.me/ada_lang), [Matrix](https://matrix.to/#/#ada-lang:matrix.org).\n"
   ]
  }
 ],
 "metadata": {
  "kernelspec": {
   "display_name": "Ada",
   "language": "ada",
   "name": "ada"
  },
  "language_info": {
   "codemirror_mode": "ada",
   "file_extension": ".adb",
   "mimetype": "text/x-ada",
   "name": "Ada",
   "pygments_lexer": "ada",
   "version": "2012"
  }
 },
 "nbformat": 4,
 "nbformat_minor": 4
}
