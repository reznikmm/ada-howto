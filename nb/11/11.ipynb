{
 "cells": [
  {
   "cell_type": "markdown",
   "metadata": {},
   "source": [
    "[![Binder](https://mybinder.org/badge_logo.svg)](https://mybinder.org/v2/gh/reznikmm/ada-howto/advent-2020?filepath=%2Fhome%2Fjovyan%2Fnb%2F11%2F11.ipynb)\n",
    "\n",
    "# Day 11\n",
    "\n",
    "Firstly, we need some standard packages to read the text file and a list to read a seat layout."
   ]
  },
  {
   "cell_type": "code",
   "execution_count": 1,
   "metadata": {},
   "outputs": [],
   "source": [
    "with Ada.Text_IO;\n",
    "with Ada.Containers.Indefinite_Doubly_Linked_Lists;"
   ]
  },
  {
   "cell_type": "markdown",
   "metadata": {},
   "source": [
    "I will keep information about seats into an 2-dimentional array of enumeration type."
   ]
  },
  {
   "cell_type": "code",
   "execution_count": 2,
   "metadata": {},
   "outputs": [],
   "source": [
    "type Seat_State is (Floor, Empty, Occupied);\n",
    "\n",
    "type Seat_Array is\n",
    "     array (Positive range <>, Positive range <>) of Seat_State;"
   ]
  },
  {
   "cell_type": "markdown",
   "metadata": {},
   "source": [
    "Let's write a function to read the seat layout from a file."
   ]
  },
  {
   "cell_type": "code",
   "execution_count": 3,
   "metadata": {},
   "outputs": [],
   "source": [
    "function Read_Seat_Layout return Seat_Array;\n",
    "\n",
    "function Read_Seat_Layout return Seat_Array is\n",
    "   package String_Lists is\n",
    "     new Ada.Containers.Indefinite_Doubly_Linked_Lists (String);\n",
    "      \n",
    "   function To_Seat (Char : Character) return Seat_State is\n",
    "     (case Char is\n",
    "        when '.' => Floor,\n",
    "        when 'L' => Empty,\n",
    "        when '#'    => Occupied,\n",
    "        when others => raise Constraint_Error);\n",
    "      \n",
    "   List : String_Lists.List;\n",
    "   Input : Ada.Text_IO.File_Type;\n",
    "   Cursor : String_Lists.Cursor;\n",
    "begin\n",
    "   Ada.Text_IO.Open (Input, Ada.Text_IO.In_File, \"/home/jovyan/md/11/input\");\n",
    "      \n",
    "   while not Ada.Text_IO.End_Of_File (Input) loop\n",
    "      List.Append (Ada.Text_IO.Get_Line (Input));\n",
    "   end loop;\n",
    "      \n",
    "   Cursor := List.First;\n",
    "      \n",
    "   return Result : Seat_Array\n",
    "     (1 .. List.First_Element'Length,\n",
    "      1 .. Positive (List.Length))\n",
    "   do\n",
    "      for Y in Result'Range (2) loop\n",
    "         declare\n",
    "            Line : String := String_Lists.Element (Cursor);\n",
    "         begin\n",
    "            for X in Result'Range (1) loop\n",
    "               Result (X, Y) := To_Seat (Line (X));\n",
    "            end loop;\n",
    "               \n",
    "            String_Lists.Next (Cursor);\n",
    "         end;\n",
    "      end loop;\n",
    "   end return;\n",
    "end Read_Seat_Layout;"
   ]
  },
  {
   "cell_type": "markdown",
   "metadata": {},
   "source": [
    "Now read the layout."
   ]
  },
  {
   "cell_type": "code",
   "execution_count": 4,
   "metadata": {},
   "outputs": [],
   "source": [
    "Layout : constant Seat_Array := Read_Seat_Layout;"
   ]
  },
  {
   "cell_type": "markdown",
   "metadata": {},
   "source": [
    "Suppose we have a function that calculates state of a seat in the next round. Then we could sovle the task by running round after round until the layout stops changing."
   ]
  },
  {
   "cell_type": "code",
   "execution_count": 5,
   "metadata": {},
   "outputs": [],
   "source": [
    "generic\n",
    "   with function Seat_Turn\n",
    "        (Data : Seat_Array; X, Y : Positive) return Seat_State;\n",
    "procedure Solve (Input : Seat_Array; Result : out Seat_Array);\n",
    "--  Run rounds on Input layout until it stops changing\n",
    "   \n",
    "procedure Solve (Input : Seat_Array; Result : out Seat_Array) is\n",
    "      \n",
    "   procedure Round (Input : Seat_Array; Output : out Seat_Array) is\n",
    "   begin\n",
    "      for X in Input'Range loop\n",
    "         for Y in Input'Range (2) loop\n",
    "            Output (X, Y) := Seat_Turn (Input, X, Y);\n",
    "         end loop;\n",
    "      end loop;\n",
    "   end Round;\n",
    "      \n",
    "begin\n",
    "   Result := Input;\n",
    "\n",
    "   loop\n",
    "      declare\n",
    "         Output : Seat_Array (Result'Range (1), Result'Range (2));\n",
    "      begin\n",
    "         Round (Result, Output);\n",
    "         \n",
    "         exit when Result = Output;\n",
    "         \n",
    "         Result := Output;\n",
    "      end;\n",
    "   end loop;\n",
    "end Solve;"
   ]
  },
  {
   "cell_type": "markdown",
   "metadata": {},
   "source": [
    "Before we write Seat_Turn for Part I, we need a helper"
   ]
  },
  {
   "cell_type": "code",
   "execution_count": 6,
   "metadata": {},
   "outputs": [],
   "source": [
    "function Is_Occupied (Data : Seat_Array; X, Y : Natural) return Natural is\n",
    "  (if X in Data'Range (1)\n",
    "       and then Y in Data'Range (2)\n",
    "       and then Data (X, Y) = Occupied\n",
    "         then 1 else 0);"
   ]
  },
  {
   "cell_type": "markdown",
   "metadata": {},
   "source": [
    "This function return `1` if `Data (X, Y)` is occupied or `0` otherwise. Now `Seat_Turn` is simple:"
   ]
  },
  {
   "cell_type": "code",
   "execution_count": 7,
   "metadata": {},
   "outputs": [],
   "source": [
    "function Seat_Turn (S : Seat_Array; X, Y : Positive) return Seat_State;\n",
    "--  Changing seat for new round (Part I)\n",
    "\n",
    "function Seat_Turn\n",
    "  (S : Seat_Array; X, Y : Positive) return Seat_State\n",
    "is\n",
    "   Adjacent : constant Natural := \n",
    "     Is_Occupied (S, X - 1, Y - 1)\n",
    "     + Is_Occupied (S, X, Y - 1)\n",
    "     + Is_Occupied (S, X + 1, Y - 1)\n",
    "     + Is_Occupied (S, X - 1, Y)\n",
    "     + Is_Occupied (S, X + 1, Y)\n",
    "     + Is_Occupied (S, X - 1, Y + 1)\n",
    "     + Is_Occupied (S, X, Y + 1)\n",
    "     + Is_Occupied (S, X + 1, Y + 1);\n",
    "begin\n",
    "   case S (X, Y) is\n",
    "      when Empty =>\n",
    "         return (if Adjacent = 0 then Occupied else Empty);\n",
    "      when Occupied =>\n",
    "         return (if Adjacent >= 4 then Empty else Occupied);\n",
    "      when Floor =>\n",
    "         return Floor;\n",
    "   end case;\n",
    "end Seat_Turn;"
   ]
  },
  {
   "cell_type": "markdown",
   "metadata": {},
   "source": [
    "Another function counts  occupied seats:"
   ]
  },
  {
   "cell_type": "code",
   "execution_count": 8,
   "metadata": {},
   "outputs": [],
   "source": [
    "function Count_Occupied (Seats : Seat_Array) return Natural;\n",
    "--  Return number of occupied seats\n",
    "\n",
    "function Count_Occupied (Seats : Seat_Array) return Natural is\n",
    "   Total : Natural := 0;\n",
    "begin\n",
    "   for X of Seats loop\n",
    "      if X = Occupied then\n",
    "         Total := Total + 1;\n",
    "      end if;\n",
    "   end loop;\n",
    "\n",
    "   return Total;\n",
    "end Count_Occupied;"
   ]
  },
  {
   "cell_type": "markdown",
   "metadata": {},
   "source": [
    "Now we can solve part I:"
   ]
  },
  {
   "cell_type": "code",
   "execution_count": 9,
   "metadata": {},
   "outputs": [
    {
     "data": {
      "text/plain": [
       " 2093\n"
      ]
     },
     "execution_count": 9,
     "metadata": {},
     "output_type": "execute_result"
    }
   ],
   "source": [
    "declare\n",
    "   procedure Solve_Part_1 is new Solve (Seat_Turn);\n",
    "\n",
    "   Result : Seat_Array (Layout'Range (1), Layout'Range (2));\n",
    "begin\n",
    "   Solve_Part_1 (Layout, Result);\n",
    "   Ada.Text_IO.Put_Line (Count_Occupied (Result)'Image);\n",
    "end;"
   ]
  },
  {
   "cell_type": "markdown",
   "metadata": {},
   "source": [
    "The part II isn't much harder:"
   ]
  },
  {
   "cell_type": "code",
   "execution_count": 10,
   "metadata": {},
   "outputs": [],
   "source": [
    "function Seat_Turn_2 (Data : Seat_Array; X, Y : Positive) return Seat_State;\n",
    "--  Changing seat for new round (Part II)\n",
    "\n",
    "function Seat_Turn_2 (Data : Seat_Array; X, Y : Positive) return Seat_State is\n",
    "   function Count (DX, DY : Integer) return Natural is\n",
    "      NX : Natural := X + DX;\n",
    "      NY : Natural := Y + DY;\n",
    "   begin\n",
    "      while NX in Data'Range (1)\n",
    "          and then NY in Data'Range (2)\n",
    "        and then Data (NX, NY) = Floor\n",
    "      loop\n",
    "         NX := NX + DX;\n",
    "         NY := NY + DY;\n",
    "      end loop;\n",
    "\n",
    "      return Is_Occupied (Data, NX, NY);\n",
    "   end Count;\n",
    "      \n",
    "   Adjacent : Natural := \n",
    "     Count (-1, -1) + Count (0, -1) + Count (+1, -1)\n",
    "     + Count (-1, 0) + Count (+1, 0)\n",
    "     + Count (-1, +1) + Count (0, +1) + Count (+1, +1);\n",
    "begin\n",
    "   case Data (X, Y) is\n",
    "      when Empty =>\n",
    "         return (if Adjacent = 0 then Occupied else Empty);\n",
    "      when Occupied =>\n",
    "         return (if Adjacent >= 5 then Empty else Occupied);\n",
    "      when Floor =>\n",
    "         return Floor;\n",
    "   end case;\n",
    "end Seat_Turn_2;"
   ]
  },
  {
   "cell_type": "markdown",
   "metadata": {},
   "source": [
    "The solution for Part II:"
   ]
  },
  {
   "cell_type": "code",
   "execution_count": 11,
   "metadata": {},
   "outputs": [
    {
     "data": {
      "text/plain": [
       " 1862\n"
      ]
     },
     "execution_count": 11,
     "metadata": {},
     "output_type": "execute_result"
    }
   ],
   "source": [
    "declare\n",
    "   procedure Solve_Part_2 is new Solve (Seat_Turn_2);\n",
    "\n",
    "   Result : Seat_Array (Layout'Range (1), Layout'Range (2));\n",
    "begin\n",
    "   Solve_Part_2 (Layout, Result);\n",
    "   Ada.Text_IO.Put_Line (Count_Occupied (Result)'Image);\n",
    "end;"
   ]
  },
  {
   "cell_type": "markdown",
   "metadata": {},
   "source": [
    "----\n",
    "[Back to Table of Contents](https://github.com/reznikmm/ada-howto/tree/advent-2020)"
   ]
  }
 ],
 "metadata": {
  "kernelspec": {
   "display_name": "Ada",
   "language": "ada",
   "name": "ada"
  },
  "language_info": {
   "codemirror_mode": "ada",
   "file_extension": ".adb",
   "mimetype": "text/x-ada",
   "name": "Ada",
   "pygments_lexer": "ada",
   "version": "2012"
  }
 },
 "nbformat": 4,
 "nbformat_minor": 4
}
