{
 "cells": [
  {
   "cell_type": "markdown",
   "metadata": {},
   "source": [
    "[![Binder](https://mybinder.org/badge_logo.svg)](https://mybinder.org/v2/gh/reznikmm/ada-howto/advent-2020?filepath=%2Fhome%2Fjovyan%2Fnb%2F05%2F05.ipynb)\n",
    "\n",
    "# Day 5\n",
    "\n",
    "Firstly, we need some standard packages to read the text file and process strings."
   ]
  },
  {
   "cell_type": "code",
   "execution_count": 1,
   "metadata": {},
   "outputs": [],
   "source": [
    "with Ada.Text_IO;\n",
    "with Ada.Strings.Fixed;\n",
    "with Ada.Strings.Maps;"
   ]
  },
  {
   "cell_type": "markdown",
   "metadata": {},
   "source": [
    "Seat specification corresponds to a binary number where `F` and `L` represent `0`, while `B` and `R` represent `1`. So we just translate letters to (`1` or `0`) and then cast this image to a number with base `2`. To do this we need a mapping:"
   ]
  },
  {
   "cell_type": "code",
   "execution_count": 2,
   "metadata": {},
   "outputs": [],
   "source": [
    "Map : constant Ada.Strings.Maps.Character_Mapping :=\n",
    "  Ada.Strings.Maps.To_Mapping\n",
    "    (From => \"FLBR\",\n",
    "     To   => \"0011\");"
   ]
  },
  {
   "cell_type": "markdown",
   "metadata": {},
   "source": [
    "We keep maximum seat number in `Result`. And declare `Input` for a text file."
   ]
  },
  {
   "cell_type": "code",
   "execution_count": 3,
   "metadata": {},
   "outputs": [],
   "source": [
    "Result : Natural := 0;\n",
    "Input  : Ada.Text_IO.File_Type;"
   ]
  },
  {
   "cell_type": "markdown",
   "metadata": {},
   "source": [
    "Also we will save occuped seats in `Seats` array to use it in part 2. We know that seat number is 10 bits in length, so maximum seat number is less then 2¹⁰."
   ]
  },
  {
   "cell_type": "code",
   "execution_count": 4,
   "metadata": {},
   "outputs": [],
   "source": [
    "Seats  : array (0 .. 2**10 - 1) of Boolean := (others => False);"
   ]
  },
  {
   "cell_type": "markdown",
   "metadata": {},
   "source": [
    "In Ada binary numbers are written in form of `2#10100101000#`. Now we are ready to solve part 1:"
   ]
  },
  {
   "cell_type": "code",
   "execution_count": 5,
   "metadata": {},
   "outputs": [
    {
     "data": {
      "text/plain": [
       " 813\n"
      ]
     },
     "execution_count": 5,
     "metadata": {},
     "output_type": "execute_result"
    }
   ],
   "source": [
    "Ada.Text_IO.Open (Input, Ada.Text_IO.In_File, \"/home/jovyan/md/05/input\");\n",
    "\n",
    "while not Ada.Text_IO.End_Of_File (Input) loop\n",
    "   declare\n",
    "      Seat_Code : String (1 .. 10) := Ada.Text_IO.Get_Line (Input);\n",
    "      Image     : String :=\n",
    "        \"2#\" & Ada.Strings.Fixed.Translate (Seat_Code, Map) & \"#\";\n",
    "      Value     : Natural := Natural'Value (Image);\n",
    "   begin\n",
    "      Seats (Value) := True;\n",
    "      Result := Natural'Max (Result, Value);\n",
    "   end;\n",
    "end loop;\n",
    "   \n",
    "Ada.Text_IO.Put_Line (Result'Image);"
   ]
  },
  {
   "cell_type": "markdown",
   "metadata": {},
   "source": [
    "Having occuped seats marked as `True` in the `Seats`, to solve part 2 we just search for `True, False, True` pattern in it."
   ]
  },
  {
   "cell_type": "code",
   "execution_count": 6,
   "metadata": {},
   "outputs": [
    {
     "data": {
      "text/plain": [
       " 612\n"
      ]
     },
     "execution_count": 6,
     "metadata": {},
     "output_type": "execute_result"
    }
   ],
   "source": [
    "declare\n",
    "   State : Boolean := False;\n",
    "begin\n",
    "   for J in Seats'First + 1 .. Seats'Last - 1 loop\n",
    "      if Seats (J - 1 .. J + 1) = (True, False, True) then\n",
    "         Ada.Text_IO.Put_Line (J'Image);\n",
    "      end if;\n",
    "   end loop;\n",
    "end;"
   ]
  },
  {
   "cell_type": "markdown",
   "metadata": {},
   "source": [
    "----\n",
    "[Back to Table of Contents](https://github.com/reznikmm/ada-howto/tree/advent-2020)"
   ]
  }
 ],
 "metadata": {
  "kernelspec": {
   "display_name": "Ada",
   "language": "ada",
   "name": "ada"
  },
  "language_info": {
   "codemirror_mode": "ada",
   "file_extension": ".adb",
   "mimetype": "text/x-ada",
   "name": "Ada",
   "pygments_lexer": "ada",
   "version": "2012"
  }
 },
 "nbformat": 4,
 "nbformat_minor": 4
}
