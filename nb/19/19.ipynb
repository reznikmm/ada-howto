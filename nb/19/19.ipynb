{
 "cells": [
  {
   "cell_type": "markdown",
   "metadata": {},
   "source": [
    "[![Binder](https://mybinder.org/badge_logo.svg)](https://mybinder.org/v2/gh/reznikmm/ada-howto/advent-2020?filepath=%2Fhome%2Fjovyan%2Fnb%2F19%2F19.ipynb)\n",
    "\n",
    "# Day 19\n",
    "\n",
    "We need some standard packages to read input and keep data."
   ]
  },
  {
   "cell_type": "code",
   "execution_count": 1,
   "metadata": {},
   "outputs": [],
   "source": [
    "with Ada.Text_IO;\n",
    "with Ada.Containers.Vectors;\n",
    "with Ada.Containers.Doubly_Linked_Lists;\n",
    "with Ada.Containers.Hashed_Maps;\n",
    "with Ada.Strings.Fixed;\n",
    "with Ada.Strings.Maps.Constants;"
   ]
  },
  {
   "cell_type": "markdown",
   "metadata": {},
   "source": [
    "Let's use a kind of [Pike virtual machine](https://swtch.com/~rsc/regexp/regexp2.html). It execute 4 kinds of command:\n",
    " * Literal - accept given literal\n",
    " * Call - process a given rule and return\n",
    " * Fork - create another copy of machine and continue execution from alternative command\n",
    " * Done - return from current rule\n",
    " \n",
    "We create as many copies of VM as we want. Each of them has a dedicated call stack. All VM work with the same position of the input string and use the same program (a sequence of commands)."
   ]
  },
  {
   "cell_type": "code",
   "execution_count": 2,
   "metadata": {},
   "outputs": [],
   "source": [
    "type Rule_Id is new Natural;\n",
    "type Command_Kind is (Literal, Call, Fork, Done);\n",
    "type Address is new Positive;\n",
    "\n",
    "type Command (Kind : Command_Kind := Command_Kind'First) is record\n",
    "   case Kind is\n",
    "      when Literal =>\n",
    "         Char : Character;\n",
    "      when Call =>\n",
    "         Rule : Rule_Id;\n",
    "      when Fork =>\n",
    "         Alternative : Address;\n",
    "      when Done =>\n",
    "         null;\n",
    "   end case;\n",
    "end record;\n",
    "       \n",
    "package Command_Vectors is new Ada.Containers.Vectors (Address, Command);\n",
    "\n",
    "Program : Command_Vectors.Vector;"
   ]
  },
  {
   "cell_type": "markdown",
   "metadata": {},
   "source": [
    "Each rule points to a start command. Let's keep rules in a hash table"
   ]
  },
  {
   "cell_type": "code",
   "execution_count": 3,
   "metadata": {},
   "outputs": [],
   "source": [
    "function Hash (Value : Rule_Id) return Ada.Containers.Hash_Type is\n",
    "  (Ada.Containers.Hash_Type'Mod (Value));\n",
    "\n",
    "package Rule_Maps is new Ada.Containers.Hashed_Maps\n",
    "  (Key_Type        => Rule_Id,\n",
    "   Element_Type    => Address,\n",
    "   Hash            => Hash,\n",
    "   Equivalent_Keys => \"=\");\n",
    "\n",
    "Rules : Rule_Maps.Map;"
   ]
  },
  {
   "cell_type": "markdown",
   "metadata": {},
   "source": [
    "A utulity subprogram to parse `Rule_Id` from a string:"
   ]
  },
  {
   "cell_type": "code",
   "execution_count": 4,
   "metadata": {},
   "outputs": [],
   "source": [
    "procedure Get_Id\n",
    "  (Line : String; Value : out Rule_Id; Last : out Positive);\n",
    "--  Find rule id at the beginning of a Line and shift Last.\n",
    "\n",
    "procedure Get_Id\n",
    "  (Line : String; Value : out Rule_Id; Last : out Positive)\n",
    "is\n",
    "   First : Positive;\n",
    "begin\n",
    "   Ada.Strings.Fixed.Find_Token\n",
    "     (Source => Line,\n",
    "      Set    => Ada.Strings.Maps.Constants.Decimal_Digit_Set,\n",
    "      Test   => Ada.Strings.Inside,\n",
    "      First  => First,\n",
    "      Last   => Last);\n",
    "   Value := Rule_Id'Value (Line (First .. Last));\n",
    "end Get_Id;"
   ]
  },
  {
   "cell_type": "markdown",
   "metadata": {},
   "source": [
    "Define input file and a counter"
   ]
  },
  {
   "cell_type": "code",
   "execution_count": 5,
   "metadata": {},
   "outputs": [],
   "source": [
    "Count : Natural := 0;\n",
    "Input : Ada.Text_IO.File_Type;"
   ]
  },
  {
   "cell_type": "markdown",
   "metadata": {},
   "source": [
    "Let's parse rules and create a program on the fly"
   ]
  },
  {
   "cell_type": "code",
   "execution_count": 6,
   "metadata": {},
   "outputs": [],
   "source": [
    "Ada.Text_IO.Open (Input, Ada.Text_IO.In_File, \"/tmp/input\");\n",
    "\n",
    "loop\n",
    "   declare\n",
    "      Line : String := Ada.Text_IO.Get_Line (Input);\n",
    "      Id   : Rule_Id;\n",
    "      Id_2 : Rule_Id;\n",
    "      Id_3 : Rule_Id;\n",
    "      Last : Positive;\n",
    "   begin\n",
    "      exit when Line = \"\";\n",
    "      Get_Id (Line, Id, Last);\n",
    "      pragma Assert (Line (Last + 1 .. Last + 2) = \": \");\n",
    "      Rules.Insert (Id, Program.Last_Index + 1);\n",
    "\n",
    "      if Line (Last + 3) = '\"' then\n",
    "         Program.Append ((Literal, Line (Last + 4)));  --  X: \"a\"\n",
    "         Last := Last + 5;\n",
    "      else\n",
    "         Get_Id (Line (Last + 3 .. Line'Last), Id_2, Last);\n",
    "\n",
    "         if Last = Line'Last then\n",
    "            Program.Append ((Call, Id_2));  --  X: N\n",
    "         elsif Line (Last + 2) = '|' then  --  X: N | M\n",
    "            Program.Append ((Fork, Program.Last_Index + 4));\n",
    "            Program.Append ((Call, Id_2));\n",
    "            Program.Append ((Kind => Done));\n",
    "         else  --  X: N M...\n",
    "            Get_Id (Line (Last + 1 .. Line'Last), Id_3, Last);\n",
    "\n",
    "            if Last = Line'Last then  --  X: N M\n",
    "               Program.Append ((Call, Id_2));\n",
    "               Program.Append ((Call, Id_3));\n",
    "            elsif Line (Last + 2) = '|' then  --  X: N M | ...\n",
    "               Program.Append ((Fork, Program.Last_Index + 5));\n",
    "               Program.Append ((Call, Id_2));\n",
    "               Program.Append ((Call, Id_3));\n",
    "               Program.Append ((Kind => Done));\n",
    "            else  --  X: N M K\n",
    "               Program.Append ((Call, Id_2));\n",
    "               Program.Append ((Call, Id_3));\n",
    "               Get_Id (Line (Last + 1 .. Line'Last), Id_3, Last);\n",
    "               Program.Append ((Call, Id_3));\n",
    "            end if;\n",
    "         end if;\n",
    "\n",
    "         if Last < Line'Last then  --  X: ... | N ..\n",
    "            pragma Assert (Line (Last + 2) = '|');\n",
    "            Get_Id (Line (Last + 3 .. Line'Last), Id_2, Last);\n",
    "            Program.Append ((Call, Id_2));\n",
    "\n",
    "            if Last < Line'Last then  --  X: ... | N M\n",
    "               Get_Id (Line (Last + 1 .. Line'Last), Id_3, Last);\n",
    "               Program.Append ((Call, Id_3));\n",
    "            end if;\n",
    "         end if;\n",
    "      end if;\n",
    "      pragma Assert (Last = Line'Last);\n",
    "\n",
    "      Program.Append ((Kind => Done));\n",
    "   end;\n",
    "end loop;"
   ]
  },
  {
   "cell_type": "markdown",
   "metadata": {},
   "source": [
    "Now define a `Match` function. It will execute the program in a number of treads. Each thread runs until it read the current character. If the character match then the tread saved to execute in a next round for next character."
   ]
  },
  {
   "cell_type": "code",
   "execution_count": 7,
   "metadata": {},
   "outputs": [],
   "source": [
    "function Match (Line : String) return Boolean;\n",
    "--  Check is the Line match\n",
    "\n",
    "function Match (Line : String) return Boolean is\n",
    "   package Address_Lists is new Ada.Containers.Doubly_Linked_Lists (Address);\n",
    "\n",
    "   type Thread is record\n",
    "      Stack : Address_Lists.List;\n",
    "   end record;\n",
    "\n",
    "   package Thread_Lists is new Ada.Containers.Doubly_Linked_Lists (Thread);\n",
    "\n",
    "   Init : Address_Lists.List;\n",
    "   Prev : Thread_Lists.List;\n",
    "begin\n",
    "   Init.Append (Rules (0));  --  Start execution from rule 0\n",
    "   Prev.Append ((Stack => Init));\n",
    "\n",
    "   for Char of Line loop  --  Iterate over each character\n",
    "      declare\n",
    "         Next  : Thread_Lists.List;  --  Set of thread to run in the next iteration\n",
    "      begin\n",
    "         while not Prev.Is_Empty loop  --  While we have a thread to execute\n",
    "            declare\n",
    "               Active : Thread := Prev.Last_Element;\n",
    "               Addr   : Address := Active.Stack.Last_Element;\n",
    "               Cmd    : Command := Program (Addr);  --  Next command to execute\n",
    "            begin\n",
    "               Prev.Delete_Last;  --  Delete current thread from the list\n",
    "               Active.Stack.Delete_Last;  --  Delete last stack frame\n",
    "\n",
    "               case Cmd.Kind is\n",
    "                  when Literal =>\n",
    "                     if Cmd.Char = Char then\n",
    "                        Next.Append (Active);  --  Keep thread to next round\n",
    "                     end if;\n",
    "                  when Call =>\n",
    "                     Active.Stack.Append (Addr + 1);\n",
    "                     Active.Stack.Append (Rules (Cmd.Rule));\n",
    "                     Prev.Append (Active);  --  Schedule thread again\n",
    "                  when Fork =>\n",
    "                     Active.Stack.Append (Addr + 1);\n",
    "                     Prev.Append (Active);  --  Schedule thread again\n",
    "                     Active.Stack.Delete_Last;\n",
    "                     Active.Stack.Append (Cmd.Alternative);\n",
    "                     Prev.Append (Active);  --  Schedule alternative thread\n",
    "                  when Done =>\n",
    "                     if not Active.Stack.Is_Empty then\n",
    "                        Prev.Append (Active);  --  Schedule thread again\n",
    "                     end if;\n",
    "               end case;\n",
    "            end;\n",
    "         end loop;\n",
    "\n",
    "         Prev.Move (Source => Next);  --  Swap next thread set\n",
    "      end;\n",
    "   end loop;\n",
    "\n",
    "   --  Find a completed thread\n",
    "   while not Prev.Is_Empty loop  --  While we have a thread to check\n",
    "      declare\n",
    "         Active : Thread := Prev.Last_Element;\n",
    "         Addr   : Address := Active.Stack.Last_Element;\n",
    "         Cmd    : Command := Program (Addr);\n",
    "      begin\n",
    "         Prev.Delete_Last;\n",
    "         Active.Stack.Delete_Last;\n",
    "\n",
    "         case Cmd.Kind is\n",
    "            when Literal =>\n",
    "               null;\n",
    "            when Call =>\n",
    "               Active.Stack.Append (Addr + 1);\n",
    "               Active.Stack.Append (Rules (Cmd.Rule));\n",
    "               Prev.Append (Active);\n",
    "            when Fork =>\n",
    "               Active.Stack.Append (Addr + 1);\n",
    "               Prev.Append (Active);\n",
    "               Active.Stack.Delete_Last;\n",
    "               Active.Stack.Append (Cmd.Alternative);\n",
    "               Prev.Append (Active);\n",
    "            when Done =>\n",
    "               if Active.Stack.Is_Empty then\n",
    "                  return True;  --  Thread is complete!\n",
    "               else\n",
    "                  Prev.Append (Active);\n",
    "               end if;\n",
    "         end case;\n",
    "      end;\n",
    "   end loop;\n",
    "\n",
    "   return False;\n",
    "end Match;"
   ]
  },
  {
   "cell_type": "markdown",
   "metadata": {},
   "source": [
    "Now we read lines and count matched"
   ]
  },
  {
   "cell_type": "code",
   "execution_count": 8,
   "metadata": {},
   "outputs": [
    {
     "data": {
      "text/plain": [
       " 144\n"
      ]
     },
     "execution_count": 8,
     "metadata": {},
     "output_type": "execute_result"
    }
   ],
   "source": [
    "while not Ada.Text_IO.End_Of_File (Input) loop\n",
    "   declare\n",
    "      Line : String := Ada.Text_IO.Get_Line (Input);\n",
    "   begin\n",
    "      Count := Count + Boolean'Pos (Match (Line));\n",
    "   end;\n",
    "end loop;\n",
    "\n",
    "Ada.Text_IO.Put_Line (Count'Image);"
   ]
  },
  {
   "cell_type": "markdown",
   "metadata": {},
   "source": [
    "To solve Path II just modify two rules:"
   ]
  },
  {
   "cell_type": "code",
   "execution_count": 9,
   "metadata": {},
   "outputs": [],
   "source": [
    "--  8: 42 | 42 8\n",
    "\n",
    "Rules.Include (8, Program.Last_Index + 1);\n",
    "Program.Append ((Fork, Program.Last_Index + 4));\n",
    "Program.Append ((Call, 42));\n",
    "Program.Append ((Kind => Done));\n",
    "Program.Append ((Call, 42));\n",
    "Program.Append ((Call, 8));\n",
    "Program.Append ((Kind => Done));\n",
    "\n",
    "--  11: 42 31 | 42 11 31\n",
    "Rules.Include (11, Program.Last_Index + 1);\n",
    "Program.Append ((Fork, Program.Last_Index + 5));\n",
    "Program.Append ((Call, 42));\n",
    "Program.Append ((Call, 31));\n",
    "Program.Append ((Kind => Done));\n",
    "Program.Append ((Call, 42));\n",
    "Program.Append ((Call, 11));\n",
    "Program.Append ((Call, 31));\n",
    "Program.Append ((Kind => Done));"
   ]
  },
  {
   "cell_type": "markdown",
   "metadata": {},
   "source": [
    "Reopen the `Input` and skip rules"
   ]
  },
  {
   "cell_type": "code",
   "execution_count": 10,
   "metadata": {},
   "outputs": [],
   "source": [
    "Ada.Text_IO.Close (Input);\n",
    "Count := 0;\n",
    "Ada.Text_IO.Open (Input, Ada.Text_IO.In_File, \"/home/jovyan/md/19/input\");\n",
    "--  Skip rules because we already have them\n",
    "loop\n",
    "   exit when Ada.Text_IO.Get_Line (Input) = \"\";\n",
    "end loop;"
   ]
  },
  {
   "cell_type": "markdown",
   "metadata": {},
   "source": [
    "Count matches again:"
   ]
  },
  {
   "cell_type": "code",
   "execution_count": 11,
   "metadata": {},
   "outputs": [
    {
     "data": {
      "text/plain": [
       " 260\n"
      ]
     },
     "execution_count": 11,
     "metadata": {},
     "output_type": "execute_result"
    }
   ],
   "source": [
    "while not Ada.Text_IO.End_Of_File (Input) loop\n",
    "   declare\n",
    "      Line : String := Ada.Text_IO.Get_Line (Input);\n",
    "   begin\n",
    "      Count := Count + Boolean'Pos (Match (Line));\n",
    "   end;\n",
    "end loop;\n",
    "\n",
    "Ada.Text_IO.Put_Line (Count'Image);"
   ]
  },
  {
   "cell_type": "markdown",
   "metadata": {},
   "source": [
    "----\n",
    "[Back to Table of Contents](https://github.com/reznikmm/ada-howto/tree/advent-2020) "
   ]
  }
 ],
 "metadata": {
  "kernelspec": {
   "display_name": "Ada",
   "language": "ada",
   "name": "ada"
  },
  "language_info": {
   "codemirror_mode": "ada",
   "file_extension": ".adb",
   "mimetype": "text/x-ada",
   "name": "Ada",
   "pygments_lexer": "ada",
   "version": "2012"
  }
 },
 "nbformat": 4,
 "nbformat_minor": 4
}
