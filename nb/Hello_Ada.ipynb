{
 "cells": [
  {
   "cell_type": "markdown",
   "metadata": {},
   "source": [
    "# Jupyter Ada Kernel\n",
    "\n",
    "[![Binder](https://mybinder.org/badge_logo.svg)](https://mybinder.org/v2/gh/reznikmm/ada-howto/master?filepath=%2Fhome%2Fjovyan%2Fnb%2FHello_Ada.ipynb)\n",
    "\n",
    "This is a short overview of the Jupyter Ada Kernel.\n",
    "[The Jupyter](https://en.wikipedia.org/wiki/Project_Jupyter) is\n",
    "a web-based interactive development environment capable to run dozens of programming languages.\n",
    "The Jupyter Notebook is an open-source web application that allows you to create and share documents that contain live code, equations, visualizations and narrative text.\n",
    "\n",
    "[The Jupyter Ada Kernel](https://github.com/reznikmm/jupyter/) provides support for\n",
    "[Ada programming language](https://en.wikipedia.org/wiki/Ada_(programming_language)).\n",
    "\n",
    "To suit [REPL](https://en.wikipedia.org/wiki/Read%E2%80%93eval%E2%80%93print_loop) workflow\n",
    "and allow code and text to be interspersed the kernel accepts an Ada program piece by piece. In Jupyter Notebook such pieces are called _cells_. Usually cells are executed in order, because one call can depend on another. You can execute cell by pressing `Ctrl+Enter`\n",
    "on it or by using a menu or toolbar icons. Take a look at _User Interface Tour_ in _Help_ menu.\n",
    "\n",
    "Our kernel supports next Ada program pieces:\n",
    "\n",
    "## 1. Context Clause\n",
    "\n",
    "A cell can contain a sequence of [context clauses](http://www.ada-auth.org/standards/rm12_w_tc1/html/RM-10-1-2.html#S0253), such as `with`/`use`-clause or `pragma`:"
   ]
  },
  {
   "cell_type": "code",
   "execution_count": 1,
   "metadata": {},
   "outputs": [],
   "source": [
    "with Ada.Text_IO;"
   ]
  },
  {
   "cell_type": "markdown",
   "metadata": {},
   "source": [
    "## 2. Declarative Item\n",
    "\n",
    "A sequence of [declarative items](http://www.ada-auth.org/standards/rm12_w_tc1/html/RM-3-11.html#S0087) to be elaborated:"
   ]
  },
  {
   "cell_type": "code",
   "execution_count": 2,
   "metadata": {},
   "outputs": [],
   "source": [
    "Name : constant String := \"World\";"
   ]
  },
  {
   "cell_type": "markdown",
   "metadata": {},
   "source": [
    "The kernel allows you to freely redefine names in subsequent cells, but in case of ambiguity you should prefix the name with `Run_`_N_`.` prefix (where _N_ is a cell run number visible in square brackets):"
   ]
  },
  {
   "cell_type": "code",
   "execution_count": 3,
   "metadata": {},
   "outputs": [],
   "source": [
    "Greeting : constant String := \"Hello \" & Run_2.Name;"
   ]
  },
  {
   "cell_type": "markdown",
   "metadata": {},
   "source": [
    "## 3. Statement\n",
    "A cell can contain a sequence of [statements](http://www.ada-auth.org/standards/rm12_w_tc1/html/RM-5-1.html#S0146) to be executed:"
   ]
  },
  {
   "cell_type": "code",
   "execution_count": 4,
   "metadata": {},
   "outputs": [
    {
     "data": {
      "text/plain": [
       "Hello World\n"
      ]
     },
     "execution_count": 4,
     "metadata": {},
     "output_type": "execute_result"
    }
   ],
   "source": [
    "Ada.Text_IO.Put_Line (Greeting);"
   ]
  },
  {
   "cell_type": "markdown",
   "metadata": {},
   "source": [
    "## 4. Program Units\n",
    "\n",
    "If a declarative item requires a completion, then both should be in the same cell:"
   ]
  },
  {
   "cell_type": "code",
   "execution_count": 5,
   "metadata": {},
   "outputs": [],
   "source": [
    "package P is\n",
    "   procedure Proc;\n",
    "end;\n",
    "\n",
    "package body P is\n",
    "   procedure Proc is\n",
    "   begin\n",
    "      Ada.Text_IO.Put_Line (\"Here is Proc!\");\n",
    "   end;\n",
    "end;"
   ]
  },
  {
   "cell_type": "markdown",
   "metadata": {},
   "source": [
    "**Note: a cell can't contain pieces of different kinds!**\n",
    "\n",
    "## 5. Magic\n",
    "\n",
    "There are also some \"magic\" commands:"
   ]
  },
  {
   "cell_type": "code",
   "execution_count": 6,
   "metadata": {},
   "outputs": [
    {
     "data": {
      "text/plain": [
       "Available line magics:\n",
       "%lsmagic? %%output? %%writefile?"
      ]
     },
     "execution_count": 6,
     "metadata": {},
     "output_type": "execute_result"
    }
   ],
   "source": [
    "%lsmagic"
   ]
  },
  {
   "cell_type": "markdown",
   "metadata": {},
   "source": [
    "----\n",
    "\n",
    "Do you like this? Support us on [patreon](https://www.patreon.com/ada_ru)!\n",
    "\n",
    "Live discussions: [Telegram](https://t.me/ada_lang), [Matrix](https://matrix.to/#/#ada-lang:matrix.org).\n"
   ]
  }
 ],
 "metadata": {
  "kernelspec": {
   "display_name": "Ada",
   "language": "ada",
   "name": "ada"
  },
  "language_info": {
   "codemirror_mode": "ada",
   "file_extension": ".adb",
   "mimetype": "text/x-ada",
   "name": "Ada",
   "pygments_lexer": "ada",
   "version": "2012"
  }
 },
 "nbformat": 4,
 "nbformat_minor": 4
}
