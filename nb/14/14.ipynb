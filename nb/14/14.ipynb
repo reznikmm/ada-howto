{
 "cells": [
  {
   "cell_type": "markdown",
   "metadata": {},
   "source": [
    "[![Binder](https://mybinder.org/badge_logo.svg)](https://mybinder.org/v2/gh/reznikmm/ada-howto/advent-2020?filepath=%2Fhome%2Fjovyan%2Fnb%2F14%2F14.ipynb)\n",
    "\n",
    "# Day 14\n",
    "\n",
    "Firstly, we need some standard packages to read the text file and keep a program state."
   ]
  },
  {
   "cell_type": "code",
   "execution_count": 1,
   "metadata": {},
   "outputs": [],
   "source": [
    "with Ada.Text_IO;\n",
    "with Ada.Strings.Fixed;\n",
    "with Ada.Strings.Maps;\n",
    "with Ada.Strings.Maps.Constants;\n",
    "with Ada.Containers.Hashed_Maps;"
   ]
  },
  {
   "cell_type": "markdown",
   "metadata": {},
   "source": [
    "To represent 36 bit words we use a modular type."
   ]
  },
  {
   "cell_type": "code",
   "execution_count": 2,
   "metadata": {},
   "outputs": [],
   "source": [
    "type Word is mod 2 ** 36;\n",
    "\n",
    "package Word_IO is new Ada.Text_IO.Modular_IO (Word);"
   ]
  },
  {
   "cell_type": "markdown",
   "metadata": {},
   "source": [
    "For mask let's use a record type of two words. The first work keeps ordinary bits and `0` instead of `X`. The second words keep `0` for `0` or `1` and `1` for `X`. We will use two character mappings to translate mask text image into `Word`."
   ]
  },
  {
   "cell_type": "code",
   "execution_count": 3,
   "metadata": {},
   "outputs": [],
   "source": [
    "type Address_Bits is record\n",
    "   Plain_Bits    : Word;  --  Mask where X replaced by 0\n",
    "   Floating_Bits : Word;  --  Mask where X replaced by 1 and others are 0\n",
    "end record;\n",
    "\n",
    "Drop_X_Map : constant Ada.Strings.Maps.Character_Mapping :=\n",
    "  Ada.Strings.Maps.To_Mapping (\"X\", \"0\");\n",
    "\n",
    "X_To_1_Map : constant Ada.Strings.Maps.Character_Mapping :=\n",
    "  Ada.Strings.Maps.To_Mapping (\"X10\", \"100\");"
   ]
  },
  {
   "cell_type": "markdown",
   "metadata": {},
   "source": [
    "Declare a dedicated function to cast a string of `0` and `1` into a `Word`. Ada understantd binary images in form of `2#10...10#`."
   ]
  },
  {
   "cell_type": "code",
   "execution_count": 4,
   "metadata": {},
   "outputs": [],
   "source": [
    "function Binary_Value (Text : String) return Word;\n",
    "\n",
    "function Binary_Value (Text : String) return Word is\n",
    "   Image : constant String := \"2#\" & Text & \"#\";\n",
    "   Result : Word;\n",
    "   Last : Natural;\n",
    "begin\n",
    "   Word_IO.Get\n",
    "     (From => Image,\n",
    "      Item => Result,\n",
    "      Last => Last);\n",
    "   pragma Assert (Last = Image'Last);\n",
    "   return Result;\n",
    "end Binary_Value;"
   ]
  },
  {
   "cell_type": "markdown",
   "metadata": {},
   "source": [
    "To replresent the memory we use a hash (Word to Word) map."
   ]
  },
  {
   "cell_type": "code",
   "execution_count": 5,
   "metadata": {},
   "outputs": [],
   "source": [
    "function Hash (Value : Word) return Ada.Containers.Hash_Type is\n",
    "  (Ada.Containers.Hash_Type'Mod (Value));\n",
    "\n",
    "package Word_Maps is new Ada.Containers.Hashed_Maps\n",
    "  (Key_Type        => Word,\n",
    "   Element_Type    => Word,\n",
    "   Hash            => Hash,\n",
    "   Equivalent_Keys => \"=\");\n",
    "\n",
    "Memory : Word_Maps.Map;"
   ]
  },
  {
   "cell_type": "markdown",
   "metadata": {},
   "source": [
    "Procedure `Assign` instatiates floating bits into plain bits and modifies `Memory`."
   ]
  },
  {
   "cell_type": "code",
   "execution_count": 6,
   "metadata": {},
   "outputs": [],
   "source": [
    "procedure Assign (Address : Address_Bits; Value : Word);\n",
    "--  Assign Value to Memory at given Address with all combinations of floating bits.\n",
    "\n",
    "procedure Assign (Address : Address_Bits; Value : Word) is\n",
    "begin\n",
    "   if Address.Floating_Bits = 0 then\n",
    "      Memory.Include (Address.Plain_Bits, Value);\n",
    "   else\n",
    "      declare\n",
    "         Bit : Word := 1;\n",
    "      begin\n",
    "         for J in 1 .. 36 loop\n",
    "            if (Address.Floating_Bits and Bit) /= 0 then\n",
    "               Assign\n",
    "                 ((Address.Plain_Bits, Address.Floating_Bits xor Bit),\n",
    "                  Value);\n",
    "               Assign\n",
    "                 ((Address.Plain_Bits xor Bit,\n",
    "                   Address.Floating_Bits xor Bit),\n",
    "                  Value);\n",
    "               exit;\n",
    "            end if;\n",
    "\n",
    "            Bit := Bit * 2;\n",
    "         end loop;\n",
    "      end;\n",
    "   end if;\n",
    "end Assign;"
   ]
  },
  {
   "cell_type": "markdown",
   "metadata": {},
   "source": [
    "Define current mask and input file objects."
   ]
  },
  {
   "cell_type": "code",
   "execution_count": 7,
   "metadata": {},
   "outputs": [],
   "source": [
    "Mask  : Address_Bits := (0, 0);\n",
    "Input : Ada.Text_IO.File_Type;"
   ]
  },
  {
   "cell_type": "markdown",
   "metadata": {},
   "source": [
    "Now we are ready to do the actual job"
   ]
  },
  {
   "cell_type": "code",
   "execution_count": 8,
   "metadata": {},
   "outputs": [],
   "source": [
    "Ada.Text_IO.Open (Input, Ada.Text_IO.In_File, \"/home/jovyan/md/14/input\");\n",
    "   \n",
    "while not Ada.Text_IO.End_Of_File (Input) loop\n",
    "   declare\n",
    "      Line : String := Ada.Text_IO.Get_Line (Input);\n",
    "   begin\n",
    "      if Line (1 .. 7) = \"mask = \" then\n",
    "         Mask.Plain_Bits := Binary_Value\n",
    "           (Ada.Strings.Fixed.Translate\n",
    "              (Line (8 .. Line'Last), Drop_X_Map));\n",
    "         Mask.Floating_Bits := Binary_Value\n",
    "           (Ada.Strings.Fixed.Translate\n",
    "              (Line (8 .. Line'Last), X_To_1_Map));\n",
    "      elsif Line (1 .. 4) = \"mem[\" then\n",
    "         declare\n",
    "            First, Last : Positive;\n",
    "            Address     : Word;\n",
    "            Argument    : Word;\n",
    "         begin\n",
    "            Ada.Strings.Fixed.Find_Token\n",
    "              (Source => Line,\n",
    "               Set    => Ada.Strings.Maps.Constants.Decimal_Digit_Set,\n",
    "               Test   => Ada.Strings.Inside,\n",
    "               First  => First,\n",
    "               Last   => Last);\n",
    "            Word_IO.Get\n",
    "              (Line (First .. Last),\n",
    "               Address,\n",
    "               Last => First);\n",
    "            pragma Assert (First = Last);\n",
    "\n",
    "            Ada.Strings.Fixed.Find_Token\n",
    "              (Source => Line,\n",
    "               From   => Last + 1,\n",
    "               Set    => Ada.Strings.Maps.Constants.Decimal_Digit_Set,\n",
    "               Test   => Ada.Strings.Inside,\n",
    "               First  => First,\n",
    "               Last   => Last);\n",
    "            Word_IO.Get\n",
    "              (Line (First .. Last),\n",
    "               Argument,\n",
    "               Last => First);\n",
    "            pragma Assert (First = Last);\n",
    "\n",
    "            Address := Address or Mask.Plain_Bits;\n",
    "            Assign ((Address, Mask.Floating_Bits), Argument);\n",
    "         end;\n",
    "      end if;\n",
    "   end;\n",
    "end loop;"
   ]
  },
  {
   "cell_type": "markdown",
   "metadata": {},
   "source": [
    "Now we have memory filled with values. Let's sum all of them."
   ]
  },
  {
   "cell_type": "code",
   "execution_count": 9,
   "metadata": {},
   "outputs": [
    {
     "data": {
      "text/plain": [
       " 2881082759597\n"
      ]
     },
     "execution_count": 9,
     "metadata": {},
     "output_type": "execute_result"
    }
   ],
   "source": [
    "declare\n",
    "   Result : Long_Integer := 0;\n",
    "begin\n",
    "   for Value of Memory loop\n",
    "      Result := Result + Long_Integer (Value);\n",
    "   end loop;\n",
    "   Ada.Text_IO.Put_Line (Result'Image);\n",
    "end;"
   ]
  },
  {
   "cell_type": "markdown",
   "metadata": {},
   "source": [
    "----\n",
    "[Back to Table of Contents](https://github.com/reznikmm/ada-howto/tree/advent-2020)"
   ]
  }
 ],
 "metadata": {
  "kernelspec": {
   "display_name": "Ada",
   "language": "ada",
   "name": "ada"
  },
  "language_info": {
   "codemirror_mode": "ada",
   "file_extension": ".adb",
   "mimetype": "text/x-ada",
   "name": "Ada",
   "pygments_lexer": "ada",
   "version": "2012"
  }
 },
 "nbformat": 4,
 "nbformat_minor": 4
}
