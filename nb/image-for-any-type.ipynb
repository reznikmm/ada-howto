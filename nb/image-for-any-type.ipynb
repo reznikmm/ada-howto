{
 "cells": [
  {
   "cell_type": "markdown",
   "metadata": {},
   "source": [
    "# Ada 2020: `'Image` attribute for any type\n",
    " \n",
    "This post is a part of [the Ada 2020 series](https://github.com/reznikmm/ada-howto/tree/ce-2020).\n",
    " \n",
    "You can launch this notebook with Jupyter Ada Kernel by clicking this button:\n",
    " \n",
    "[![Binder](https://mybinder.org/badge_logo.svg)](https://mybinder.org/v2/gh/reznikmm/ada-howto/ce-2020?filepath=%2Fhome%2Fjovyan%2Fnb%2Fimage-for-any-type.ipynb)\n",
    "\n",
    " \n",
    " * [About Jupyter Ada Kernel](https://github.com/reznikmm/ada-howto/blob/master/md/Hello_Ada.md).\n",
    "\n",
    "### Ada 2020 activation\n",
    "Firstly, let's activate Ada 2020 support in the compiler.\n",
    "Usually we do this by `-gnat2020` option in compiler command line or in the project file\n",
    "(preferred). But in this notebook we will do this by the `pragma Ada_2020`.\n",
    "Also we will need the `Text_IO` package."
   ]
  },
  {
   "cell_type": "code",
   "execution_count": 1,
   "metadata": {},
   "outputs": [],
   "source": [
    "pragma Ada_2020;\n",
    "\n",
    "with Ada.Text_IO;"
   ]
  },
  {
   "cell_type": "markdown",
   "metadata": {},
   "source": [
    "### `X'Image` attribute\n",
    "If you missed\n",
    "[Technical Corrigendum 1 changes](https://reznikmm.github.io/ada-auth/rm-4-NC/RM-0-1.html)\n",
    "(they were published in February 2016)\n",
    "then you probably don't know that the `'Image` attribute can be applied now to a value. So, instead of `My_Type'Image (Value)` you can just write `Value'Image`, but only if the `Value` is a\n",
    "[_name_](https://reznikmm.github.io/ada-auth/rm-4-NC/RM-4-1.html#S0091).\n",
    "So, these two statements are equal:"
   ]
  },
  {
   "cell_type": "code",
   "execution_count": 2,
   "metadata": {},
   "outputs": [
    {
     "data": {
      "text/plain": [
       " 0\n",
       " 0\n"
      ]
     },
     "execution_count": 2,
     "metadata": {},
     "output_type": "execute_result"
    }
   ],
   "source": [
    "Ada.Text_IO.Put_Line (Ada.Text_IO.Page_Length'Image);\n",
    "\n",
    "Ada.Text_IO.Put_Line\n",
    "  (Ada.Text_IO.Count'Image (Ada.Text_IO.Page_Length));"
   ]
  },
  {
   "cell_type": "markdown",
   "metadata": {},
   "source": [
    "### `'Image` in Ada 2020 works for any type\n",
    "\n",
    "Now you can apply `'Image` attribute for any type, including records, array, access and private types. Let's see how this works."
   ]
  },
  {
   "cell_type": "code",
   "execution_count": 3,
   "metadata": {},
   "outputs": [],
   "source": [
    "type Vector is array (Positive range <>) of Integer;\n",
    "\n",
    "V1 : aliased Vector := (1, 2, 3);\n",
    "\n",
    "type Text_Position is record\n",
    "   Line, Column : Positive;\n",
    "end record;\n",
    "                      \n",
    "Pos : Text_Position := (Line => 10, Column => 3);\n",
    "                      \n",
    "type Vector_Access is access all Vector;\n",
    "\n",
    "V1_Ptr : Vector_Access := V1'Access;"
   ]
  },
  {
   "cell_type": "markdown",
   "metadata": {},
   "source": [
    "Now you can convert these objects to string and print:"
   ]
  },
  {
   "cell_type": "code",
   "execution_count": 4,
   "metadata": {},
   "outputs": [
    {
     "data": {
      "text/plain": [
       "\n",
       "[ 1,  2,  3]\n",
       "\n",
       "(line =>  10,\n",
       " column =>  3)\n",
       "\n",
       "(access 7ff5c5717138)\n"
      ]
     },
     "execution_count": 4,
     "metadata": {},
     "output_type": "execute_result"
    }
   ],
   "source": [
    "Ada.Text_IO.Put_Line (V1'Image);\n",
    "\n",
    "Ada.Text_IO.Put_Line (Pos'Image);\n",
    "Ada.Text_IO.New_Line;\n",
    "Ada.Text_IO.Put_Line (V1_Ptr'Image);"
   ]
  },
  {
   "cell_type": "markdown",
   "metadata": {},
   "source": [
    "Note square brackets in array image. In Ada 2020 array aggregates could be written this way!\n",
    "\n",
    "### References\n",
    "\n",
    "More details:\n",
    " * [AI12-0020-1](http://www.ada-auth.org/cgi-bin/cvsweb.cgi/ai12s/ai12-0020-1.txt)\n",
    " * [ARM 4.10 Image Attributes](https://reznikmm.github.io/ada-auth/aarm-5-NC/AA-4-10.html)\n",
    " \n",
    "----\n",
    "\n",
    "Do you like this? Support us on [patreon](https://www.patreon.com/ada_ru)!\n"
   ]
  }
 ],
 "metadata": {
  "kernelspec": {
   "display_name": "Ada",
   "language": "ada",
   "name": "ada"
  },
  "language_info": {
   "codemirror_mode": "ada",
   "file_extension": ".adb",
   "mimetype": "text/x-ada",
   "name": "Ada",
   "pygments_lexer": "ada",
   "version": "2012"
  }
 },
 "nbformat": 4,
 "nbformat_minor": 4
}
