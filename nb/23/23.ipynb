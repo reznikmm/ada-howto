{
 "cells": [
  {
   "cell_type": "markdown",
   "metadata": {},
   "source": [
    "[![Binder](https://mybinder.org/badge_logo.svg)](https://mybinder.org/v2/gh/reznikmm/ada-howto/advent-2020?filepath=%2Fhome%2Fjovyan%2Fnb%2F23%2F23.ipynb)\n",
    "\n",
    "# Day 23\n",
    "\n",
    "We will use a lot of space in the primary stack. Let's increase default stack size with next magic by specifying a linker option:"
   ]
  },
  {
   "cell_type": "code",
   "execution_count": 1,
   "metadata": {},
   "outputs": [
    {
     "data": {
      "text/plain": [
       "Now -largs options are: -Wl,--defsym=__stack_size=130000000"
      ]
     },
     "execution_count": 1,
     "metadata": {},
     "output_type": "execute_result"
    }
   ],
   "source": [
    "%largs -Wl,--defsym=__stack_size=130000000"
   ]
  },
  {
   "cell_type": "markdown",
   "metadata": {},
   "source": [
    "We need some standard packages to write result and keep cups."
   ]
  },
  {
   "cell_type": "code",
   "execution_count": 2,
   "metadata": {},
   "outputs": [],
   "source": [
    "with Ada.Text_IO;\n",
    "with Ada.Containers.Doubly_Linked_Lists;"
   ]
  },
  {
   "cell_type": "markdown",
   "metadata": {},
   "source": [
    "Now let's declare a type for Cup label. Also we need a list of cups to represent cup circle. An index array to speed up cup search in the circle."
   ]
  },
  {
   "cell_type": "code",
   "execution_count": 3,
   "metadata": {},
   "outputs": [],
   "source": [
    "type Cup is range 1 .. 1_000_000;\n",
    "\n",
    "function Prev (Value : Cup) return Cup is\n",
    "  (if Value = Cup'First then Cup'Last else Value - 1);\n",
    "\n",
    "package Cup_Lists is new Ada.Containers.Doubly_Linked_Lists (Cup);\n",
    "\n",
    "type Index_Array is array (Cup) of Cup_Lists.Cursor;\n",
    "\n",
    "Data    : Cup_Lists.List;\n",
    "Index   : Index_Array;"
   ]
  },
  {
   "cell_type": "markdown",
   "metadata": {},
   "source": [
    "A subprogram to pick cup up from the list into `Value`."
   ]
  },
  {
   "cell_type": "code",
   "execution_count": 4,
   "metadata": {},
   "outputs": [],
   "source": [
    "procedure Pick\n",
    "  (Cursor : in out Cup_Lists.Cursor;\n",
    "   Value  : out Cup);\n",
    "--  Delete a cup from Data list and move Cursor\n",
    "\n",
    "procedure Pick\n",
    "  (Cursor : in out Cup_Lists.Cursor;\n",
    "   Value  : out Cup)\n",
    "is\n",
    "   Next : constant Cup_Lists.Cursor := Cup_Lists.Next (Cursor);\n",
    "begin\n",
    "   Value := Cup_Lists.Element (Cursor);\n",
    "   Data.Delete (Cursor);\n",
    "\n",
    "   if Cup_Lists.Has_Element (Next) then\n",
    "      Cursor := Next;\n",
    "   else\n",
    "      Cursor := Data.First;\n",
    "   end if;\n",
    "\n",
    "   Index (Value) := Cup_Lists.No_Element;\n",
    "end Pick;"
   ]
  },
  {
   "cell_type": "markdown",
   "metadata": {},
   "source": [
    "Another subprogram to put cup back to the circle after given position"
   ]
  },
  {
   "cell_type": "code",
   "execution_count": 5,
   "metadata": {},
   "outputs": [],
   "source": [
    "procedure Put\n",
    "  (Value : Cup;\n",
    "   After : in out Cup_Lists.Cursor);\n",
    "--  Put Value back into Data list after given cursor\n",
    "\n",
    "procedure Put\n",
    "  (Value : Cup;\n",
    "   After : in out Cup_Lists.Cursor)\n",
    "is\n",
    "   Before : Cup_Lists.Cursor := Cup_Lists.Next (After);\n",
    "begin\n",
    "   if Cup_Lists.Has_Element (Before) then\n",
    "      Data.Insert (Before, Value, Position => After);\n",
    "   else\n",
    "      Data.Append (Value);\n",
    "      After := Data.Last;\n",
    "   end if;\n",
    "\n",
    "   Index (Value) := After;\n",
    "end Put;"
   ]
  },
  {
   "cell_type": "markdown",
   "metadata": {},
   "source": [
    "Initial values and the current cup:"
   ]
  },
  {
   "cell_type": "code",
   "execution_count": 6,
   "metadata": {},
   "outputs": [],
   "source": [
    "Init : constant array (Positive range <>) of Cup :=\n",
    "  (4, 6, 3, 5, 2, 8, 1, 7, 9);\n",
    "\n",
    "Current : Cup := Init (1);"
   ]
  },
  {
   "cell_type": "markdown",
   "metadata": {},
   "source": [
    "Put initial cups into `Data`"
   ]
  },
  {
   "cell_type": "code",
   "execution_count": 7,
   "metadata": {},
   "outputs": [],
   "source": [
    "for J of Init loop\n",
    "   Data.Append (J);\n",
    "   Index (J) := Data.Last;\n",
    "end loop;"
   ]
  },
  {
   "cell_type": "markdown",
   "metadata": {},
   "source": [
    "An put rest of cups"
   ]
  },
  {
   "cell_type": "code",
   "execution_count": 8,
   "metadata": {},
   "outputs": [],
   "source": [
    "for J in Cup'(10) .. 1_000_000 loop\n",
    "   Data.Append (J);\n",
    "   Index (J) := Data.Last;\n",
    "end loop;"
   ]
  },
  {
   "cell_type": "markdown",
   "metadata": {},
   "source": [
    "We are ready to play game"
   ]
  },
  {
   "cell_type": "code",
   "execution_count": 9,
   "metadata": {},
   "outputs": [],
   "source": [
    "for J in 1 .. 10_000_000 loop\n",
    "   declare\n",
    "      Up     : array (1 .. 3) of Cup;\n",
    "      Cursor : Cup_Lists.Cursor := Cup_Lists.Next (Index (Current));\n",
    "      Dest   : Cup := Prev (Current);\n",
    "   begin\n",
    "      if not Cup_Lists.Has_Element (Cursor) then\n",
    "         Cursor := Data.First;\n",
    "      end if;\n",
    "         \n",
    "      for Item of Up loop\n",
    "         Pick (Cursor, Item);\n",
    "      end loop;\n",
    "\n",
    "      Current := Cup_Lists.Element (Cursor);\n",
    "\n",
    "      loop\n",
    "         exit when (for all Item of Up => Item /= Dest);\n",
    "         Dest := Prev (Dest);\n",
    "      end loop;\n",
    "\n",
    "      Cursor := Index (Dest);\n",
    "\n",
    "      for Item of Up loop\n",
    "         Put (Item, Cursor);\n",
    "      end loop;\n",
    "   end;\n",
    "end loop;"
   ]
  },
  {
   "cell_type": "markdown",
   "metadata": {},
   "source": [
    "Now just find cups and print them"
   ]
  },
  {
   "cell_type": "code",
   "execution_count": 10,
   "metadata": {},
   "outputs": [
    {
     "data": {
      "text/plain": [
       " 516461\n",
       " 16374\n"
      ]
     },
     "execution_count": 10,
     "metadata": {},
     "output_type": "execute_result"
    }
   ],
   "source": [
    "declare\n",
    "   Cursor : Cup_Lists.Cursor := Cup_Lists.Next (Index (1));\n",
    "   Cup_1  : Cup := Cup_Lists.Element (Cursor);\n",
    "   Cup_2  : Cup := Cup_Lists.Element (Cup_Lists.Next (Cursor));\n",
    "begin\n",
    "   Ada.Text_IO.Put_Line (Cup_1'Image);\n",
    "   Ada.Text_IO.Put_Line (Cup_2'Image);\n",
    "end;"
   ]
  },
  {
   "cell_type": "markdown",
   "metadata": {},
   "source": [
    "----\n",
    "[Back to Table of Contents](https://github.com/reznikmm/ada-howto/tree/advent-2020) "
   ]
  }
 ],
 "metadata": {
  "kernelspec": {
   "display_name": "Ada",
   "language": "ada",
   "name": "ada"
  },
  "language_info": {
   "codemirror_mode": "ada",
   "file_extension": ".adb",
   "mimetype": "text/x-ada",
   "name": "Ada",
   "pygments_lexer": "ada",
   "version": "2012"
  }
 },
 "nbformat": 4,
 "nbformat_minor": 4
}
