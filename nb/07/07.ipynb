{
 "cells": [
  {
   "cell_type": "markdown",
   "metadata": {},
   "source": [
    "[![Binder](https://mybinder.org/badge_logo.svg)](https://mybinder.org/v2/gh/reznikmm/ada-howto/advent-2020?filepath=%2Fhome%2Fjovyan%2Fnb%2F07%2F07.ipynb)\n",
    "\n",
    "# Day 7\n",
    "\n",
    "Firstly, let's force assertion checking. We will use `pragma Assert` in the code."
   ]
  },
  {
   "cell_type": "code",
   "execution_count": 1,
   "metadata": {},
   "outputs": [],
   "source": [
    "pragma Assertion_Policy (Check);"
   ]
  },
  {
   "cell_type": "markdown",
   "metadata": {},
   "source": [
    "We need some standard packages to read the text file and build an index of bags.Let's force assertion checking:"
   ]
  },
  {
   "cell_type": "code",
   "execution_count": 2,
   "metadata": {},
   "outputs": [],
   "source": [
    "with Ada.Text_IO;\n",
    "with Ada.Strings.Unbounded;\n",
    "with Ada.Strings.Maps;\n",
    "with Ada.Strings.Unbounded.Hash;\n",
    "with Ada.Containers.Hashed_Maps;\n",
    "with Ada.Containers.Vectors;"
   ]
  },
  {
   "cell_type": "markdown",
   "metadata": {},
   "source": [
    "To make reading rules simplier let's introduce a Tokenizer. It returns input word by word. Each word is separated by spaces. It returns an empty string at the end of file."
   ]
  },
  {
   "cell_type": "code",
   "execution_count": 3,
   "metadata": {},
   "outputs": [],
   "source": [
    "package Tokenizer is\n",
    "   procedure Open_File (Name : String);\n",
    "   function Next_Word return String;  --  Get \"\" on end of file\n",
    "private\n",
    "   Input  : Ada.Text_IO.File_Type;\n",
    "   Buffer : Ada.Strings.Unbounded.Unbounded_String;\n",
    "   From   : Positive := 1;\n",
    "   Space  : constant Ada.Strings.Maps.Character_Set :=\n",
    "     Ada.Strings.Maps.To_Set (\" \");\n",
    "end Tokenizer;\n",
    "\n",
    "package body Tokenizer is\n",
    "      \n",
    "   function Next_Word return String is\n",
    "      First : Positive;\n",
    "      Last  : Natural;\n",
    "   begin\n",
    "      loop\n",
    "         Ada.Strings.Unbounded.Find_Token\n",
    "           (Source => Buffer,\n",
    "            Set    => Space,\n",
    "            From   => From,\n",
    "            Test   => Ada.Strings.Outside,\n",
    "            First  => First,\n",
    "            Last   => Last);\n",
    "\n",
    "         if First <= Last then\n",
    "            From := Last + 1;\n",
    "            return Ada.Strings.Unbounded.Slice (Buffer, First, Last);\n",
    "         elsif Ada.Text_IO.End_Of_File (Input) then\n",
    "            return \"\";\n",
    "         else\n",
    "            Buffer := Ada.Strings.Unbounded.To_Unbounded_String\n",
    "              (Ada.Text_IO.Get_Line (Input));\n",
    "            From := 1;\n",
    "         end if;\n",
    "      end loop;\n",
    "   end Next_Word;\n",
    "\n",
    "   procedure Open_File (Name : String) is\n",
    "   begin\n",
    "      Ada.Text_IO.Open (Input, Ada.Text_IO.In_File, Name);\n",
    "   end Open_File;\n",
    "end Tokenizer;"
   ]
  },
  {
   "cell_type": "markdown",
   "metadata": {},
   "source": [
    "Now let's define a type for bag color. I cheat a bit by using a subtype. It simplifies program a bit."
   ]
  },
  {
   "cell_type": "code",
   "execution_count": 4,
   "metadata": {},
   "outputs": [],
   "source": [
    "subtype Color is Ada.Strings.Unbounded.Unbounded_String;\n",
    "\n",
    "function To_Color (Text : String) return Color\n",
    "  renames Ada.Strings.Unbounded.To_Unbounded_String;"
   ]
  },
  {
   "cell_type": "markdown",
   "metadata": {},
   "source": [
    "A color and count describes a bag nested in some other bag."
   ]
  },
  {
   "cell_type": "code",
   "execution_count": 5,
   "metadata": {},
   "outputs": [],
   "source": [
    "type Nested is record\n",
    "   Kind  : Color;\n",
    "   Count : Positive;\n",
    "end record;"
   ]
  },
  {
   "cell_type": "markdown",
   "metadata": {},
   "source": [
    "To keep several such descritions we naad a vector."
   ]
  },
  {
   "cell_type": "code",
   "execution_count": 6,
   "metadata": {},
   "outputs": [],
   "source": [
    "package Nested_Vectors is new Ada.Containers.Vectors (Positive, Nested);"
   ]
  },
  {
   "cell_type": "markdown",
   "metadata": {},
   "source": [
    "And now let's create a map color to descrition."
   ]
  },
  {
   "cell_type": "code",
   "execution_count": 7,
   "metadata": {},
   "outputs": [],
   "source": [
    "use type Color;\n",
    "\n",
    "package Color_Maps is new Ada.Containers.Hashed_Maps\n",
    "  (Key_Type        => Color,\n",
    "   Element_Type    => Nested_Vectors.Vector,\n",
    "   Hash            => Ada.Strings.Unbounded.Hash,\n",
    "   Equivalent_Keys => \"=\",\n",
    "   \"=\"             => Nested_Vectors.\"=\");\n",
    "\n",
    "Map : Color_Maps.Map;"
   ]
  },
  {
   "cell_type": "markdown",
   "metadata": {},
   "source": [
    "With a simple procedure we can read a color by reading two words."
   ]
  },
  {
   "cell_type": "code",
   "execution_count": 8,
   "metadata": {},
   "outputs": [],
   "source": [
    "procedure Read_Color (Value : out Color) is\n",
    "begin\n",
    "   Value := Ada.Strings.Unbounded.Null_Unbounded_String;\n",
    "   Ada.Strings.Unbounded.Append (Value, Tokenizer.Next_Word);\n",
    "   Ada.Strings.Unbounded.Append (Value, \" \");\n",
    "   Ada.Strings.Unbounded.Append (Value, Tokenizer.Next_Word);\n",
    "end Read_Color;"
   ]
  },
  {
   "cell_type": "markdown",
   "metadata": {},
   "source": [
    "Another procedure reads bag count by reading a word. It has an exception to be able to read 'no' as zero."
   ]
  },
  {
   "cell_type": "code",
   "execution_count": 9,
   "metadata": {},
   "outputs": [],
   "source": [
    "procedure Read_Count (Count : out Natural) is\n",
    "   Word : String := Tokenizer.Next_Word;\n",
    "begin\n",
    "   if Word = \"no\" then\n",
    "      Count := 0;\n",
    "   else\n",
    "      Count := Positive'Value (Word);\n",
    "   end if;\n",
    "end Read_Count;"
   ]
  },
  {
   "cell_type": "markdown",
   "metadata": {},
   "source": [
    "Now we are ready to read rules into the map."
   ]
  },
  {
   "cell_type": "code",
   "execution_count": 10,
   "metadata": {},
   "outputs": [],
   "source": [
    "Tokenizer.Open_File (\"/home/jovyan/md/07/input\");\n",
    "   \n",
    "loop\n",
    "   declare\n",
    "      use type Color;\n",
    "      Vector : Nested_Vectors.Vector;\n",
    "      Outer  : Color;\n",
    "   begin\n",
    "      Read_Color (Outer);\n",
    "      exit when Outer = To_Color (\" \");\n",
    "\n",
    "      pragma Assert (Tokenizer.Next_Word = \"bags\");\n",
    "      pragma Assert (Tokenizer.Next_Word = \"contain\");\n",
    "\n",
    "      declare\n",
    "         Inner : Color;\n",
    "         Count : Natural;\n",
    "      begin\n",
    "         Read_Count (Count);\n",
    "         if Count = 0 then\n",
    "            pragma Assert (Tokenizer.Next_Word = \"other\");\n",
    "            pragma Assert (Tokenizer.Next_Word = \"bags.\");\n",
    "         else\n",
    "            loop\n",
    "               Read_Color (Inner);\n",
    "               Vector.Append ((Inner, Count));\n",
    "\n",
    "               declare\n",
    "                  Bag : String := Tokenizer.Next_Word;\n",
    "               begin\n",
    "                  pragma Assert (Bag (Bag'Last) in '.' | ',');\n",
    "                  exit when Bag (Bag'Last) = '.';\n",
    "                  Read_Count (Count);\n",
    "                end;\n",
    "            end loop;\n",
    "         end if;\n",
    "\n",
    "         Map.Insert (Outer, Vector);\n",
    "      end;\n",
    "   end;\n",
    "end loop;"
   ]
  },
  {
   "cell_type": "markdown",
   "metadata": {},
   "source": [
    "We will count result using a function, that count a bag and all nested bags."
   ]
  },
  {
   "cell_type": "code",
   "execution_count": 11,
   "metadata": {},
   "outputs": [],
   "source": [
    "function Count_Bags (Map : Color_Maps.Map; Value : Color) return Positive is\n",
    "   Result : Positive := 1;\n",
    "begin\n",
    "   if Map.Contains (Value) then\n",
    "      for Item of Map (Value) loop\n",
    "         Result := Result + Item.Count * Count_Bags (Map, Item.Kind);\n",
    "      end loop;\n",
    "   end if;\n",
    "      \n",
    "   return Result;\n",
    "end Count_Bags;"
   ]
  },
  {
   "cell_type": "markdown",
   "metadata": {},
   "source": [
    "Now call it for our \"shiny gold\" bag."
   ]
  },
  {
   "cell_type": "code",
   "execution_count": 12,
   "metadata": {},
   "outputs": [],
   "source": [
    "Result : Positive := Count_Bags (Map, To_Color (\"shiny gold\"));"
   ]
  },
  {
   "cell_type": "markdown",
   "metadata": {},
   "source": [
    "Decrement `Result`, because we shouldn't count \"shiny gold\" bag itself."
   ]
  },
  {
   "cell_type": "code",
   "execution_count": 13,
   "metadata": {},
   "outputs": [
    {
     "data": {
      "text/plain": [
       " 45018\n"
      ]
     },
     "execution_count": 13,
     "metadata": {},
     "output_type": "execute_result"
    }
   ],
   "source": [
    "Result := Result - 1;\n",
    "\n",
    "Ada.Text_IO.Put_Line (Result'Image);"
   ]
  },
  {
   "cell_type": "markdown",
   "metadata": {},
   "source": [
    "----\n",
    "[Back to Table of Contents](https://github.com/reznikmm/ada-howto/tree/advent-2020)"
   ]
  }
 ],
 "metadata": {
  "kernelspec": {
   "display_name": "Ada",
   "language": "ada",
   "name": "ada"
  },
  "language_info": {
   "codemirror_mode": "ada",
   "file_extension": ".adb",
   "mimetype": "text/x-ada",
   "name": "Ada",
   "pygments_lexer": "ada",
   "version": "2012"
  }
 },
 "nbformat": 4,
 "nbformat_minor": 4
}
