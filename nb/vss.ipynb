{
 "cells": [
  {
   "cell_type": "markdown",
   "metadata": {},
   "source": [
    "# VSS\n",
    "\n",
    "Virtual strings library now in [Alire](https://alire.ada.dev)! So, setup should be easy step:"
   ]
  },
  {
   "cell_type": "code",
   "execution_count": 2,
   "metadata": {},
   "outputs": [
    {
     "data": {
      "text/plain": [
       "Do you want to proceed?\n",
       "Using default: Yes\n"
      ]
     },
     "execution_count": 2,
     "metadata": {},
     "output_type": "execute_result"
    },
    {
     "data": {
      "text/plain": [
       "Do you want Alire to automatically update your project file with the new dependency solution?\n",
       "Using default: Yes\n",
       "Do you want Alire to remember this choice?\n",
       "Using default: No\n"
      ]
     },
     "execution_count": 2,
     "metadata": {},
     "output_type": "execute_result"
    }
   ],
   "source": [
    "%alr -q with vss"
   ]
  },
  {
   "cell_type": "markdown",
   "metadata": {},
   "source": [
    "## Conversions\n",
    "Let's start with a procedure to print a `Virtual_String`. We need some standard Ada packages for it."
   ]
  },
  {
   "cell_type": "code",
   "execution_count": 3,
   "metadata": {},
   "outputs": [],
   "source": [
    "with Ada.Text_IO;\n",
    "with Ada.Wide_Wide_Text_IO;\n",
    "with Ada.Strings.UTF_Encoding.Wide_Wide_Strings;\n",
    "\n",
    "with VSS.Strings;\n",
    "with VSS.Strings.Conversions;"
   ]
  },
  {
   "cell_type": "markdown",
   "metadata": {},
   "source": [
    "For now we can convert a `Virtual_String` only to UTF-8 (mostly for debug purposes, because it uses a secondary/primary? stack). Instead we provide several streams, as you see later."
   ]
  },
  {
   "cell_type": "code",
   "execution_count": 4,
   "metadata": {},
   "outputs": [],
   "source": [
    "procedure Print (Text : VSS.Strings.Virtual_String) is\n",
    "   UTF_8 : Ada.Strings.UTF_Encoding.UTF_8_String :=\n",
    "     VSS.Strings.Conversions.To_UTF_8_String (Text);\n",
    "\n",
    "   Wide : Wide_Wide_String :=\n",
    "     Ada.Strings.UTF_Encoding.Wide_Wide_Strings.Decode (UTF_8);\n",
    "begin\n",
    "   Ada.Wide_Wide_Text_IO.Put_Line (Wide);\n",
    "end Print;"
   ]
  },
  {
   "cell_type": "markdown",
   "metadata": {},
   "source": [
    "To get a Virtual string from a literal we have a conversion function from `Wide_Wide_String` type:"
   ]
  },
  {
   "cell_type": "code",
   "execution_count": 5,
   "metadata": {},
   "outputs": [],
   "source": [
    "Literal : constant Wide_Wide_String := \"Hi, 🐧! Привет\";\n",
    "\n",
    "Hi : VSS.Strings.Virtual_String := VSS.Strings.To_Virtual_String (Literal);"
   ]
  },
  {
   "cell_type": "markdown",
   "metadata": {},
   "source": [
    "Now print it!"
   ]
  },
  {
   "cell_type": "code",
   "execution_count": 6,
   "metadata": {},
   "outputs": [
    {
     "data": {
      "text/plain": [
       "Hi, 🐧! Привет\n"
      ]
     },
     "execution_count": 6,
     "metadata": {},
     "output_type": "execute_result"
    }
   ],
   "source": [
    "Print (Hi);"
   ]
  },
  {
   "cell_type": "markdown",
   "metadata": {},
   "source": [
    "## Direct properties\n",
    "\n",
    "The `Virtual_String` has some properties and we can easy get them:"
   ]
  },
  {
   "cell_type": "code",
   "execution_count": 7,
   "metadata": {},
   "outputs": [
    {
     "data": {
      "text/plain": [
       "Is_Empty=FALSE\n",
       "Hash= 2272830368935134545\n",
       "Character_Length= 13\n"
      ]
     },
     "execution_count": 7,
     "metadata": {},
     "output_type": "execute_result"
    }
   ],
   "source": [
    "Ada.Text_IO.Put_Line (\"Is_Empty=\" & Hi.Is_Empty'Image);\n",
    "Ada.Text_IO.Put_Line (\"Hash=\" & Hi.Hash'Image);\n",
    "Ada.Text_IO.Put_Line (\"Character_Length=\" & Hi.Character_Length'Image);"
   ]
  },
  {
   "cell_type": "markdown",
   "metadata": {},
   "source": [
    "## Iterating over a string\n",
    "\n",
    "For now there is a character iterator. Other (grapheme, word, line, etc) iterators could be defined in the future."
   ]
  },
  {
   "cell_type": "code",
   "execution_count": 8,
   "metadata": {},
   "outputs": [],
   "source": [
    "with VSS.Strings.Iterators.Characters;"
   ]
  },
  {
   "cell_type": "markdown",
   "metadata": {},
   "source": [
    "An iterator has a character index and UTF8/16 offsets."
   ]
  },
  {
   "cell_type": "code",
   "execution_count": 9,
   "metadata": {},
   "outputs": [
    {
     "data": {
      "text/plain": [
       " 2  UTF8 1  UTF16 1  => i\n",
       " 3  UTF8 2  UTF16 2  => ,\n",
       " 4  UTF8 3  UTF16 3  =>  \n",
       " 5  UTF8 4  UTF16 4  => 🐧\n",
       " 6  UTF8 8  UTF16 6  => !\n",
       " 7  UTF8 9  UTF16 7  =>  \n",
       " 8  UTF8 10  UTF16 8  => П\n",
       " 9  UTF8 12  UTF16 9  => р\n",
       " 10  UTF8 14  UTF16 10  => и\n",
       " 11  UTF8 16  UTF16 11  => в\n",
       " 12  UTF8 18  UTF16 12  => е\n",
       " 13  UTF8 20  UTF16 13  => т\n"
      ]
     },
     "execution_count": 9,
     "metadata": {},
     "output_type": "execute_result"
    }
   ],
   "source": [
    "declare\n",
    "   Each : VSS.Strings.Iterators.Characters.Character_Iterator :=\n",
    "     Hi.First_Character;\n",
    "begin\n",
    "   while Each.Forward loop\n",
    "      Ada.Text_IO.Put (Each.Character_Index'Image);\n",
    "      Ada.Text_IO.Put (\"  UTF8\"  & Each.UTF8_Offset'Image);\n",
    "      Ada.Text_IO.Put (\"  UTF16\" & Each.UTF16_Offset'Image);\n",
    "      Ada.Text_IO.Put (\"  => \");\n",
    "      Ada.Wide_Wide_Text_IO.Put_Line ((1 => Wide_Wide_Character (Each.Element)));\n",
    "   end loop;\n",
    "end;"
   ]
  },
  {
   "cell_type": "markdown",
   "metadata": {},
   "source": [
    "## String vectors\n",
    "\n",
    "An important missing features in Ada is a string vector. VSS has this as a tagged type."
   ]
  },
  {
   "cell_type": "code",
   "execution_count": 10,
   "metadata": {},
   "outputs": [],
   "source": [
    "with VSS.String_Vectors;\n",
    "with Ada.Characters.Wide_Wide_Latin_1;"
   ]
  },
  {
   "cell_type": "markdown",
   "metadata": {},
   "source": [
    "Currently, besides `Append`, `Length` and `Element` subprograms, it's used to split lines with standard (but run-time configurable) separators."
   ]
  },
  {
   "cell_type": "code",
   "execution_count": 11,
   "metadata": {},
   "outputs": [],
   "source": [
    "Text : VSS.Strings.Virtual_String := VSS.Strings.To_Virtual_String\n",
    "  (\"aaa\" & Ada.Characters.Wide_Wide_Latin_1.LF &\n",
    "   \"bbb\" & Ada.Characters.Wide_Wide_Latin_1.CR & Ada.Characters.Wide_Wide_Latin_1.LF &\n",
    "   \"ccc\" & Ada.Characters.Wide_Wide_Latin_1.CR &\n",
    "   \"ddd\");\n",
    "\n",
    "Vector : VSS.String_Vectors.Virtual_String_Vector := Text.Split_Lines;"
   ]
  },
  {
   "cell_type": "markdown",
   "metadata": {},
   "source": [
    "Let's see how it works:"
   ]
  },
  {
   "cell_type": "code",
   "execution_count": 12,
   "metadata": {},
   "outputs": [
    {
     "data": {
      "text/plain": [
       "aaa\n",
       "bbb\n",
       "ccc\n",
       "ddd\n"
      ]
     },
     "execution_count": 12,
     "metadata": {},
     "output_type": "execute_result"
    }
   ],
   "source": [
    "for Line of Vector loop\n",
    "   Print (Line);\n",
    "end loop;"
   ]
  },
  {
   "cell_type": "markdown",
   "metadata": {},
   "source": [
    "Note, no extra line between CR and LF:"
   ]
  },
  {
   "cell_type": "code",
   "execution_count": 13,
   "metadata": {},
   "outputs": [
    {
     "data": {
      "text/plain": [
       " 4\n"
      ]
     },
     "execution_count": 13,
     "metadata": {},
     "output_type": "execute_result"
    }
   ],
   "source": [
    "Ada.Text_IO.Put_Line (Vector.Length'Image);"
   ]
  },
  {
   "cell_type": "markdown",
   "metadata": {},
   "source": [
    "## Stream_Element_Buffer\n",
    "\n",
    "The `Stream_Element_Array` is a indefinite type and not very handy in situation when you don't know its size in advance. For such use we provide a `Stream_Element_Buffer`."
   ]
  },
  {
   "cell_type": "code",
   "execution_count": 14,
   "metadata": {},
   "outputs": [],
   "source": [
    "with Ada.Streams;\n",
    "with VSS.Stream_Element_Buffers;\n",
    "with VSS.Stream_Element_Buffers.Conversions;"
   ]
  },
  {
   "cell_type": "markdown",
   "metadata": {},
   "source": [
    "The function `Conversions.Unchecked_To_String` uses the stack, but useful in some cases."
   ]
  },
  {
   "cell_type": "code",
   "execution_count": 15,
   "metadata": {},
   "outputs": [
    {
     "data": {
      "text/plain": [
       " 71 72 73\n",
       "GHI\n"
      ]
     },
     "execution_count": 15,
     "metadata": {},
     "output_type": "execute_result"
    }
   ],
   "source": [
    "declare\n",
    "   Buffer : VSS.Stream_Element_Buffers.Stream_Element_Buffer;\n",
    "begin\n",
    "   Buffer.Append (71);\n",
    "   Buffer.Append (72);\n",
    "   Buffer.Append (73);\n",
    "\n",
    "   for J in 1 .. Buffer.Length loop\n",
    "      Ada.Text_IO.Put (Buffer.Element (J)'Image);\n",
    "   end loop;\n",
    "   Ada.Text_IO.New_Line;\n",
    "   Ada.Text_IO.Put_Line\n",
    "     (VSS.Stream_Element_Buffers.Conversions.Unchecked_To_String (Buffer));\n",
    "end;"
   ]
  },
  {
   "cell_type": "markdown",
   "metadata": {},
   "source": [
    "## Streams\n",
    "The `VSS.Text_Streams` package provides\n",
    " * `Input_Text_Stream` and `Output_Text_Stream` interfaces.\n",
    " * `Memory_UTF8_Output_Stream` implementation of the `Output_Text_Stream` collects UTF-8 representation of the text into a memory buffer."
   ]
  },
  {
   "cell_type": "code",
   "execution_count": 16,
   "metadata": {},
   "outputs": [],
   "source": [
    "with VSS.Text_Streams.Memory;"
   ]
  },
  {
   "cell_type": "code",
   "execution_count": 17,
   "metadata": {},
   "outputs": [
    {
     "data": {
      "text/plain": [
       "i, 🐧! Привет\n"
      ]
     },
     "execution_count": 17,
     "metadata": {},
     "output_type": "execute_result"
    }
   ],
   "source": [
    "declare\n",
    "   Stream : VSS.Text_Streams.Memory.Memory_UTF8_Output_Stream;\n",
    "   Ok     : Boolean;\n",
    "\n",
    "   Each   : VSS.Strings.Iterators.Characters.Character_Iterator :=\n",
    "     Hi.First_Character;\n",
    "begin\n",
    "   while Each.Forward loop\n",
    "      Stream.Put (Each.Element, Ok);\n",
    "   end loop;\n",
    "\n",
    "   Ada.Text_IO.Put_Line\n",
    "     (VSS.Stream_Element_Buffers.Conversions.Unchecked_To_String\n",
    "       (Stream.Buffer));\n",
    "end;"
   ]
  },
  {
   "cell_type": "markdown",
   "metadata": {},
   "source": [
    "# JSON\n",
    "\n",
    "The JSON subproject provides JSON reader and writer to process JSON in a streaming way. It's comparable with StaX API for XML (like SAX but without callbacks).\n",
    "\n",
    "## JSON_Simple_Writer"
   ]
  },
  {
   "cell_type": "code",
   "execution_count": 18,
   "metadata": {},
   "outputs": [],
   "source": [
    "with VSS.JSON.Streams.Writers;"
   ]
  },
  {
   "cell_type": "markdown",
   "metadata": {},
   "source": [
    "You provide a text output stream and then create JSON by triggering events."
   ]
  },
  {
   "cell_type": "code",
   "execution_count": 21,
   "metadata": {},
   "outputs": [
    {
     "data": {
      "text/plain": [
       "[null,true,\"Hi, 🐧! Привет\",123]\n"
      ]
     },
     "execution_count": 21,
     "metadata": {},
     "output_type": "execute_result"
    }
   ],
   "source": [
    "declare\n",
    "   Output : aliased VSS.Text_Streams.Memory.Memory_UTF8_Output_Stream;\n",
    "   Writer : VSS.JSON.Streams.Writers.JSON_Simple_Writer;\n",
    "begin\n",
    "   Writer.Set_Stream (Output'Unchecked_Access);\n",
    "   Writer.Start_Document;\n",
    "   Writer.Start_Array;\n",
    "   Writer.Null_Value;\n",
    "   Writer.Boolean_Value (True);\n",
    "   Writer.String_Value (Hi);\n",
    "   Writer.Integer_Value (123);\n",
    "   Writer.End_Array;\n",
    "   Writer.End_Document;\n",
    "\n",
    "   Ada.Text_IO.Put_Line\n",
    "     (VSS.Stream_Element_Buffers.Conversions.Unchecked_To_String\n",
    "       (Output.Buffer));\n",
    "end;"
   ]
  },
  {
   "cell_type": "markdown",
   "metadata": {},
   "source": [
    "## JSON_Simple_Reader\n",
    "\n",
    "The reader works in opposite direction. After providing an input text stream, you can read events in a loop from the reader."
   ]
  },
  {
   "cell_type": "code",
   "execution_count": 22,
   "metadata": {},
   "outputs": [],
   "source": [
    "with Test_Text_Streams;\n",
    "with VSS.JSON.Streams.Readers.Simple;"
   ]
  },
  {
   "cell_type": "markdown",
   "metadata": {},
   "source": [
    "Let's connect Reader and Writer with a simple `case` statement:"
   ]
  },
  {
   "cell_type": "code",
   "execution_count": 23,
   "metadata": {},
   "outputs": [
    {
     "data": {
      "text/plain": [
       "[null,true,123]\n"
      ]
     },
     "execution_count": 23,
     "metadata": {},
     "output_type": "execute_result"
    }
   ],
   "source": [
    "declare\n",
    "   use all type VSS.JSON.Streams.Readers.JSON_Event_Kind;\n",
    "\n",
    "   JSON   : String := \"[null, true, 123]\";\n",
    "   Input  : aliased Test_Text_Streams.Memory_UTF8_Input_Stream;\n",
    "   Reader : VSS.JSON.Streams.Readers.Simple.JSON_Simple_Reader;\n",
    "   Writer : VSS.JSON.Streams.Writers.JSON_Simple_Writer;\n",
    "   Output : aliased VSS.Text_Streams.Memory.Memory_UTF8_Output_Stream;\n",
    "begin\n",
    "   Reader.Set_Stream (Input'Unchecked_Access);\n",
    "   Writer.Set_Stream (Output'Unchecked_Access);\n",
    "\n",
    "   for Char of JSON loop\n",
    "      Input.Buffer.Append (Character'Pos (Char));\n",
    "   end loop;\n",
    "\n",
    "   loop\n",
    "      case Reader.Read_Next is\n",
    "         when Start_Document =>\n",
    "            Writer.Start_Document;\n",
    "         when End_Document =>\n",
    "            Writer.End_Document;\n",
    "\n",
    "            exit;\n",
    "         when Start_Array =>\n",
    "            Writer.Start_Array;\n",
    "         when End_Array =>\n",
    "            Writer.End_Array;\n",
    "         when Null_Value =>\n",
    "            Writer.Null_Value;\n",
    "         when Boolean_Value =>\n",
    "            Writer.Boolean_Value (Reader.Boolean_Value);\n",
    "         when Number_Value =>\n",
    "            Writer.Number_Value (Reader.Number_Value);\n",
    "         when others =>\n",
    "            null;\n",
    "      end case;\n",
    "   end loop;\n",
    "\n",
    "   Ada.Text_IO.Put_Line\n",
    "     (VSS.Stream_Element_Buffers.Conversions.Unchecked_To_String\n",
    "       (Output.Buffer));\n",
    "end;"
   ]
  },
  {
   "cell_type": "markdown",
   "metadata": {},
   "source": [
    "# Conclusion"
   ]
  }
 ],
 "metadata": {
  "kernelspec": {
   "display_name": "Ada",
   "language": "ada",
   "name": "ada"
  },
  "language_info": {
   "codemirror_mode": "ada",
   "file_extension": ".adb",
   "mimetype": "text/x-ada",
   "name": "Ada",
   "pygments_lexer": "ada",
   "version": "2012"
  }
 },
 "nbformat": 4,
 "nbformat_minor": 4
}
