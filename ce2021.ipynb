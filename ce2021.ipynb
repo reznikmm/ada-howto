{
 "cells": [
  {
   "cell_type": "markdown",
   "metadata": {},
   "source": [
    "# Поддержка грядущего стандарта Ада 202х в GNAT Community Edition 2021\n",
    "\n",
    "Запустить: [![Binder](https://mybinder.org/badge_logo.svg)](https://mybinder.org/v2/gh/reznikmm/ada-howto/ce-2021?filepath=%2Fhome%2Fjovyan%2Fce2021.ipynb \"Run me!\")\n",
    "\n",
    "В мае 2021г. вышла новая редакция компилятора Ada -\n",
    "[GNAT Community Edition 2021](https://www.adacore.com/download\n",
    "  \"Download\").\n",
    "В ней, среди прочих изменений и улучшений, реализована значительная часть новых\n",
    "возможностей\n",
    "[грядущего стандарта Ады](http://www.ada-auth.org/standards/ada2x.html\n",
    "\"Ada 202x Language Reference Manual\")\n",
    "который AdaCore теперь называет Ada 2022.\n",
    "\n",
    "Давайте познакомимся с ними поближе. Благодаря\n",
    "[Jupyter Ada Kernel](https://github.com/reznikmm/jupyter)\n",
    "поэкспериментировать с примерами использования этих возможностей можно прямо\n",
    "в браузере. Для этого откройте данный \"блокнот\" просто перейдя по ссылке на \n",
    "[mybinder](https://mybinder.org/v2/gh/reznikmm/ada-howto/ce-2021?filepath=%2Fhome%2Fjovyan%2Fce2021.ipynb\n",
    "  \"Run me!\").\n",
    "(Предупреждение: загрузка блокнота может занять некоторое время необходимое для\n",
    "сборки и запуска контейнера).\n",
    "\n",
    "Если Вы ранее не работали с блокнотами Jupyter - не пугайтесь, это не сложно.\n",
    "Основная идея в том, что Вы может выполнять ячейки с кодом. Для этого на ячейке\n",
    "нажмите `Ctrl+Enter` либо воспользуйтесь меню или иконками. В Jupyter Ada Kernel\n",
    "ячейка может содержать\n",
    "[спецификатор контекста](http://www.ada-auth.org/standards/rm12_w_tc1/html/RM-10-1-2.html#S0253\n",
    "  \"context clauses\"),\n",
    "[оператор](http://www.ada-auth.org/standards/rm12_w_tc1/html/RM-5-1.html#S0146\n",
    "  \"statements\") или\n",
    "[определение](http://www.ada-auth.org/standards/rm12_w_tc1/html/RM-3-11.html#S0087\n",
    "  \"declarative items\"),\n",
    "либо несколько таких элементов, но одного типа. Если ячуйка собержит тело \n",
    "подпрограммы или пакета, то спецификация должна быть в той же ячейке.\n",
    "Некоторые ячейки зависят от преыдущих, пожтому лучше выполнять ячейки по порядку.\n",
    "\n",
    "## Содержание\n",
    " * [Активация Ada 202x](#%D0%90%D0%BA%D1%82%D0%B8%D0%B2%D0%B0%D1%86%D0%B8%D1%8F-Ada-202x)\n",
    " * [Больше выразительности и удобства](#%D0%91%D0%BE%D0%BB%D1%8C%D1%88%D0%B5-%D0%B2%D1%8B%D1%80%D0%B0%D0%B7%D0%B8%D1%82%D0%B5%D0%BB%D1%8C%D0%BD%D0%BE%D1%81%D1%82%D0%B8-%D0%B8-%D1%83%D0%B4%D0%BE%D0%B1%D1%81%D1%82%D0%B2%D0%B0)\n",
    "   * [Атрибут 'Image для всех типов](#%D0%90%D1%82%D1%80%D0%B8%D0%B1%D1%83%D1%82-'Image-%D0%B4%D0%BB%D1%8F-%D0%B2%D1%81%D0%B5%D1%85-%D1%82%D0%B8%D0%BF%D0%BE%D0%B2)\n",
    "   * [Переопределение атрибута 'Image](#%D0%9F%D0%B5%D1%80%D0%B5%D0%BE%D0%BF%D1%80%D0%B5%D0%B4%D0%B5%D0%BB%D0%B5%D0%BD%D0%B8%D0%B5-%D0%B0%D1%82%D1%80%D0%B8%D0%B1%D1%83%D1%82%D0%B0-'Image)\n",
    "   * [Числовые и строковые литералы для пользовательских типов](#%D0%A7%D0%B8%D1%81%D0%BB%D0%BE%D0%B2%D1%8B%D0%B5-%D0%B8-%D1%81%D1%82%D1%80%D0%BE%D0%BA%D0%BE%D0%B2%D1%8B%D0%B5-%D0%BB%D0%B8%D1%82%D0%B5%D1%80%D0%B0%D0%BB%D1%8B-%D0%B4%D0%BB%D1%8F-%D0%BF%D0%BE%D0%BB%D1%8C%D0%B7%D0%BE%D0%B2%D0%B0%D1%82%D0%B5%D0%BB%D1%8C%D1%81%D0%BA%D0%B8%D1%85-%D1%82%D0%B8%D0%BF%D0%BE%D0%B2)\n",
    "   * [Итеративные ассоциации в агрегатах массивов](#%D0%98%D1%82%D0%B5%D1%80%D0%B0%D1%82%D0%B8%D0%B2%D0%BD%D1%8B%D0%B5-%D0%B0%D1%81%D1%81%D0%BE%D1%86%D0%B8%D0%B0%D1%86%D0%B8%D0%B8-%D0%B2-%D0%B0%D0%B3%D1%80%D0%B5%D0%B3%D0%B0%D1%82%D0%B0%D1%85-%D0%BC%D0%B0%D1%81%D1%81%D0%B8%D0%B2%D0%BE%D0%B2)\n",
    "   * [Дельта агрегаты](#%D0%94%D0%B5%D0%BB%D1%8C%D1%82%D0%B0-%D0%B0%D0%B3%D1%80%D0%B5%D0%B3%D0%B0%D1%82%D1%8B)\n",
    "   * [Агрегаты контейнеров](#%D0%90%D0%B3%D1%80%D0%B5%D0%B3%D0%B0%D1%82%D1%8B-%D0%BA%D0%BE%D0%BD%D1%82%D0%B5%D0%B9%D0%BD%D0%B5%D1%80%D0%BE%D0%B2)\n",
    "   * [Плюха @](#%D0%9F%D0%BB%D1%8E%D1%85%D0%B0-@)\n",
    "   * [Поддержка Map-Reduce](#%D0%9F%D0%BE%D0%B4%D0%B4%D0%B5%D1%80%D0%B6%D0%BA%D0%B0-Map-Reduce)\n",
    "   * [Фильтры для итераторов](#%D0%A4%D0%B8%D0%BB%D1%8C%D1%82%D1%80%D1%8B-%D0%B4%D0%BB%D1%8F-%D0%B8%D1%82%D0%B5%D1%80%D0%B0%D1%82%D0%BE%D1%80%D0%BE%D0%B2)\n",
    "   * [Упрощенное переименование](#%D0%A3%D0%BF%D1%80%D0%BE%D1%89%D0%B5%D0%BD%D0%BD%D0%BE%D0%B5-%D0%BF%D0%B5%D1%80%D0%B5%D0%B8%D0%BC%D0%B5%D0%BD%D0%BE%D0%B2%D0%B0%D0%BD%D0%B8%D0%B5)\n",
    "   * [Выражения‐определения](#%D0%92%D1%8B%D1%80%D0%B0%D0%B6%D0%B5%D0%BD%D0%B8%D1%8F%E2%80%90%D0%BE%D0%BF%D1%80%D0%B5%D0%B4%D0%B5%D0%BB%D0%B5%D0%BD%D0%B8%D1%8F)\n",
    "   * [Статические функции](#%D0%A1%D1%82%D0%B0%D1%82%D0%B8%D1%87%D0%B5%D1%81%D0%BA%D0%B8%D0%B5-%D1%84%D1%83%D0%BD%D0%BA%D1%86%D0%B8%D0%B8)\n",
    "   * [Доступ к значениям спецификации представления](#%D0%94%D0%BE%D1%81%D1%82%D1%83%D0%BF-%D0%BA-%D0%B7%D0%BD%D0%B0%D1%87%D0%B5%D0%BD%D0%B8%D1%8F%D0%BC-%D1%81%D0%BF%D0%B5%D1%86%D0%B8%D1%84%D0%B8%D0%BA%D0%B0%D1%86%D0%B8%D0%B8-%D0%BF%D1%80%D0%B5%D0%B4%D1%81%D1%82%D0%B0%D0%B2%D0%BB%D0%B5%D0%BD%D0%B8%D1%8F)\n",
    " * [Библиотека времени исполнения](#%D0%91%D0%B8%D0%B1%D0%BB%D0%B8%D0%BE%D1%82%D0%B5%D0%BA%D0%B0-%D0%B2%D1%80%D0%B5%D0%BC%D0%B5%D0%BD%D0%B8-%D0%B8%D1%81%D0%BF%D0%BE%D0%BB%D0%BD%D0%B5%D0%BD%D0%B8%D1%8F)\n",
    "   * [Арифметика с произвольной точностью](#%D0%90%D1%80%D0%B8%D1%84%D0%BC%D0%B5%D1%82%D0%B8%D0%BA%D0%B0-%D1%81-%D0%BF%D1%80%D0%BE%D0%B8%D0%B7%D0%B2%D0%BE%D0%BB%D1%8C%D0%BD%D0%BE%D0%B9-%D1%82%D0%BE%D1%87%D0%BD%D0%BE%D1%81%D1%82%D1%8C%D1%8E)\n",
    "   * [Атомарные операции](#%D0%90%D1%82%D0%BE%D0%BC%D0%B0%D1%80%D0%BD%D1%8B%D0%B5-%D0%BE%D0%BF%D0%B5%D1%80%D0%B0%D1%86%D0%B8%D0%B8)\n",
    " * [Исправления](#%D0%98%D1%81%D0%BF%D1%80%D0%B0%D0%B2%D0%BB%D0%B5%D0%BD%D0%B8%D1%8F-%D0%B8-%D0%BF%D1%80%D0%BE%D1%87%D0%B5%D0%B5)\n",
    "   * [Импорт С-функций с переменным числом аргументов](#%D0%98%D0%BC%D0%BF%D0%BE%D1%80%D1%82-%D0%A1-%D1%84%D1%83%D0%BD%D0%BA%D1%86%D0%B8%D0%B9-%D1%81-%D0%BF%D0%B5%D1%80%D0%B5%D0%BC%D0%B5%D0%BD%D0%BD%D1%8B%D0%BC-%D1%87%D0%B8%D1%81%D0%BB%D0%BE%D0%BC-%D0%B0%D1%80%D0%B3%D1%83%D0%BC%D0%B5%D0%BD%D1%82%D0%BE%D0%B2)\n",
    " * [Что после Ады 2022?](#%D0%A7%D1%82%D0%BE-%D0%BF%D0%BE%D1%81%D0%BB%D0%B5-%D0%90%D0%B4%D1%8B-2022?)\n",
    "   * [Дополнительный when](#%D0%94%D0%BE%D0%BF%D0%BE%D0%BB%D0%BD%D0%B8%D1%82%D0%B5%D0%BB%D1%8C%D0%BD%D1%8B%D0%B9-when)\n",
    "   * [Сопоставление с шаблоном](#%D0%A1%D0%BE%D0%BF%D0%BE%D1%81%D1%82%D0%B0%D0%B2%D0%BB%D0%B5%D0%BD%D0%B8%D0%B5-%D1%81-%D1%88%D0%B0%D0%B1%D0%BB%D0%BE%D0%BD%D0%BE%D0%BC)\n",
    "   * [Фиксированная нижняя граница массива](#%D0%A4%D0%B8%D0%BA%D1%81%D0%B8%D1%80%D0%BE%D0%B2%D0%B0%D0%BD%D0%BD%D0%B0%D1%8F-%D0%BD%D0%B8%D0%B6%D0%BD%D1%8F%D1%8F-%D0%B3%D1%80%D0%B0%D0%BD%D0%B8%D1%86%D0%B0-%D0%BC%D0%B0%D1%81%D1%81%D0%B8%D0%B2%D0%B0)\n",
    "   * [Вызов подпрограмм через точку для нетеговых типов](#%D0%92%D1%8B%D0%B7%D0%BE%D0%B2-%D0%BF%D0%BE%D0%B4%D0%BF%D1%80%D0%BE%D0%B3%D1%80%D0%B0%D0%BC%D0%BC-%D1%87%D0%B5%D1%80%D0%B5%D0%B7-%D1%82%D0%BE%D1%87%D0%BA%D1%83-%D0%B4%D0%BB%D1%8F-%D0%BD%D0%B5%D1%82%D0%B5%D0%B3%D0%BE%D0%B2%D1%8B%D1%85-%D1%82%D0%B8%D0%BF%D0%BE%D0%B2)\n",
    "* [Заключение](#%D0%97%D0%B0%D0%BA%D0%BB%D1%8E%D1%87%D0%B5%D0%BD%D0%B8%D0%B5)\n",
    "\n",
    "## Активация Ada 202x\n",
    "\n",
    "Первое, что нужно сделать, это указать компилятору, что Вы используете новый стандарт.\n",
    "Обычно это делается при помощи ключа компилятора `-gnat2022`.\n",
    "Указать его можно в коммандной строке, а лучше в проектном файле.\n",
    "Но в этом блокноте мы будем пользоваться директивой компилятора \n",
    "\n",
    "```ada\n",
    "pragma Ada_2022;\n",
    "```\n",
    "\n",
    "Если вы хотите использовать синтаксис с квадратными скобками\n",
    "(что допускается в Аде 202х), то нужно также указать ключ\n",
    "`-gnatX` либо использовать\n",
    "\n",
    "```ada\n",
    "pragma Extensions_Allowed (On);\n",
    "```\n",
    "\n",
    "Следующая ячейка должна выполнятся первой, иначе последующие ячейки работать не будут!\n",
    "(Также нам пригодится пакет `Ada.Text_IO;`).\n",
    "\n"
   ]
  },
  {
   "cell_type": "code",
   "execution_count": 1,
   "metadata": {},
   "outputs": [],
   "source": [
    "pragma Ada_2022;\n",
    "pragma Extensions_Allowed (On);\n",
    "with Ada.Text_IO;"
   ]
  },
  {
   "cell_type": "markdown",
   "metadata": {},
   "source": [
    "## Больше выразительности и удобства\n",
    "\n",
    "Авторы стандарта стараются сделать язык более выразительным и удобным. К нововведениям этой группы можно отнести литералы пользовательских типов, агрегаты контейнеров, новые виды агрегатов массивов и записей и прочее. Давайте начнем с атрибута `'Image`.\n",
    "\n",
    "### Атрибут `'Image` для всех типов\n",
    "\n",
    "В новом стандарте атрибут `'Image` работает для всех типов, а не только для скалярных, как было раньше. (Если Вы пропустили \n",
    "\"[технические правки 2016](http://www.ada-auth.org/standards/rm12_w_tc1/html/RM-3-5.html#I1681)\"\n",
    "стандарте Ada 2012, то знайте, теперь префиксом атрибута может выступать не только тип,\n",
    "но и значение. Запись `My_Type'Image (Value)` можно сократить до `Value'Image`)."
   ]
  },
  {
   "cell_type": "code",
   "execution_count": 2,
   "metadata": {},
   "outputs": [],
   "source": [
    "Integer_Array : array (1 .. 3) of Integer := (1, 2, 3);"
   ]
  },
  {
   "cell_type": "code",
   "execution_count": 3,
   "metadata": {},
   "outputs": [
    {
     "data": {
      "text/plain": [
       "\n",
       "[ 1,  2,  3]\n"
      ]
     },
     "execution_count": 3,
     "metadata": {},
     "output_type": "execute_result"
    }
   ],
   "source": [
    "Ada.Text_IO.Put_Line (Integer_Array'Image);"
   ]
  },
  {
   "cell_type": "markdown",
   "metadata": {},
   "source": [
    "### Переопределение атрибута `'Image`\n",
    "\n",
    "Также можно задать подпрограмму для отображения значений своего типа.\n",
    "В этой версии авторы компилятора реализовали переопределение так, как написано в стандарте.\n",
    "\n",
    "Основная идея в том, чтобы определить аспект `Put_Image` для вашего типа используя подпрограммы из предопределённого пакета:"
   ]
  },
  {
   "cell_type": "code",
   "execution_count": 4,
   "metadata": {},
   "outputs": [],
   "source": [
    "with Ada.Strings.Text_Buffers;"
   ]
  },
  {
   "cell_type": "code",
   "execution_count": 5,
   "metadata": {},
   "outputs": [],
   "source": [
    "package Source_Locations is\n",
    "   type Source_Location is record\n",
    "      Line   : Positive;\n",
    "      Column : Positive;\n",
    "   end record\n",
    "     with Put_Image => My_Put_Image;\n",
    "\n",
    "   procedure My_Put_Image\n",
    "     (Buffer : in out Ada.Strings.Text_Buffers.Root_Buffer_Type'Class;\n",
    "      Value  : Source_Location);\n",
    "end Source_Locations;\n",
    "\n",
    "package body Source_Locations is\n",
    "\n",
    "   procedure My_Put_Image\n",
    "     (Buffer : in out Ada.Strings.Text_Buffers.Root_Buffer_Type'Class;\n",
    "      Value  : Source_Location)\n",
    "   is\n",
    "      Line   : constant String := Value.Line'Image;\n",
    "      Column : constant String := Value.Column'Image;\n",
    "      Result : constant String :=\n",
    "        Line (2 .. Line'Last) & ':' & Column (2 .. Column'Last);\n",
    "   begin\n",
    "      Buffer.Put (Result);\n",
    "   end My_Put_Image;\n",
    "\n",
    "end Source_Locations;"
   ]
  },
  {
   "cell_type": "markdown",
   "metadata": {},
   "source": [
    "Создадим теперь объект нашего типа:"
   ]
  },
  {
   "cell_type": "code",
   "execution_count": 6,
   "metadata": {},
   "outputs": [],
   "source": [
    "Line_10 : Source_Locations.Source_Location := (Line => 10, Column => 1);"
   ]
  },
  {
   "cell_type": "markdown",
   "metadata": {},
   "source": [
    "И напечатаем его:"
   ]
  },
  {
   "cell_type": "code",
   "execution_count": 7,
   "metadata": {},
   "outputs": [
    {
     "data": {
      "text/plain": [
       "Text position: 10:1\n"
      ]
     },
     "execution_count": 7,
     "metadata": {},
     "output_type": "execute_result"
    }
   ],
   "source": [
    "Ada.Text_IO.Put_Line (\"Text position: \" & Line_10'Image);"
   ]
  },
  {
   "cell_type": "markdown",
   "metadata": {},
   "source": [
    "### Числовые и строковые литералы для пользовательских типов \n",
    "    \n",
    "Появилась возможность использовать литералы языка для своих типов.\n",
    "Это позволяет избежать явного вызова функции преобразования.\n",
    "\n",
    "Это удобно, когда вводишь свои строчные и числовые типы. Давайте, для примера, создадим\n",
    "свой строчный тип на основе `Unbounded_String`. Нам понадобятся следующие пакеты:"
   ]
  },
  {
   "cell_type": "code",
   "execution_count": 8,
   "metadata": {},
   "outputs": [],
   "source": [
    "with Ada.Strings.Unbounded;\n",
    "with Ada.Strings.UTF_Encoding.Wide_Wide_Strings;"
   ]
  },
  {
   "cell_type": "markdown",
   "metadata": {},
   "source": [
    "Теперь определим сам тип и аспект `String_Literal` для него:"
   ]
  },
  {
   "cell_type": "code",
   "execution_count": 9,
   "metadata": {},
   "outputs": [],
   "source": [
    "type My_String is new Ada.Strings.Unbounded.Unbounded_String\n",
    "  with String_Literal => From_String;\n",
    "\n",
    "function From_String (Text : Wide_Wide_String) return My_String is\n",
    " (To_Unbounded_String\n",
    "   (Ada.Strings.UTF_Encoding.Wide_Wide_Strings.Encode\n",
    "     (Text)));\n",
    "\n",
    "Five : My_String := \"5\";\n"
   ]
  },
  {
   "cell_type": "code",
   "execution_count": 10,
   "metadata": {},
   "outputs": [
    {
     "data": {
      "text/plain": [
       "5\n"
      ]
     },
     "execution_count": 10,
     "metadata": {},
     "output_type": "execute_result"
    }
   ],
   "source": [
    "Ada.Text_IO.Put_Line (To_String (Five));"
   ]
  },
  {
   "cell_type": "markdown",
   "metadata": {},
   "source": [
    "### Итеративные ассоциации в агрегатах массивов\n",
    "\n",
    "Иногда требуется конструировать такие значения массивов, что элементы заданы, как функция от индекса. Здесь пригодятся агрегаты в новой форме. Ассоциации этих агрегатов нацинаются со слова `for`:"
   ]
  },
  {
   "cell_type": "code",
   "execution_count": 11,
   "metadata": {},
   "outputs": [],
   "source": [
    "type Integer_Matrix is array (1 .. 3, 1 .. 3) of Integer;\n",
    "\n",
    "X_3x3 : Integer_Matrix :=\n",
    " (for K in 1 .. 3 =>\n",
    "   (for J in 1 .. 3 => (K * 10 + J)));"
   ]
  },
  {
   "cell_type": "code",
   "execution_count": 12,
   "metadata": {},
   "outputs": [
    {
     "data": {
      "text/plain": [
       "\n",
       "[\n",
       " [ 11,  12,  13],\n",
       "\n",
       " [ 21,  22,  23],\n",
       "\n",
       " [ 31,  32,  33]]\n"
      ]
     },
     "execution_count": 12,
     "metadata": {},
     "output_type": "execute_result"
    }
   ],
   "source": [
    "Ada.Text_IO.Put_Line (X_3x3'Image);"
   ]
  },
  {
   "cell_type": "markdown",
   "metadata": {},
   "source": [
    "### Дельта агрегаты\n",
    "\n",
    "Для агрегатов записей тоже есть улучшения. Если вам нужно изменить лишь некоторые компоненты записи, может пригодится *дельта агрегат*. В нем нужно указать базовое значение и те компоненты для которых вы хотите изменить значение. Это удобно, когда общее количество компонент записи сравнительно велико, ведь вам не нужно перечеслять из все:"
   ]
  },
  {
   "cell_type": "code",
   "execution_count": 13,
   "metadata": {},
   "outputs": [],
   "source": [
    "type Vector_3D is record\n",
    "   X, Y, Z : Natural;\n",
    "end record;\n",
    "\n",
    "Base_Value : constant Vector_3D := (1, 2, 3);\n",
    "\n",
    "Projection : constant Vector_3D := (Base_Value with delta Z => 0);"
   ]
  },
  {
   "cell_type": "markdown",
   "metadata": {},
   "source": [
    "Проэкция вычисляется по базовому значению. Координата Z устанавливается равной нулю. Напечатаем его:"
   ]
  },
  {
   "cell_type": "code",
   "execution_count": 14,
   "metadata": {},
   "outputs": [
    {
     "data": {
      "text/plain": [
       "\n",
       "(X =>  1,\n",
       " Y =>  2,\n",
       " Z =>  0)\n"
      ]
     },
     "execution_count": 14,
     "metadata": {},
     "output_type": "execute_result"
    }
   ],
   "source": [
    "Ada.Text_IO.Put_Line (Projection'Image);"
   ]
  },
  {
   "cell_type": "markdown",
   "metadata": {},
   "source": [
    "### Агрегаты контейнеров\n",
    "\n",
    "Теперь эта возможность реализована в компиляторе.\n",
    "Допустим у нас есть тип-контейнер, \"конструктор\" пустого когтейнера и операция добавления элемента.\n",
    "С помощью нового апекта `Aggregate` мы можем включить агрегаты, как у массивов."
   ]
  },
  {
   "cell_type": "code",
   "execution_count": 15,
   "metadata": {},
   "outputs": [],
   "source": [
    "package Stacks is\n",
    "   type Stack is private\n",
    "     with Aggregate => (Empty => Empty_Stack, Add_Unnamed => Push);\n",
    "\n",
    "   function Empty_Stack return Stack;\n",
    "\n",
    "   procedure Push (Self : in out Stack; Value : Integer);\n",
    "private\n",
    "   type Integer_Array is array (Positive range <>) of Integer;\n",
    "   type Stack is record\n",
    "      Last : Natural := 0;\n",
    "      Data : Integer_Array (1 .. 10);\n",
    "   end record;\n",
    "end Stacks;\n",
    "                                \n",
    "package body Stacks is\n",
    "\n",
    "   function Empty_Stack return Stack is (Last => 0, Data => (others => <>));\n",
    "\n",
    "   procedure Push (Self : in out Stack; Value : Integer) is\n",
    "   begin\n",
    "      Self.Last := Self.Last + 1;\n",
    "      Self.Data (Self.Last) := Value;\n",
    "   end Push;\n",
    "\n",
    "end Stacks;"
   ]
  },
  {
   "cell_type": "markdown",
   "metadata": {},
   "source": [
    "Следующая запись создаст стек и положит туда три элемента:"
   ]
  },
  {
   "cell_type": "code",
   "execution_count": 16,
   "metadata": {},
   "outputs": [],
   "source": [
    "S : Stacks.Stack := [1, 2, 3];"
   ]
  },
  {
   "cell_type": "markdown",
   "metadata": {},
   "source": [
    "Есть вариант и для контейнеров с ключами."
   ]
  },
  {
   "cell_type": "code",
   "execution_count": 17,
   "metadata": {},
   "outputs": [],
   "source": [
    "with Ada.Containers.Ordered_Maps;"
   ]
  },
  {
   "cell_type": "code",
   "execution_count": 18,
   "metadata": {},
   "outputs": [],
   "source": [
    "package Float_Maps is new Ada.Containers.Ordered_Maps\n",
    "  (Integer, Float);\n",
    "\n",
    "Y : Float_Maps.Map := [-10 => 1.0, 0 => 2.5, 10 => 5.51];"
   ]
  },
  {
   "cell_type": "markdown",
   "metadata": {},
   "source": [
    "Вот какой получится результат:"
   ]
  },
  {
   "cell_type": "code",
   "execution_count": 19,
   "metadata": {},
   "outputs": [
    {
     "data": {
      "text/plain": [
       "\n",
       "[-10 =>  1.00000E+00,  0 =>  2.50000E+00,  10 =>  5.51000E+00]\n"
      ]
     },
     "execution_count": 19,
     "metadata": {},
     "output_type": "execute_result"
    }
   ],
   "source": [
    "Ada.Text_IO.Put_Line (Y'Image);"
   ]
  },
  {
   "cell_type": "markdown",
   "metadata": {},
   "source": [
    "### Поддержка Map-Reduce\n",
    "\n",
    "Техника программирования Map-Reduce [широко известна](https://ru.wikipedia.org/wiki/MapReduce).\n",
    "В место того, чтобы писать подпрограммы и циклы, предлагается другой механизм при котором входные и промежуточные значения существуют в виде потока значений. Часто это позволяет ускорить обработку. В новом стандарте вводится новый атрибут `'Reduce`:\n",
    "\n",
    "```ada\n",
    "V'Reduce(Reducer, Initial_Value[, Combiner]) \n",
    "```\n",
    "\n",
    "Где в качестве V может выступать одно из\n",
    "\n",
    "* массив\n",
    "* контейнер\n",
    "* специальная конструкция _value_sequence_, синтаксис которой сходен с агрегатом контейнеров\n",
    "\n",
    "```\n",
    "value_sequence ::=\n",
    "  '[' [parallel[(chunk_specification)]] iterated_component_association ']'\n",
    "```\n",
    "\n",
    "В итоге программа переберет все элементы V и начальное значение Initial_Value выполнит над ними подпрограмму Reducer, которая может быть функцией или процедурой:\n",
    "\n",
    "```ada\n",
    "function Reducer\n",
    "  (Accumulator : Accum_Type;\n",
    "   Value      : Value_Type) return Accum_Type;\n",
    "\n",
    "procedure Reducer\n",
    "  (Accumulator : in out Accum_Type;\n",
    "   Value       : in Value_Type);\n",
    "```\n",
    "\n",
    "Вот пример вычисления суммы элементов массива"
   ]
  },
  {
   "cell_type": "code",
   "execution_count": 20,
   "metadata": {},
   "outputs": [],
   "source": [
    "Arr : array (1 .. 3) of Integer := (1, 2, 3);\n",
    "X : Integer := Arr'Reduce (\"+\", 0);"
   ]
  },
  {
   "cell_type": "code",
   "execution_count": 21,
   "metadata": {},
   "outputs": [
    {
     "data": {
      "text/plain": [
       " 6\n"
      ]
     },
     "execution_count": 21,
     "metadata": {},
     "output_type": "execute_result"
    }
   ],
   "source": [
    "Ada.Text_IO.Put_Line (X'Image);"
   ]
  },
  {
   "cell_type": "markdown",
   "metadata": {},
   "source": [
    "### Плюха @\n",
    "\n",
    "Вводится сокращение в операторах присваивания для обозначение левой части. Это сделано чтобы избежать дублирование кода и связанных с этим ошибок, когда левая часть очень длинная. В любом месте выражения справа от `:=` можно написать `@`. Вот илюстрация (довольно бессмысленная):"
   ]
  },
  {
   "cell_type": "code",
   "execution_count": 22,
   "metadata": {},
   "outputs": [
    {
     "data": {
      "text/plain": [
       ">      !   <\n"
      ]
     },
     "execution_count": 22,
     "metadata": {},
     "output_type": "execute_result"
    }
   ],
   "source": [
    "declare \n",
    "    Text : String (1 .. 10) := (others => ' ');\n",
    "    J    : Positive := 2;\n",
    "    K    : Positive := 1;\n",
    "begin\n",
    "    Text (10 - 2 * J + K / 3 + (K + J) / 2) := Character'Succ (@);\n",
    "    --  Here '@' replaces \"Text (10 - 2 * J + K / 3 + (K + J) / 2)\"\n",
    "    Ada.Text_IO.Put_Line (\">\" & Text & \"<\");\n",
    "end;"
   ]
  },
  {
   "cell_type": "markdown",
   "metadata": {},
   "source": [
    "### Фильтры для итераторов\n",
    "Во всех конструкциях, где используются итераторы, теперь можно добавлять фильтр — условия при срабатывании которого элементы участвуют в итерации, а остальные пропускаются."
   ]
  },
  {
   "cell_type": "code",
   "execution_count": 23,
   "metadata": {},
   "outputs": [
    {
     "data": {
      "text/plain": [
       " 2\n",
       " 4\n",
       " 6\n",
       " 8\n",
       " 10\n"
      ]
     },
     "execution_count": 23,
     "metadata": {},
     "output_type": "execute_result"
    }
   ],
   "source": [
    "for J in 1 .. 10 when J mod 2 = 0 loop\n",
    "   Ada.Text_IO.Put_Line (J'Img);\n",
    "end loop;"
   ]
  },
  {
   "cell_type": "markdown",
   "metadata": {},
   "source": [
    "### Упрощенное переименование\n",
    "При переименовании объекта можно опустить тип, если он известен из контекста."
   ]
  },
  {
   "cell_type": "code",
   "execution_count": 24,
   "metadata": {},
   "outputs": [
    {
     "data": {
      "text/plain": [
       "Text\n"
      ]
     },
     "execution_count": 24,
     "metadata": {},
     "output_type": "execute_result"
    }
   ],
   "source": [
    "declare\n",
    "   Text : String := \"Text\";\n",
    "   T renames Text;\n",
    "begin\n",
    "   Ada.Text_IO.Put_Line (T);\n",
    "end;"
   ]
  },
  {
   "cell_type": "markdown",
   "metadata": {},
   "source": [
    "### Выражения‐определения\n",
    "Для удобства записи контрактов вводится новый вид выражений"
   ]
  },
  {
   "cell_type": "code",
   "execution_count": 25,
   "metadata": {},
   "outputs": [
    {
     "data": {
      "text/plain": [
       " 28\n"
      ]
     },
     "execution_count": 25,
     "metadata": {},
     "output_type": "execute_result"
    }
   ],
   "source": [
    "declare\n",
    "   Result : constant Integer :=\n",
    "    (declare\n",
    "       X : constant Integer := 2;\n",
    "       Y : constant Integer := 4;\n",
    "     begin X**2 + X * Y + Y**2);\n",
    "begin\n",
    "   Ada.Text_IO.Put_Line (Result'Image);\n",
    "end;"
   ]
  },
  {
   "cell_type": "markdown",
   "metadata": {},
   "source": [
    "### Статические функции\n",
    "Теперь функцию-выражение можно пометить, как Static и использовать в котексте, где компилятор ожидает статическое выражение."
   ]
  },
  {
   "cell_type": "code",
   "execution_count": 26,
   "metadata": {},
   "outputs": [],
   "source": [
    "function Half_Size (S : Integer) return Integer is (S / 2) with Static;\n",
    "\n",
    "type Int is range 1 .. Half_Size (10);"
   ]
  },
  {
   "cell_type": "markdown",
   "metadata": {},
   "source": [
    "### Доступ к значениям спецификации представления"
   ]
  },
  {
   "cell_type": "markdown",
   "metadata": {},
   "source": [
    "В Аде литералам перечислимых типов можно назначать произвольное представление:"
   ]
  },
  {
   "cell_type": "code",
   "execution_count": 27,
   "metadata": {},
   "outputs": [],
   "source": [
    "type My_Boolean is new Boolean;\n",
    "for My_Boolean use (False => 3, True => 6);"
   ]
  },
  {
   "cell_type": "markdown",
   "metadata": {},
   "source": [
    "В новом стандарте можно легко получить эти значения с помощью нового атрибута `'Enum_Rep`.\n",
    "Атрибут `'Enum_Val` работает в обратном направлении."
   ]
  },
  {
   "cell_type": "code",
   "execution_count": 28,
   "metadata": {},
   "outputs": [
    {
     "data": {
      "text/plain": [
       "Enum_Rep(False) = 3\n",
       "Enum_Val (3) = FALSE\n"
      ]
     },
     "execution_count": 28,
     "metadata": {},
     "output_type": "execute_result"
    }
   ],
   "source": [
    "Ada.Text_IO.Put (\"Enum_Rep(False) =\");\n",
    "Ada.Text_IO.Put_Line (Integer'Image (My_Boolean'Enum_Rep (False)));\n",
    "Ada.Text_IO.Put (\"Enum_Val (3) = \");\n",
    "Ada.Text_IO.Put_Line (My_Boolean'Enum_Val (3)'Image);"
   ]
  },
  {
   "cell_type": "markdown",
   "metadata": {},
   "source": [
    "## Библиотека времени исполнения\n",
    "### Арифметика с произвольной точностью\n",
    "\n",
    "Два новых пакет Big_Integer и Big_Reals позволяют производить вычисления с произвольной точностью."
   ]
  },
  {
   "cell_type": "code",
   "execution_count": 29,
   "metadata": {},
   "outputs": [],
   "source": [
    "with Ada.Numerics.Big_Numbers.Big_Integers;\n",
    "use Ada.Numerics.Big_Numbers.Big_Integers;"
   ]
  },
  {
   "cell_type": "markdown",
   "metadata": {},
   "source": [
    "Например, посчитаем 2²²²"
   ]
  },
  {
   "cell_type": "code",
   "execution_count": 30,
   "metadata": {},
   "outputs": [
    {
     "data": {
      "text/plain": [
       " 6739986666787659948666753771754907668409286105635143120275902562304\n"
      ]
     },
     "execution_count": 30,
     "metadata": {},
     "output_type": "execute_result"
    }
   ],
   "source": [
    "Ada.Text_IO.Put_Line (Big_Integer'Image(2 ** 222));"
   ]
  },
  {
   "cell_type": "markdown",
   "metadata": {},
   "source": [
    "### Атомарные операции\n",
    "\n",
    "Для программирования различных нискоуровневых параллельных операций могут пригодиться\n",
    "такие атомарные операции, как \"сравнить и установить\" (Test_And_Set) или \"сравнить и заменить\" (Compare_And_Exchange). Появился стандартный способ их использовать"
   ]
  },
  {
   "cell_type": "code",
   "execution_count": 31,
   "metadata": {},
   "outputs": [],
   "source": [
    "with System.Atomic_Operations.Integer_Arithmetic;\n",
    "with System.Atomic_Operations.Modular_Arithmetic;\n",
    "with System.Atomic_Operations.Exchange;\n",
    "with System.Atomic_Operations.Test_And_Set;"
   ]
  },
  {
   "cell_type": "markdown",
   "metadata": {},
   "source": [
    "Первые три пакета - настраиваемые, а последний предоставляет свой атомарный тип. С помощью Integer_Arithmetic и Modular_Arithmetic можно легко организовать атомарный счётчик ссылок."
   ]
  },
  {
   "cell_type": "markdown",
   "metadata": {},
   "source": [
    "## Исправления и прочее\n",
    "\n",
    "### Импорт С-функций с переменным числом аргументов\n",
    "\n",
    "Добавили совые соглашения о передаче параметров `Convention => C_Variadic_*`. Просто `C` использовать нельзя из-за \n",
    "[несовместимости ABI](https://stackoverflow.com/questions/35819037/variadic-function-in-ada-c-ada-binding/55305307#55305307):"
   ]
  },
  {
   "cell_type": "code",
   "execution_count": 32,
   "metadata": {},
   "outputs": [],
   "source": [
    "with Interfaces.C;"
   ]
  },
  {
   "cell_type": "code",
   "execution_count": 33,
   "metadata": {},
   "outputs": [],
   "source": [
    "procedure Printf (Format : in Interfaces.C.char_array; V : Interfaces.C.int)\n",
    "  with Import => True, Convention => C_Variadic_2, External_Name => \"printf\";"
   ]
  },
  {
   "cell_type": "code",
   "execution_count": 34,
   "metadata": {},
   "outputs": [
    {
     "data": {
      "text/plain": [
       "X=12"
      ]
     },
     "execution_count": 34,
     "metadata": {},
     "output_type": "execute_result"
    }
   ],
   "source": [
    "Printf (Interfaces.C.To_C(\"X=%d\"), 12);"
   ]
  },
  {
   "cell_type": "markdown",
   "metadata": {},
   "source": [
    "## Что после Ады 2022?\n",
    "\n",
    "В GNAT Community 2021 добавили несколько эксперементальных возможностей, которые не вошли в грядущий стандарт Ада 2022. Таким образом появляется возможность заранее попробовать их на практике.\n",
    "\n",
    "Эти возможности доступны только, если используется ключ `-gnatX`."
   ]
  },
  {
   "cell_type": "code",
   "execution_count": 35,
   "metadata": {},
   "outputs": [
    {
     "data": {
      "text/plain": [
       "Now -cargs options are: -gnatX"
      ]
     },
     "execution_count": 35,
     "metadata": {},
     "output_type": "execute_result"
    }
   ],
   "source": [
    "%cargs -gnatX"
   ]
  },
  {
   "cell_type": "markdown",
   "metadata": {},
   "source": [
    "### Дополнительный when\n",
    "\n",
    "Такие операторы, как `return`, `raise`, `goto` расширены дополнительным условием:"
   ]
  },
  {
   "cell_type": "code",
   "execution_count": 36,
   "metadata": {},
   "outputs": [],
   "source": [
    "procedure Check_Extra_When1 (X : Integer) is\n",
    "begin\n",
    "   goto End_Of_Call when X = 0;\n",
    "\n",
    "   return when X > 0;\n",
    "\n",
    "   raise Program_Error when X < 0;\n",
    "\n",
    "   <<End_Of_Call>>\n",
    "end;"
   ]
  },
  {
   "cell_type": "markdown",
   "metadata": {},
   "source": [
    "### Сопоставление с шаблоном\n",
    "\n",
    "В начальной реализация сопостовния с шаблоном реализовали для составных (не приватных) типов.\n",
    "Шаблон значения записывается как агрегат, но в отличии от агрегата, вместо значений дискретных подтипов могут стоять наименования подтипов.\n",
    "Коробочка (`<>`) обозначает произвольное значение дискретного типа.\n",
    "\n",
    "```ada\n",
    "type Rec is record\n",
    "   F1, F2 : Integer;\n",
    "end record;\n",
    "    \n",
    "X : Rec := (1, 2);\n",
    "case X is\n",
    "   when (F1 => Positive, F2 => Positive) =>\n",
    "      Ada.Text_IO.Put_Line (\"case 1\");\n",
    "   when (F1 => Natural, F2 => <>) | (F1 => <>, F2 => Natural) =>\n",
    "      Ada.Text_IO.Put_Line (\"case 2\");\n",
    "   when others =>\n",
    "      Ada.Text_IO.Put_Line (\"case 3\");\n",
    "end case;\n",
    "```\n",
    "\n",
    "Также реализована \"разборка\" составного значения на компоненты. Вот пример синтаксиса\n",
    "```ada\n",
    "case X is\n",
    "   when (F1 => Positive is Abc, F2 => Positive) =>\n",
    "      Ada.Text_IO.Put_Line (\"case 1\" & Abc'Image);\n",
    "   when (F1 => Natural is N1, F2 => <N2>) |\n",
    "           (F1 => <N2>, F2 => Natural is N1) =>\n",
    "      Ada.Text_IO.Put_Line (\"case 2\" & N1'Image & N2'Image);\n",
    "   when others =>\n",
    "      Ada.Text_IO.Put_Line (\"case 3\");\n",
    "end case;\n",
    "```\n",
    "\n",
    "### Фиксированная нижняя граница массива\n",
    "\n",
    "В Аде индексируемые типы (массивы) могут быть объявлены либо с указанием границ, либо без.\n",
    "Это расширение позволяет задать нижнюю границу, а верхнюю оставить не указанной.\n",
    "В ряди случаев это позволяет получить более простой код, ведь нижняя граница заранее известна.\n",
    "Также это позволяет компилятору выполнить некоторые дополнительные оптимизации."
   ]
  },
  {
   "cell_type": "code",
   "execution_count": 37,
   "metadata": {},
   "outputs": [],
   "source": [
    "type Vector is array (Positive range 1 .. <>) of Integer;\n",
    "type Matrix is array (Natural range 0 .. <>, Natural range 0 .. <>) of Integer;"
   ]
  },
  {
   "cell_type": "markdown",
   "metadata": {},
   "source": [
    "### Вызов подпрограмм через точку для нетеговых типов\n",
    "\n",
    "Теперь можно пользоваться синтаксисом Object.Method не только для теговых типов, но и для остальных."
   ]
  },
  {
   "cell_type": "markdown",
   "metadata": {},
   "source": [
    "Ada.Text_IO.Current_Output.Put_Line (\"Hello!\");"
   ]
  },
  {
   "cell_type": "markdown",
   "metadata": {},
   "source": [
    "## Заключение\n",
    "\n",
    "Скорее всего данная версия компилятора будет последней в цепочке релизов GNAT Community.\n",
    "В дальнейшем компилятор собранный из открытых исходных текстов GCC можно будет установить с помощью пакетного менеджера [alire](alire.ada.dev/).\n",
    "\n",
    "* [Телеграм чат](https://t.me/ada_ru_chat)\n",
    "* [Сайт ada_ru](https://www.ada-ru.org)\n",
    "* [Форум ada_ru](https://www.ada-ru.org/forum)"
   ]
  }
 ],
 "metadata": {
  "kernelspec": {
   "display_name": "Ada",
   "language": "ada",
   "name": "ada"
  },
  "language_info": {
   "codemirror_mode": "ada",
   "file_extension": ".adb",
   "mimetype": "text/x-ada",
   "name": "Ada",
   "pygments_lexer": "ada",
   "version": "2012"
  }
 },
 "nbformat": 4,
 "nbformat_minor": 4
}
