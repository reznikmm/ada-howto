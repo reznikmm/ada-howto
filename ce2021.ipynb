{
 "cells": [
  {
   "cell_type": "markdown",
   "metadata": {},
   "source": [
    "# Поддержка грядущего стандарта Ада 202х в GNAT Community Edition 2020\n",
    "\n",
    "Запустить: [![Binder](https://mybinder.org/badge_logo.svg)](https://mybinder.org/v2/gh/reznikmm/ada-howto/ce-2021?filepath=%2Fhome%2Fjovyan%2Fce2021.ipynb \"Run me!\")\n",
    "\n",
    "В мае 2020г. вышла новая редакция компилятора Ada -\n",
    "[GNAT Community Edition 2020](https://blog.adacore.com/gnat-community-2020-is-here\n",
    "  \"GNAT Community 2020 is here!\").\n",
    "В ней, среди прочих изменений и улучшений, реализована значительная часть новых\n",
    "возможностей\n",
    "[грядущего стандарта Ады](http://www.ada-auth.org/standards/ada2x.html\n",
    "\"Ada 202x Language Reference Manual\")\n",
    "носящего условное название Ada 202x.\n",
    "\n",
    "Давайте познакомимся с ними поближе. Благодаря\n",
    "[Jupyter Ada Kernel](https://github.com/reznikmm/jupyter)\n",
    "поэкспериментировать с примерами использования этих возможностей можно прямо\n",
    "в браузере. Для этого откройте данный \"блокнот\" просто перейдя по ссылке на \n",
    "[mybinder](https://mybinder.org/v2/gh/reznikmm/ada-howto/ce-2021?filepath=%2Fhome%2Fjovyan%2Fce2021.ipynb\n",
    "  \"Run me!\").\n",
    "(Предупреждение: загрузка блокнота может занять некоторое время необходимое для\n",
    "сборки и запуска контейнера).\n",
    "\n",
    "Если Вы ранее не работали с блокнотами Jupyter - не пугайтесь, это не сложно.\n",
    "Основная идея в том, что Вы может выполнять ячейки с кодом. Для этого на ячейке\n",
    "нажмите `Ctrl+Enter` либо воспользуйтесь меню или иконками. В Jupyter Ada Kernel\n",
    "ячейка может содержать\n",
    "[спецификатор контекста](http://www.ada-auth.org/standards/rm12_w_tc1/html/RM-10-1-2.html#S0253\n",
    "  \"context clauses\"),\n",
    "[оператор](http://www.ada-auth.org/standards/rm12_w_tc1/html/RM-5-1.html#S0146\n",
    "  \"statements\") или\n",
    "[определение](http://www.ada-auth.org/standards/rm12_w_tc1/html/RM-3-11.html#S0087\n",
    "  \"declarative items\"),\n",
    "либо несколько таких элементов, но одного типа. Если ячуйка собержит тело \n",
    "подпрограммы или пакета, то спецификация должна быть в той же ячейке.\n",
    "Некоторые ячейки зависят от преыдущих, пожтому лучше выполнять ячейки по порядку.\n",
    "\n",
    "## Содержание\n",
    " * [Активация Ada 202x](#%D0%90%D0%BA%D1%82%D0%B8%D0%B2%D0%B0%D1%86%D0%B8%D1%8F-Ada-202x)\n",
    " * [Больше выразительности и удобства](#%D0%91%D0%BE%D0%BB%D1%8C%D1%88%D0%B5-%D0%B2%D1%8B%D1%80%D0%B0%D0%B7%D0%B8%D1%82%D0%B5%D0%BB%D1%8C%D0%BD%D0%BE%D1%81%D1%82%D0%B8-%D0%B8-%D1%83%D0%B4%D0%BE%D0%B1%D1%81%D1%82%D0%B2%D0%B0)\n",
    "   * [Атрибут 'Image для всех типов](#%D0%90%D1%82%D1%80%D0%B8%D0%B1%D1%83%D1%82-'Image-%D0%B4%D0%BB%D1%8F-%D0%B2%D1%81%D0%B5%D1%85-%D1%82%D0%B8%D0%BF%D0%BE%D0%B2)\n",
    "   * [Переопределение атрибута 'Image](#%D0%9F%D0%B5%D1%80%D0%B5%D0%BE%D0%BF%D1%80%D0%B5%D0%B4%D0%B5%D0%BB%D0%B5%D0%BD%D0%B8%D0%B5-%D0%B0%D1%82%D1%80%D0%B8%D0%B1%D1%83%D1%82%D0%B0-'Image)\n",
    "   * [Числовые и строковые литералы для пользовательских типов](#%D0%A7%D0%B8%D1%81%D0%BB%D0%BE%D0%B2%D1%8B%D0%B5-%D0%B8-%D1%81%D1%82%D1%80%D0%BE%D0%BA%D0%BE%D0%B2%D1%8B%D0%B5-%D0%BB%D0%B8%D1%82%D0%B5%D1%80%D0%B0%D0%BB%D1%8B-%D0%B4%D0%BB%D1%8F-%D0%BF%D0%BE%D0%BB%D1%8C%D0%B7%D0%BE%D0%B2%D0%B0%D1%82%D0%B5%D0%BB%D1%8C%D1%81%D0%BA%D0%B8%D1%85-%D1%82%D0%B8%D0%BF%D0%BE%D0%B2)\n",
    "   * [Итеративные ассоциации в агрегатах массивов](#%D0%98%D1%82%D0%B5%D1%80%D0%B0%D1%82%D0%B8%D0%B2%D0%BD%D1%8B%D0%B5-%D0%B0%D1%81%D1%81%D0%BE%D1%86%D0%B8%D0%B0%D1%86%D0%B8%D0%B8-%D0%B2-%D0%B0%D0%B3%D1%80%D0%B5%D0%B3%D0%B0%D1%82%D0%B0%D1%85-%D0%BC%D0%B0%D1%81%D1%81%D0%B8%D0%B2%D0%BE%D0%B2)\n",
    "   * [Дельта агрегаты](#%D0%94%D0%B5%D0%BB%D1%8C%D1%82%D0%B0-%D0%B0%D0%B3%D1%80%D0%B5%D0%B3%D0%B0%D1%82%D1%8B)\n",
    "   * [Плюха @](#%D0%9F%D0%BB%D1%8E%D1%85%D0%B0-@)\n",
    " * [Исправления](#%D0%98%D1%81%D0%BF%D1%80%D0%B0%D0%B2%D0%BB%D0%B5%D0%BD%D0%B8%D1%8F-%D0%B8-%D0%BF%D1%80%D0%BE%D1%87%D0%B5%D0%B5)\n",
    "   * [Импорт С-функций с переменным числом аргументов](#%D0%98%D0%BC%D0%BF%D0%BE%D1%80%D1%82-%D0%A1-%D1%84%D1%83%D0%BD%D0%BA%D1%86%D0%B8%D0%B9-%D1%81-%D0%BF%D0%B5%D1%80%D0%B5%D0%BC%D0%B5%D0%BD%D0%BD%D1%8B%D0%BC-%D1%87%D0%B8%D1%81%D0%BB%D0%BE%D0%BC-%D0%B0%D1%80%D0%B3%D1%83%D0%BC%D0%B5%D0%BD%D1%82%D0%BE%D0%B2)\n",
    "\n",
    "\n",
    "## Активация Ada 202x\n",
    "\n",
    "Первое, что нужно сделать, это указать компилятору, что Вы используете новый стандарт.\n",
    "Обычно это делается при помощи ключа компилятора `-gnat2022`.\n",
    "Указать его можно в коммандной строке, а лучше в проектном файле.\n",
    "Но в этом блокноте мы будем пользоваться директивой компилятора `pragma Ada_2022;`.\n",
    "Следующая ячейка должна выполнятся первой, иначе последующие ячейки работать не будут!\n",
    "(Также нам пригодится пакет `Ada.Text_IO;`.)\n",
    "\n"
   ]
  },
  {
   "cell_type": "code",
   "execution_count": 1,
   "metadata": {},
   "outputs": [],
   "source": [
    "pragma Ada_2022;\n",
    "with Ada.Text_IO;"
   ]
  },
  {
   "cell_type": "markdown",
   "metadata": {},
   "source": [
    "## Больше выразительности и удобства\n",
    "\n",
    "Авторы стандарта стараются сделать язык более выразительным и удобным. К нововведениям этой группы можно отнести литералы пользовательских типов, агрегаты контейнеров, новые виды агрегатов массивов и записей и прочее. Давайте начнем с атрибута `'Image`.\n",
    "\n",
    "### Атрибут `'Image` для всех типов\n",
    "\n",
    "В новом стандарте атрибут `'Image` работает для всех типов, а не только для скалярных, как было раньше. (Если Вы пропустили \n",
    "\"[технические правки 2016](http://www.ada-auth.org/standards/rm12_w_tc1/html/RM-3-5.html#I1681)\"\n",
    "стандарте Ada 2012, то знайте, теперь префиксом атрибута может выступать не только тип,\n",
    "но и значение. Запись `My_Type'Image (Value)` можно сократить до `Value'Image`)."
   ]
  },
  {
   "cell_type": "code",
   "execution_count": 2,
   "metadata": {},
   "outputs": [],
   "source": [
    "Integer_Array : array (1 .. 3) of Integer := (1, 2, 3);"
   ]
  },
  {
   "cell_type": "code",
   "execution_count": 3,
   "metadata": {},
   "outputs": [
    {
     "data": {
      "text/plain": [
       "\n",
       "[ 1,  2,  3]\n"
      ]
     },
     "execution_count": 3,
     "metadata": {},
     "output_type": "execute_result"
    }
   ],
   "source": [
    "Ada.Text_IO.Put_Line (Integer_Array'Image);"
   ]
  },
  {
   "cell_type": "markdown",
   "metadata": {},
   "source": [
    "### Переопределение атрибута `'Image`\n",
    "\n",
    "Также можно задать подпрограмму для отображения значений своего типа.\n",
    "Причём авторы компилятора пошли другим путём, чем написано в стандарте.\n",
    "(Видимо черновик стандарта будет обновлятся, если ARG приймет новый вариант этой функциональности).\n",
    "Вариант от AdaCore для меня выглядит странно, да и то, что прописали в черновик - не идеал.\n",
    "\n",
    "Основная идея в том, чтобы определить аспект `Put_Image` для вашего типа используя костыли из предопределённого пакета:"
   ]
  },
  {
   "cell_type": "code",
   "execution_count": 4,
   "metadata": {},
   "outputs": [],
   "source": [
    "with Ada.Strings.Text_Output.Utils;"
   ]
  },
  {
   "cell_type": "code",
   "execution_count": 5,
   "metadata": {},
   "outputs": [],
   "source": [
    "package Source_Locations is\n",
    "   type Source_Location is record\n",
    "      Line   : Positive;\n",
    "      Column : Positive;\n",
    "   end record\n",
    "     with Put_Image => My_Put_Image;\n",
    "\n",
    "   procedure My_Put_Image\n",
    "     (Sink  : in out Ada.Strings.Text_Output.Sink'Class;\n",
    "      Value : Source_Location);\n",
    "end Source_Locations;\n",
    "\n",
    "package body Source_Locations is\n",
    "\n",
    "   procedure My_Put_Image\n",
    "     (Sink  : in out Ada.Strings.Text_Output.Sink'Class;\n",
    "      Value : Source_Location)\n",
    "   is\n",
    "      Line   : constant String := Value.Line'Image;\n",
    "      Column : constant String := Value.Column'Image;\n",
    "      Result : constant String :=\n",
    "        Line (2 .. Line'Last) & ':' & Column (2 .. Column'Last);\n",
    "   begin\n",
    "       Ada.Strings.Text_Output.Utils.Put_UTF_8 (Sink, Result);\n",
    "   end My_Put_Image;\n",
    "\n",
    "end Source_Locations;"
   ]
  },
  {
   "cell_type": "markdown",
   "metadata": {},
   "source": [
    "Создадим теперь объект нашего типа:"
   ]
  },
  {
   "cell_type": "code",
   "execution_count": 6,
   "metadata": {},
   "outputs": [],
   "source": [
    "Line_10 : Source_Locations.Source_Location := (Line => 10, Column => 1);"
   ]
  },
  {
   "cell_type": "markdown",
   "metadata": {},
   "source": [
    "И напечатаем его:"
   ]
  },
  {
   "cell_type": "code",
   "execution_count": 7,
   "metadata": {},
   "outputs": [
    {
     "data": {
      "text/plain": [
       "Text position: 10:1\n"
      ]
     },
     "execution_count": 7,
     "metadata": {},
     "output_type": "execute_result"
    }
   ],
   "source": [
    "Ada.Text_IO.Put_Line (\"Text position: \" & Line_10'Image);"
   ]
  },
  {
   "cell_type": "markdown",
   "metadata": {},
   "source": [
    "### Числовые и строковые литералы для пользовательских типов \n",
    "    \n",
    "Появилась возможность использовать литералы языка для своих типов.\n",
    "Это позволяет избежать явного вызова функции преобразования.\n",
    "\n",
    "Это удобно, когда вводишь свои строчные и числовые типы. Давайте, для примера, создадим\n",
    "свой строчный тип на основе `Unbounded_String`. Нам понадобятся следующие пакеты:"
   ]
  },
  {
   "cell_type": "code",
   "execution_count": 8,
   "metadata": {},
   "outputs": [],
   "source": [
    "with Ada.Strings.Unbounded;\n",
    "with Ada.Strings.UTF_Encoding.Wide_Wide_Strings;"
   ]
  },
  {
   "cell_type": "markdown",
   "metadata": {},
   "source": [
    "Теперь определим сам тип и аспект `String_Literal` для него:"
   ]
  },
  {
   "cell_type": "code",
   "execution_count": 9,
   "metadata": {},
   "outputs": [],
   "source": [
    "type My_String is new Ada.Strings.Unbounded.Unbounded_String\n",
    "  with String_Literal => From_String;\n",
    "\n",
    "function From_String (Text : Wide_Wide_String) return My_String is\n",
    " (To_Unbounded_String\n",
    "   (Ada.Strings.UTF_Encoding.Wide_Wide_Strings.Encode\n",
    "     (Text)));\n",
    "\n",
    "Five : My_String := \"5\";\n"
   ]
  },
  {
   "cell_type": "code",
   "execution_count": 10,
   "metadata": {},
   "outputs": [
    {
     "data": {
      "text/plain": [
       "5\n"
      ]
     },
     "execution_count": 10,
     "metadata": {},
     "output_type": "execute_result"
    }
   ],
   "source": [
    "Ada.Text_IO.Put_Line (To_String (Five));"
   ]
  },
  {
   "cell_type": "markdown",
   "metadata": {},
   "source": [
    "### Итеративные ассоциации в агрегатах массивов\n",
    "\n",
    "Иногда требуется конструировать такие значения массивов, что элементы заданы, как функция от индекса. Здесь пригодятся агрегаты в новой форме. Ассоциации этих агрегатов нацинаются со слова `for`:"
   ]
  },
  {
   "cell_type": "code",
   "execution_count": 11,
   "metadata": {},
   "outputs": [],
   "source": [
    "type Integer_Matrix is array (1 .. 3, 1 .. 3) of Integer;\n",
    "\n",
    "X_3x3 : Integer_Matrix :=\n",
    " (for K in 1 .. 3 =>\n",
    "   (for J in 1 .. 3 => (K * 10 + J)));"
   ]
  },
  {
   "cell_type": "code",
   "execution_count": 12,
   "metadata": {},
   "outputs": [
    {
     "data": {
      "text/plain": [
       "\n",
       "[\n",
       " [ 11,  12,  13],\n",
       "\n",
       " [ 21,  22,  23],\n",
       "\n",
       " [ 31,  32,  33]]\n"
      ]
     },
     "execution_count": 12,
     "metadata": {},
     "output_type": "execute_result"
    }
   ],
   "source": [
    "Ada.Text_IO.Put_Line (X_3x3'Image);"
   ]
  },
  {
   "cell_type": "markdown",
   "metadata": {},
   "source": [
    "### Дельта агрегаты\n",
    "\n",
    "Для агрегатов записей тоже есть улучшения. Если вам нужно изменить лишь некоторые компоненты записи, может пригодится *дельта агрегат*. В нем нужно указать базовое значение и те компоненты для которых вы хотите изменить значение. Это удобно, когда общее количество компонент записи сравнительно велико, ведь вам не нужно перечеслять из все:"
   ]
  },
  {
   "cell_type": "code",
   "execution_count": 13,
   "metadata": {},
   "outputs": [],
   "source": [
    "type Vector_3D is record\n",
    "   X, Y, Z : Natural;\n",
    "end record;\n",
    "\n",
    "Base_Value : constant Vector_3D := (1, 2, 3);\n",
    "\n",
    "Projection : constant Vector_3D := (Base_Value with delta Z => 0);"
   ]
  },
  {
   "cell_type": "markdown",
   "metadata": {},
   "source": [
    "Проэкция вычисляется по базовому значению. Координата Z устанавливается равной нулю. Напечатаем его:"
   ]
  },
  {
   "cell_type": "code",
   "execution_count": 14,
   "metadata": {},
   "outputs": [
    {
     "data": {
      "text/plain": [
       "\n",
       "(x =>  1,\n",
       " y =>  2,\n",
       " z =>  0)\n"
      ]
     },
     "execution_count": 14,
     "metadata": {},
     "output_type": "execute_result"
    }
   ],
   "source": [
    "Ada.Text_IO.Put_Line (Projection'Image);"
   ]
  },
  {
   "cell_type": "markdown",
   "metadata": {},
   "source": [
    "### Агрегаты контейнеров\n",
    "\n",
    "Реализация не попала в GNAT CE 2020. Будет выглядеть, как:\n",
    "```ada\n",
    "package Stacks is\n",
    "   type Stack is private\n",
    "     with Aggregate => (Empty => Empty_Stack, Add_Unnamed => Push);\n",
    "\n",
    "   function Empty_Stack return Stack;\n",
    "\n",
    "   procedure Push (Self : Stack; Value : Integer);\n",
    "private\n",
    "   type Integer_Array is array (Positive range <>) of Integer;\n",
    "   type Stack is record\n",
    "      Last : Natural := 0;\n",
    "      Data : Integer_Array (1 .. 10);\n",
    "   end record;\n",
    "end Stacks;\n",
    "                                \n",
    "package body Stacks is\n",
    "\n",
    "   function Empty_Stack return Stack is (Last => 0, Data => (others => <>));\n",
    "\n",
    "   procedure Push (Self : Stack; Value : Integer) is\n",
    "   begin\n",
    "      Self.Last := Self.Last + 1;\n",
    "      Self.Data (Self.Last) := Value;\n",
    "   end Push;\n",
    "\n",
    "end Stacks;\n",
    "                                                             \n",
    "S : Stacks.Stack := [1, 2, 3];\n",
    "```"
   ]
  },
  {
   "cell_type": "markdown",
   "metadata": {},
   "source": [
    "### Плюха @\n",
    "\n",
    "Вводится сокращение в операторах присваивания для обозначение левой части. Это сделано чтобы избежать дублирование кода и связанных с этим ошибок, когда левая часть очень длинная. В любом месте выражения справа от `:=` можно написать `@`. Вот илюстрация (довольно бессмысленная):"
   ]
  },
  {
   "cell_type": "code",
   "execution_count": 15,
   "metadata": {},
   "outputs": [
    {
     "data": {
      "text/plain": [
       ">      !   <\n"
      ]
     },
     "execution_count": 15,
     "metadata": {},
     "output_type": "execute_result"
    }
   ],
   "source": [
    "declare \n",
    "    Text : String (1 .. 10) := (others => ' ');\n",
    "    J    : Positive := 2;\n",
    "    K    : Positive := 1;\n",
    "begin\n",
    "    Text (10 - 2 * J + K / 3 + (K + J) / 2) := Character'Succ (@);\n",
    "    --  Here '@' replaces \"Text (10 - 2 * J + K / 3 + (K + J) / 2)\"\n",
    "    Ada.Text_IO.Put_Line (\">\" & Text & \"<\");\n",
    "end;"
   ]
  },
  {
   "cell_type": "markdown",
   "metadata": {},
   "source": [
    "## Исправления и прочее\n",
    "\n",
    "### Импорт С-функций с переменным числом аргументов\n",
    "\n",
    "Добавили совые соглашения о передаче параметров `Convention => C_Variadic_*`. Просто `C` использовать нельзя из-за \n",
    "[несовместимости ABI](https://stackoverflow.com/questions/35819037/variadic-function-in-ada-c-ada-binding/55305307#55305307):"
   ]
  },
  {
   "cell_type": "code",
   "execution_count": 16,
   "metadata": {},
   "outputs": [],
   "source": [
    "with Interfaces.C;"
   ]
  },
  {
   "cell_type": "code",
   "execution_count": 17,
   "metadata": {},
   "outputs": [],
   "source": [
    "procedure Printf (Format : in Interfaces.C.char_array; V : Interfaces.C.int)\n",
    "  with Import => True, Convention => C_Variadic_2, External_Name => \"printf\";"
   ]
  },
  {
   "cell_type": "code",
   "execution_count": 18,
   "metadata": {},
   "outputs": [
    {
     "data": {
      "text/plain": [
       "X=12"
      ]
     },
     "execution_count": 18,
     "metadata": {},
     "output_type": "execute_result"
    }
   ],
   "source": [
    "Printf (Interfaces.C.To_C(\"X=%d\"), 12);"
   ]
  }
 ],
 "metadata": {
  "kernelspec": {
   "display_name": "Ada",
   "language": "ada",
   "name": "ada"
  },
  "language_info": {
   "codemirror_mode": "ada",
   "file_extension": ".adb",
   "mimetype": "text/x-ada",
   "name": "Ada",
   "pygments_lexer": "ada",
   "version": "2012"
  }
 },
 "nbformat": 4,
 "nbformat_minor": 4
}
